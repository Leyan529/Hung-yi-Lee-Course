{
 "cells": [
  {
   "cell_type": "markdown",
   "id": "25b73459-6e19-4f6d-a926-be765745d107",
   "metadata": {},
   "source": [
    "# Homework 10 - Network Compression\n",
    "\n",
    "Author: Liang-Hsuan Tseng (b07502072@ntu.edu.tw), modified from ML2021-HW13\n",
    "\n",
    "If you have any questions, feel free to ask: ntu-ml-2022spring-ta@googlegroups.com\n",
    "\n",
    "[**Link to HW10 Slides**](https://docs.google.com/presentation/d/1nCT9XrInF21B4qQAWuODy5sonKDnpGhjtcAwqa75mVU/edit#slide=id.p)"
   ]
  },
  {
   "cell_type": "markdown",
   "id": "eae263f2-2308-4c43-8c75-3e008066d06b",
   "metadata": {},
   "source": [
    "## Outline\n",
    "\n",
    "* [Packages](#Packages) - intall some required packages.\n",
    "* [Dataset](#Dataset) - something you need to know about the dataset.\n",
    "* [Configs](#Configs) - the configs of the experiments, you can change some hyperparameters here.\n",
    "* [Architecture_Design](#Architecture_Design) - depthwise and pointwise convolution examples and some useful links.\n",
    "* [Knowledge_Distillation](#Knowledge_Distillation) - KL divergence loss for knowledge distillation and some useful links.\n",
    "* [Training](#Training) - training loop implementation modified from HW3.\n",
    "* [Inference](#Inference) - create submission.csv by using the student_best.ckpt from the previous experiment.\n",
    "\n"
   ]
  },
  {
   "cell_type": "markdown",
   "id": "a8493cfc-2a43-4f63-82a7-73f065854498",
   "metadata": {},
   "source": [
    "### Packages\n",
    "First, we need to import some useful packages. If the torchsummary package are not intalled, please install it via `pip install torchsummary`"
   ]
  },
  {
   "cell_type": "code",
   "execution_count": 1,
   "id": "62927789-800e-42bc-a6cb-a4438474a8e5",
   "metadata": {},
   "outputs": [],
   "source": [
    "# !pip install pandas\n",
    "# !pip install torchsummary"
   ]
  },
  {
   "cell_type": "code",
   "execution_count": 2,
   "id": "42a39c5f-e312-469e-9d67-e9681289e945",
   "metadata": {},
   "outputs": [],
   "source": [
    "# Import some useful packages for this homework\n",
    "import numpy as np\n",
    "import pandas as pd\n",
    "import torch\n",
    "import os\n",
    "import torch.nn as nn\n",
    "import torch.nn.functional as F\n",
    "import torchvision.transforms as transforms\n",
    "from PIL import Image\n",
    "from torch.utils.data import ConcatDataset, DataLoader, Subset, Dataset # \"ConcatDataset\" and \"Subset\" are possibly useful\n",
    "from torchvision.datasets import DatasetFolder, VisionDataset\n",
    "from torchsummary import summary\n",
    "from tqdm.auto import tqdm\n",
    "import random\n",
    "import inspect\n",
    "\n",
    "# !nvidia-smi # list your current GPU"
   ]
  },
  {
   "cell_type": "markdown",
   "id": "3ae7fbf8-42ca-47bc-b3a0-2251c859bb6c",
   "metadata": {},
   "source": [
    "### Configs\n",
    "In this part, you can specify some variables and hyperparameters as your configs."
   ]
  },
  {
   "cell_type": "code",
   "execution_count": 3,
   "id": "d3f11728-8c6d-49e0-b515-344be9ac7935",
   "metadata": {},
   "outputs": [
    {
     "name": "stdout",
     "output_type": "stream",
     "text": [
      "{'dataset_root': './food11-hw13', 'save_dir': './outputs', 'exp_name': 'simple_baseline', 'batch_size': 64, 'lr': 0.0002, 'seed': 20220013, 'loss_fn_type': 'KD', 'weight_decay': 2e-05, 'grad_norm_max': 10, 'n_epochs': 500, 'patience': 100}\n",
      "def seed(myseed):\n",
      "    torch.backends.cudnn.deterministic = True\n",
      "    torch.backends.cudnn.benchmark = False\n",
      "    np.random.seed(myseed)\n",
      "    torch.manual_seed(myseed)\n",
      "    random.seed(myseed)\n",
      "    if torch.cuda.is_available():\n",
      "        torch.cuda.manual_seed_all(myseed)\n",
      "\n"
     ]
    }
   ],
   "source": [
    "from main import cfg\n",
    "print(cfg)\n",
    "\n",
    "from utils import seed\n",
    "lines = inspect.getsource(seed)\n",
    "print(lines)"
   ]
  },
  {
   "cell_type": "code",
   "execution_count": 4,
   "id": "f1ebe815-4b87-4091-a83b-9889f846d1f2",
   "metadata": {},
   "outputs": [
    {
     "name": "stdout",
     "output_type": "stream",
     "text": [
      "{'dataset_root': './food11-hw13', 'save_dir': './outputs', 'exp_name': 'simple_baseline', 'batch_size': 64, 'lr': 0.0002, 'seed': 20220013, 'loss_fn_type': 'KD', 'weight_decay': 2e-05, 'grad_norm_max': 10, 'n_epochs': 500, 'patience': 100}\n"
     ]
    }
   ],
   "source": [
    "myseed = cfg['seed']  # set a random seed for reproducibility\n",
    "\n",
    "save_path = os.path.join(cfg['save_dir'], cfg['exp_name']) # create saving directory\n",
    "os.makedirs(save_path, exist_ok=True)\n",
    "\n",
    "# define simple logging functionality\n",
    "log_fw = open(f\"{save_path}/log.txt\", 'w') # open log file to save log outputs\n",
    "def log(text):     # define a logging function to trace the training process\n",
    "    print(text)\n",
    "    log_fw.write(str(text)+'\\n')\n",
    "    log_fw.flush()\n",
    "\n",
    "log(cfg)  # log your configs to the log file"
   ]
  },
  {
   "cell_type": "markdown",
   "id": "5a32b173-09f0-48c1-8206-b01bd6a6ebff",
   "metadata": {},
   "source": [
    "### Dataset\n",
    "We use Food11 dataset for this homework, which is similar to homework3. But remember, Please DO NOT utilize the dataset of HW3. We've modified the dataset, so you should only access the dataset by loading it in this kaggle notebook or through the links provided in the HW13 colab notebooks."
   ]
  },
  {
   "cell_type": "code",
   "execution_count": 5,
   "id": "3fc49b1e-2dba-43a0-a35f-3c213488d80d",
   "metadata": {},
   "outputs": [],
   "source": [
    "# fetch and download the dataset from github (about 1.12G)\n",
    "# !wget https://github.com/virginiakm1988/ML2022-Spring/raw/main/HW13/food11-hw13.tar.gz \n",
    "## backup links:\n",
    "\n",
    "# !wget https://github.com/andybi7676/ml2022spring-hw13/raw/main/food11-hw13.tar.gz -O food11-hw13.tar.gz\n",
    "# !gdown '1ijKoNmpike_yjUw8SWRVVWVoMOXXqycj' --output food11-hw13.tar.gz"
   ]
  },
  {
   "cell_type": "code",
   "execution_count": 6,
   "id": "99af65fd-b85b-44c7-a5ed-62c7a4349920",
   "metadata": {},
   "outputs": [],
   "source": [
    "# extract the data\n",
    "# !tar -xzf ./food11-hw13.tar.gz # Could take some time\n",
    "# !tar -xzvf ./food11-hw13.tar.gz # use this command if you want to checkout the whole process."
   ]
  },
  {
   "cell_type": "code",
   "execution_count": null,
   "id": "7741dddc",
   "metadata": {},
   "outputs": [
    {
     "name": "stdout",
     "output_type": "stream",
     "text": [
      "./food11-hw13: 1 files.\n",
      "./food11-hw13/validation: 3430 files.\n",
      "./food11-hw13/evaluation: 3347 files.\n",
      "./food11-hw13/training: 9866 files.\n"
     ]
    }
   ],
   "source": [
    "for dirname, _, filenames in os.walk('./food11-hw13'):\n",
    "    if len(filenames) > 0:\n",
    "        print(f\"{dirname}: {len(filenames)} files.\") # Show the file amounts in each split."
   ]
  },
  {
   "cell_type": "markdown",
   "id": "5aeec186-7328-4583-a935-24f7528f3245",
   "metadata": {},
   "source": [
    "Next, specify train/test transform for image data augmentation.\n",
    "Torchvision provides lots of useful utilities for image preprocessing, data wrapping as well as data augmentation.\n",
    "\n",
    "Please refer to [PyTorch official website](https://pytorch.org/vision/stable/transforms.html) for details about different transforms. You can also apply the knowledge or experience you learned in HW3."
   ]
  },
  {
   "cell_type": "code",
   "execution_count": 8,
   "id": "cd0be802-d330-4bcf-9748-59877c8cc55c",
   "metadata": {},
   "outputs": [
    {
     "name": "stdout",
     "output_type": "stream",
     "text": [
      "Normalize(mean=[0.485, 0.456, 0.406], std=[0.229, 0.224, 0.225])\n",
      "Compose(\n",
      "    Resize(size=256, interpolation=bilinear, max_size=None, antialias=None)\n",
      "    CenterCrop(size=(224, 224))\n",
      "    ToTensor()\n",
      "    Normalize(mean=[0.485, 0.456, 0.406], std=[0.229, 0.224, 0.225])\n",
      ")\n",
      "Compose(\n",
      "    Resize(size=256, interpolation=bilinear, max_size=None, antialias=None)\n",
      "    CenterCrop(size=(224, 224))\n",
      "    RandomHorizontalFlip(p=0.5)\n",
      "    ColorJitter(brightness=(0.5, 0.9), contrast=None, saturation=None, hue=None)\n",
      "    ColorJitter(brightness=None, contrast=(0.5, 0.9), saturation=None, hue=None)\n",
      "    ColorJitter(brightness=None, contrast=None, saturation=(0.5, 0.9), hue=None)\n",
      "    ColorJitter(brightness=None, contrast=None, saturation=None, hue=(-0.2, 0.2))\n",
      "    ToTensor()\n",
      "    Normalize(mean=[0.485, 0.456, 0.406], std=[0.229, 0.224, 0.225])\n",
      ")\n"
     ]
    }
   ],
   "source": [
    "# normalize = transforms.Normalize(mean=[0.485, 0.456, 0.406], std=[0.229, 0.224, 0.225])\n",
    "# # define training/testing transforms\n",
    "# test_tfm = transforms.Compose([\n",
    "#     # It is not encouraged to modify this part if you are using the provided teacher model. This transform is stardard and good enough for testing.\n",
    "#     transforms.Resize(256),\n",
    "#     transforms.CenterCrop(224),\n",
    "#     transforms.ToTensor(),\n",
    "#     normalize,\n",
    "# ])\n",
    "\n",
    "# train_tfm = transforms.Compose([\n",
    "#     # add some useful transform or augmentation here, according to your experience in HW3.\n",
    "#     transforms.Resize(256),  # You can change this\n",
    "#     transforms.CenterCrop(224), # You can change this, but be aware of that the given teacher model's input size is 224.\n",
    "#     # The training input size of the provided teacher model is (3, 224, 224).\n",
    "#     # Thus, Input size other then 224 might hurt the performance. please be careful.\n",
    "#     transforms.RandomHorizontalFlip(), # You can change this.\n",
    "#     transforms.ToTensor(),\n",
    "#     normalize,\n",
    "# ])\n",
    "\n",
    "from dataset import normalize, test_tfm, train_tfm\n",
    "print(normalize)\n",
    "print(test_tfm)\n",
    "print(train_tfm)"
   ]
  },
  {
   "cell_type": "code",
   "execution_count": 9,
   "id": "0fa58b4e-061c-4814-bd8a-8c298628832c",
   "metadata": {},
   "outputs": [
    {
     "name": "stdout",
     "output_type": "stream",
     "text": [
      "class FoodDataset(Dataset):\n",
      "    def __init__(self, path, tfm=test_tfm, files = None):\n",
      "        super().__init__()\n",
      "        self.path = path\n",
      "        self.files = sorted([os.path.join(path,x) for x in os.listdir(path) if x.endswith(\".jpg\")])\n",
      "        if files != None:\n",
      "            self.files = files\n",
      "        print(f\"One {path} sample\",self.files[0])\n",
      "        self.transform = tfm\n",
      "  \n",
      "    def __len__(self):\n",
      "        return len(self.files)\n",
      "  \n",
      "    def __getitem__(self,idx):\n",
      "        fname = self.files[idx]\n",
      "        im = Image.open(fname)\n",
      "        im = self.transform(im)\n",
      "        try:\n",
      "            label = int(fname.split(\"/\")[-1].split(\"_\")[0])\n",
      "        except:\n",
      "            label = -1 # test has no label\n",
      "        return im,label\n",
      "\n"
     ]
    }
   ],
   "source": [
    "from dataset import FoodDataset\n",
    "lines = inspect.getsource(FoodDataset)\n",
    "print(lines)    "
   ]
  },
  {
   "cell_type": "code",
   "execution_count": 10,
   "id": "205b1875-9953-4ea7-842c-12a74660257c",
   "metadata": {},
   "outputs": [
    {
     "name": "stdout",
     "output_type": "stream",
     "text": [
      "def get_dataset(cfg):        \n",
      "    # Form train/valid dataloaders\n",
      "    train_set = FoodDataset(os.path.join(cfg['dataset_root'],\"training\"), tfm=train_tfm)\n",
      "    train_loader = DataLoader(train_set, batch_size=cfg['batch_size'], shuffle=True, num_workers=0, pin_memory=True)\n",
      "\n",
      "    valid_set = FoodDataset(os.path.join(cfg['dataset_root'], \"validation\"), tfm=test_tfm)\n",
      "    valid_loader = DataLoader(valid_set, batch_size=cfg['batch_size'], shuffle=False, num_workers=0, pin_memory=True)\n",
      "\n",
      "    return train_loader, valid_loader\n",
      "\n",
      "One ./food11-hw13/training sample ./food11-hw13/training/0_0.jpg\n",
      "One ./food11-hw13/validation sample ./food11-hw13/validation/0_0.jpg\n"
     ]
    }
   ],
   "source": [
    "from dataset import get_dataset\n",
    "lines = inspect.getsource(get_dataset)\n",
    "print(lines) \n",
    "\n",
    "train_loader, valid_loader = get_dataset(cfg)"
   ]
  },
  {
   "cell_type": "markdown",
   "id": "c345d3cf-36d3-4217-a109-c8a9d5b0d8d7",
   "metadata": {},
   "source": [
    "### Architecture_Design\n",
    "\n",
    "In this homework, you have to design a smaller network and make it perform well. Apparently, a well-designed architecture is crucial for such task. Here, we introduce the depthwise and pointwise convolution. These variants of convolution are some common techniques for architecture design when it comes to network compression.\n",
    "\n",
    "<img src=\"https://i.imgur.com/LFDKHOp.png\" width=400px>\n",
    "\n",
    "* explanation of depthwise and pointwise convolutions:\n",
    "    * [prof. Hung-yi Lee's slides(p.24~p.30, especially p.28)](https://speech.ee.ntu.edu.tw/~hylee/ml/ml2021-course-data/tiny_v7.pdf)"
   ]
  },
  {
   "cell_type": "markdown",
   "id": "be65a455-a272-4a1e-aad4-831a4cab7ee4",
   "metadata": {},
   "source": [
    "## **Depthwise & Pointwise Convolution**\n",
    "![](https://i.imgur.com/FBgcA0s.png)\n",
    "> Blue: the connection between layers \\\n",
    "> Green: the expansion of **receptive field** \\\n",
    "> (reference: arxiv:1810.04231)\n",
    "(a) normal convolution layer: It is fully connected. The difference between fully connected layer and fully connected convolution layer is the operation. (multiply --> convolution)\n",
    "(b) Depthwise convolution layer(DW): You can consider each feature map pass through their own filter and then pass through pointwise convolution layer(PW) to combine the information of all pixels in feature maps.\n",
    "(c) Group convolution layer(GC): Group the feature maps. Each group passes their filter then concate together. If group_size = input_feature_size, then GC becomes DC (channels are independent). If group_size = 1, then GC becomes fully connected.\n",
    "<img src=\"https://i.imgur.com/Hqhg0Q9.png\" width=\"500px\">"
   ]
  },
  {
   "cell_type": "markdown",
   "id": "1bcd71ce-131e-4b59-945e-973bfa7c8be4",
   "metadata": {},
   "source": [
    "## **Implementation details**\n",
    "```python\n",
    "# Regular Convolution, # of params = in_chs * out_chs * kernel_size^2\n",
    "nn.Conv2d(in_chs, out_chs, kernel_size, stride, padding)\n",
    "# Group Convolution, \"groups\" controls the connections between inputs and\n",
    "# outputs. in_chs and out_chs must both be divisible by groups.\n",
    "nn.Conv2d(in_chs, out_chs, kernel_size, stride, padding, groups=groups)\n",
    "# Depthwise Convolution, out_chs=in_chs=groups, # of params = in_chs * kernel_size^2\n",
    "nn.Conv2d(in_chs, out_chs=in_chs, kernel_size, stride, padding, groups=in_chs)\n",
    "# Pointwise Convolution, a.k.a 1 by 1 convolution, # of params = in_chs * out_chs\n",
    "nn.Conv2d(in_chs, out_chs, 1)\n",
    "# Merge Depthwise and Pointwise Convolution (without )\n",
    "def dwpw_conv(in_chs, out_chs, kernel_size, stride, padding):\n",
    "    return nn.Sequential(\n",
    "        nn.Conv2d(in_chs, in_chs, kernels, stride, padding, groups=in_chs),\n",
    "        nn.Conv2d(in_chs, out_chs, 1),\n",
    "    )\n",
    "```"
   ]
  },
  {
   "cell_type": "markdown",
   "id": "eb9c10d7-8faf-4a62-87f5-7d11d58f4ac6",
   "metadata": {},
   "source": [
    "* other useful techniques\n",
    "    * [group convolution](https://www.researchgate.net/figure/The-transformations-within-a-layer-in-DenseNets-left-and-CondenseNets-at-training-time_fig2_321325862) (Actually, depthwise convolution is a specific type of group convolution)\n",
    "    * [SqueezeNet](!https://arxiv.org/abs/1602.07360)\n",
    "    * [MobileNet](!https://arxiv.org/abs/1704.04861)\n",
    "    * [ShuffleNet](!https://arxiv.org/abs/1707.01083)\n",
    "    * [Xception](!https://arxiv.org/abs/1610.02357)\n",
    "    * [GhostNet](!https://arxiv.org/abs/1911.11907)\n"
   ]
  },
  {
   "cell_type": "markdown",
   "id": "d7e36f3a-29c2-4b0c-a184-695be1e1ac97",
   "metadata": {},
   "source": [
    "After introducing depthwise and pointwise convolutions, let's define the **student network architecture**. Here, we have a very simple network formed by some regular convolution layers and pooling layers. You can replace the regular convolution layers with the depthwise and pointwise convolutions. In this way, you can further increase the depth or the width of your network architecture."
   ]
  },
  {
   "cell_type": "code",
   "execution_count": 11,
   "id": "c84cb91a-2305-45b3-b0e1-dc23d79fc5b0",
   "metadata": {},
   "outputs": [],
   "source": [
    "# Define your student network here. You have to copy-paste this code block to HW13 GradeScope before deadline.\n",
    "# We will use your student network definition to evaluate your results(including the total parameter amount).\n",
    "\n",
    "# baseline / Medium\n",
    "class StudentNet(nn.Module):\n",
    "    def __init__(self):\n",
    "        super().__init__()\n",
    "\n",
    "        # ---------- TODO ----------\n",
    "        # Modify your model architecture\n",
    "\n",
    "        self.cnn = nn.Sequential(\n",
    "            nn.Conv2d(3, 32, 3), \n",
    "            nn.BatchNorm2d(32),\n",
    "            nn.ReLU(),\n",
    "            nn.Conv2d(32, 32, 3),    \n",
    "            nn.BatchNorm2d(32),\n",
    "            nn.ReLU(),\n",
    "            nn.MaxPool2d(2, 2, 0),         \n",
    "\n",
    "            nn.Conv2d(32, 64, 3), \n",
    "            nn.BatchNorm2d(64),\n",
    "            nn.ReLU(),\n",
    "            nn.MaxPool2d(2, 2, 0),         \n",
    "\n",
    "            nn.Conv2d(64, 100, 3), \n",
    "            nn.BatchNorm2d(100),\n",
    "            nn.ReLU(),\n",
    "            nn.MaxPool2d(2, 2, 0),\n",
    "\n",
    "            # Here we adopt Global Average Pooling for various input size.\n",
    "            nn.AdaptiveAvgPool2d((1, 1)),\n",
    "        )\n",
    "        self.fc = nn.Sequential(\n",
    "            nn.Linear(100, 11),\n",
    "        )\n",
    "\n",
    "    def forward(self, x):\n",
    "        out = self.cnn(x)\n",
    "        out = out.view(out.size()[0], -1)\n",
    "        return self.fc(out)\n",
    "    \n",
    "# Strong\n",
    "class StudentNet(nn.Module):\n",
    "    def __init__(self):\n",
    "        super(StudentNet, self).__init__()\n",
    "\n",
    "        # ---------- TODO ----------\n",
    "        # Modify your model architecture\n",
    "\n",
    "        self.cnn = nn.Sequential(\n",
    "          nn.Conv2d(3, 3, 3, stride = 1, padding = 1, groups = 3), \n",
    "          nn.Conv2d(3, 64, 1),\n",
    "          nn.BatchNorm2d(64),\n",
    "          nn.ReLU(),\n",
    "\n",
    "          nn.Conv2d(64, 64, 3, stride = 1, padding = 1, groups = 64), \n",
    "          nn.Conv2d(64, 64, 1),\n",
    "          nn.BatchNorm2d(64),\n",
    "          nn.ReLU(),\n",
    "          nn.MaxPool2d(2, 2, 0),\n",
    "\n",
    "          nn.Conv2d(64, 64, 3, stride = 1, padding = 1, groups = 64), \n",
    "          nn.Conv2d(64, 64, 1),\n",
    "          nn.BatchNorm2d(64),\n",
    "          nn.ReLU(),\n",
    "          nn.MaxPool2d(2, 2, 0), \n",
    "\n",
    "          nn.Conv2d(64, 64, 3, stride = 1, padding = 1, groups = 64), \n",
    "          nn.Conv2d(64, 128, 1),\n",
    "          nn.BatchNorm2d(128),\n",
    "          nn.ReLU(),\n",
    "          nn.MaxPool2d(2, 2, 0), \n",
    "\n",
    "          nn.Conv2d(128, 128, 3, stride = 1, padding = 1, groups = 128), \n",
    "          nn.Conv2d(128, 128, 1),\n",
    "          nn.BatchNorm2d(128),\n",
    "          nn.ReLU(),\n",
    "          nn.MaxPool2d(2, 2, 0), \n",
    "\n",
    "          nn.Conv2d(128, 128, 3, stride = 1, padding = 1, groups = 128), \n",
    "          nn.Conv2d(128, 256, 1),\n",
    "          nn.BatchNorm2d(256),\n",
    "          nn.ReLU(),\n",
    "          nn.MaxPool2d(2, 2, 0),\n",
    "\n",
    "              \n",
    "\n",
    "          # Here we adopt Global Average Pooling for various input size.\n",
    "          nn.AdaptiveAvgPool2d((1, 1)),\n",
    "          \n",
    "      )\n",
    "        self.fc = nn.Sequential(\n",
    "          nn.Linear(256, 11),\n",
    "        )\n",
    "      \n",
    "    def forward(self, x):\n",
    "        out = self.cnn(x)\n",
    "        out = out.view(out.size()[0], -1)\n",
    "        # print(out.size())\n",
    "        return self.fc(out)\n",
    "    \n",
    "class StudentDWPW_Net(nn.Module):\n",
    "    def __init__(self):\n",
    "        super().__init__()\n",
    "\n",
    "        # ---------- TODO ----------\n",
    "        # Modify your model architecture\n",
    "\n",
    "        self.cnn = nn.Sequential(\n",
    "            dwpw_conv(3, 32, 3), \n",
    "            nn.BatchNorm2d(32),\n",
    "            nn.ReLU(),\n",
    "            dwpw_conv(32, 32, 3),    \n",
    "            nn.BatchNorm2d(32),\n",
    "            nn.ReLU(),\n",
    "            nn.MaxPool2d(2, 2, 0),         \n",
    "\n",
    "            dwpw_conv(32, 64, 3), \n",
    "            nn.BatchNorm2d(64),\n",
    "            nn.ReLU(),\n",
    "            nn.MaxPool2d(2, 2, 0),         \n",
    "\n",
    "            dwpw_conv(64, 100, 3), \n",
    "            nn.BatchNorm2d(100),\n",
    "            nn.ReLU(),\n",
    "            nn.MaxPool2d(2, 2, 0),\n",
    "\n",
    "            # Here we adopt Global Average Pooling for various input size.\n",
    "            nn.AdaptiveAvgPool2d((1, 1)),\n",
    "        )\n",
    "        self.fc = nn.Sequential(\n",
    "            nn.Linear(100, 11),\n",
    "        )\n",
    "\n",
    "    def forward(self, x):\n",
    "        out = self.cnn(x)\n",
    "        out = out.view(out.size()[0], -1)\n",
    "        return self.fc(out)    \n",
    "\n",
    "def get_student_model(): # This function should have no arguments so that we can get your student network by directly calling it.\n",
    "    # you can modify or do anything here, just remember to return an nn.Module as your student network.    \n",
    "    return StudentNet() \n",
    "    # return StudentDWPW_Net() \n",
    "\n",
    "# End of definition of your student model and the get_student_model API\n",
    "# Please copy-paste the whole code block, including the get_student_model function."
   ]
  },
  {
   "cell_type": "markdown",
   "id": "d48c9f80-6076-46c2-86ad-621bdc310339",
   "metadata": {},
   "source": [
    "After specifying the student network architecture, please use `torchsummary` package to get information about the network and verify the total number of parameters. Note that the total params of your student network should not exceed the limit (`Total params` in `torchsummary` ≤ 100,000). "
   ]
  },
  {
   "cell_type": "code",
   "execution_count": 12,
   "id": "eb3bc740-148f-4ce3-ba64-39f9a451e3a2",
   "metadata": {},
   "outputs": [
    {
     "name": "stdout",
     "output_type": "stream",
     "text": [
      "----------------------------------------------------------------\n",
      "        Layer (type)               Output Shape         Param #\n",
      "================================================================\n",
      "            Conv2d-1          [-1, 3, 224, 224]              30\n",
      "            Conv2d-2         [-1, 64, 224, 224]             256\n",
      "       BatchNorm2d-3         [-1, 64, 224, 224]             128\n",
      "              ReLU-4         [-1, 64, 224, 224]               0\n",
      "            Conv2d-5         [-1, 64, 224, 224]             640\n",
      "            Conv2d-6         [-1, 64, 224, 224]           4,160\n",
      "       BatchNorm2d-7         [-1, 64, 224, 224]             128\n",
      "              ReLU-8         [-1, 64, 224, 224]               0\n",
      "         MaxPool2d-9         [-1, 64, 112, 112]               0\n",
      "           Conv2d-10         [-1, 64, 112, 112]             640\n",
      "           Conv2d-11         [-1, 64, 112, 112]           4,160\n",
      "      BatchNorm2d-12         [-1, 64, 112, 112]             128\n",
      "             ReLU-13         [-1, 64, 112, 112]               0\n",
      "        MaxPool2d-14           [-1, 64, 56, 56]               0\n",
      "           Conv2d-15           [-1, 64, 56, 56]             640\n",
      "           Conv2d-16          [-1, 128, 56, 56]           8,320\n",
      "      BatchNorm2d-17          [-1, 128, 56, 56]             256\n",
      "             ReLU-18          [-1, 128, 56, 56]               0\n",
      "        MaxPool2d-19          [-1, 128, 28, 28]               0\n",
      "           Conv2d-20          [-1, 128, 28, 28]           1,280\n",
      "           Conv2d-21          [-1, 128, 28, 28]          16,512\n",
      "      BatchNorm2d-22          [-1, 128, 28, 28]             256\n",
      "             ReLU-23          [-1, 128, 28, 28]               0\n",
      "        MaxPool2d-24          [-1, 128, 14, 14]               0\n",
      "           Conv2d-25          [-1, 128, 14, 14]           1,280\n",
      "           Conv2d-26          [-1, 256, 14, 14]          33,024\n",
      "      BatchNorm2d-27          [-1, 256, 14, 14]             512\n",
      "             ReLU-28          [-1, 256, 14, 14]               0\n",
      "        MaxPool2d-29            [-1, 256, 7, 7]               0\n",
      "AdaptiveAvgPool2d-30            [-1, 256, 1, 1]               0\n",
      "           Linear-31                   [-1, 11]           2,827\n",
      "================================================================\n",
      "Total params: 75,177\n",
      "Trainable params: 75,177\n",
      "Non-trainable params: 0\n",
      "----------------------------------------------------------------\n",
      "Input size (MB): 0.57\n",
      "Forward/backward pass size (MB): 220.98\n",
      "Params size (MB): 0.29\n",
      "Estimated Total Size (MB): 221.84\n",
      "----------------------------------------------------------------\n"
     ]
    }
   ],
   "source": [
    "# DO NOT modify this block and please make sure that this block can run sucessfully. \n",
    "student_model = get_student_model()\n",
    "summary(student_model, (3, 224, 224), device='cpu')\n",
    "# You have to copy&paste the results of this block to HW13 GradeScope. "
   ]
  },
  {
   "cell_type": "code",
   "execution_count": 13,
   "id": "f6d44772-564a-4c29-b7ce-24eb00e34abe",
   "metadata": {},
   "outputs": [
    {
     "name": "stderr",
     "output_type": "stream",
     "text": [
      "Using cache found in /home/leyan/.cache/torch/hub/pytorch_vision_v0.10.0\n",
      "/home/leyan/anaconda3/envs/torch_1_21/lib/python3.8/site-packages/torchvision/models/_utils.py:208: UserWarning: The parameter 'pretrained' is deprecated since 0.13 and will be removed in 0.15, please use 'weights' instead.\n",
      "  warnings.warn(\n",
      "/home/leyan/anaconda3/envs/torch_1_21/lib/python3.8/site-packages/torchvision/models/_utils.py:223: UserWarning: Arguments other than a weight enum or `None` for 'weights' are deprecated since 0.13 and will be removed in 0.15. The current behavior is equivalent to passing `weights=None`.\n",
      "  warnings.warn(msg)\n"
     ]
    },
    {
     "data": {
      "text/plain": [
       "<All keys matched successfully>"
      ]
     },
     "execution_count": 13,
     "metadata": {},
     "output_type": "execute_result"
    }
   ],
   "source": [
    "# Load provided teacher model (model architecture: resnet18, num_classes=11, test-acc ~= 89.9%)\n",
    "teacher_model = torch.hub.load('pytorch/vision:v0.10.0', 'resnet18', pretrained=False, num_classes=11)\n",
    "# load state dict\n",
    "teacher_ckpt_path = os.path.join(cfg['dataset_root'], \"resnet18_teacher.ckpt\")\n",
    "teacher_model.load_state_dict(torch.load(teacher_ckpt_path, map_location='cpu'))\n",
    "# Now you already know the teacher model's architecture. You can take advantage of it if you want to pass the strong or boss baseline. \n",
    "# Source code of resnet in pytorch: (https://github.com/pytorch/vision/blob/main/torchvision/models/resnet.py)\n",
    "# You can also see the summary of teacher model. There are 11,182,155 parameters totally in the teacher model\n",
    "# summary(teacher_model, (3, 224, 224), device='cpu')"
   ]
  },
  {
   "cell_type": "markdown",
   "id": "ff251bf2-05b9-4027-8cba-1fac99ab8944",
   "metadata": {},
   "source": [
    "### Knowledge_Distillation\n",
    "\n",
    "<img src=\"https://i.imgur.com/H2aF7Rv.png=100x\" width=\"400px\">\n",
    "\n",
    "Since we have a learned big model, let it teach the other small model. In implementation, let the training target be the prediction of big model instead of the ground truth.\n",
    "\n",
    "**Why it works?**\n",
    "* If the data is not clean, then the prediction of big model could ignore the noise of the data with wrong labeled.\n",
    "* There might have some relations between classes, so soft labels from teacher model might be useful. For example, Number 8 is more similar to 6, 9, 0 than 1, 7.\n",
    "\n",
    "\n",
    "**How to implement?**\n",
    "* $Loss = \\alpha T^2 \\times KL(p || q) + (1-\\alpha)(\\text{Original Cross Entropy Loss}), \\text{where } p=softmax(\\frac{\\text{student's logits}}{T}), \\text{and } q=softmax(\\frac{\\text{teacher's logits}}{T})$\n",
    "* very useful link: [pytorch docs of KLDivLoss with examples](!https://pytorch.org/docs/stable/generated/torch.nn.KLDivLoss.html)\n",
    "* original paper: [Distilling the Knowledge in a Neural Network](!https://arxiv.org/abs/1503.02531)"
   ]
  },
  {
   "cell_type": "code",
   "execution_count": 14,
   "id": "50fc3672-2c7e-49ef-901b-cd0a9ef94851",
   "metadata": {},
   "outputs": [],
   "source": [
    "# Implement the loss function with KL divergence loss for knowledge distillation.\n",
    "# You also have to copy-paste this whole block to HW13 GradeScope. \n",
    "def loss_fn_kd(student_logits, labels, teacher_logits, alpha=0.5, temperature=32):\n",
    "    # ------------TODO-------------\n",
    "    # Refer to the above formula and finish the loss function for knowkedge distillation using KL divergence loss and CE loss.\n",
    "    # If you have no idea, please take a look at the provided useful link above.\n",
    "    kl_loss = nn.KLDivLoss(reduction=\"batchmean\")\n",
    "    ce_loss = nn.CrossEntropyLoss()\n",
    "    \n",
    "    return alpha * pow(temperature, 2) * kl_loss(F.log_softmax(student_logits/temperature, dim=1), \\\n",
    "                                                 F.softmax(teacher_logits/temperature, dim=1)) + \\\n",
    "                                        (1-alpha)*ce_loss(student_logits, labels)\n",
    "    # pass\n",
    "    \n",
    "# You can also adopt other types of knowledge distillation techniques for strong and boss baseline, but use function name other than `loss_fn_kd`\n",
    "# For example:\n",
    "def loss_fn_custom_kd():\n",
    "    pass    "
   ]
  },
  {
   "cell_type": "code",
   "execution_count": 15,
   "id": "6fe688d7-26a0-4d29-bdfc-513c97207950",
   "metadata": {},
   "outputs": [
    {
     "name": "stdout",
     "output_type": "stream",
     "text": [
      "device: cuda\n"
     ]
    }
   ],
   "source": [
    "# choose the loss function by the config\n",
    "if cfg['loss_fn_type'] == 'CE':\n",
    "    # For the classification task, we use cross-entropy as the default loss function.\n",
    "    loss_fn = nn.CrossEntropyLoss() # loss function for simple baseline.\n",
    "\n",
    "if cfg['loss_fn_type'] == 'KD': # KD stands for knowledge distillation\n",
    "    loss_fn = loss_fn_kd # implement loss_fn_kd for the report question and the medium baseline.\n",
    "\n",
    "if cfg['loss_fn_type'] == 'custom_kd':\n",
    "    loss_fn = loss_fn_custom_kd\n",
    "\n",
    "# \"cuda\" only when GPUs are available.\n",
    "device = \"cuda\" if torch.cuda.is_available() else \"cpu\"\n",
    "log(f\"device: {device}\")\n",
    "\n",
    "# The number of training epochs and patience.\n",
    "n_epochs = cfg['n_epochs']\n",
    "patience = cfg['patience'] # If no improvement in 'patience' epochs, early stop"
   ]
  },
  {
   "cell_type": "markdown",
   "id": "795dd4ea-6ad2-41bd-a814-ec6f0ed9a126",
   "metadata": {},
   "source": [
    "### Training\n",
    "implement training loop for simple baseline, feel free to modify it."
   ]
  },
  {
   "cell_type": "code",
   "execution_count": null,
   "id": "0790bace-0811-4411-98aa-527b4cdf5a6a",
   "metadata": {},
   "outputs": [],
   "source": [
    "# Initialize a model, and put it on the device specified.\n",
    "student_model.to(device)\n",
    "teacher_model.to(device) # MEDIUM BASELINE\n",
    "\n",
    "# Initialize optimizer, you may fine-tune some hyperparameters such as learning rate on your own.\n",
    "optimizer = torch.optim.Adam(student_model.parameters(), lr=cfg['lr'], weight_decay=cfg['weight_decay']) \n",
    "\n",
    "# Initialize trackers, these are not parameters and should not be changed\n",
    "stale = 0\n",
    "best_acc = 0.0\n",
    "\n",
    "teacher_model.eval()  # MEDIUM BASELINE\n",
    "for epoch in range(n_epochs):\n",
    "\n",
    "    # ---------- Training ----------\n",
    "    # Make sure the model is in train mode before training.\n",
    "    student_model.train()\n",
    "\n",
    "    # These are used to record information in training.\n",
    "    train_loss = []\n",
    "    train_accs = []\n",
    "    train_lens = []\n",
    "\n",
    "    for batch in tqdm(train_loader):\n",
    "\n",
    "        # A batch consists of image data and corresponding labels.\n",
    "        imgs, labels = batch\n",
    "        imgs = imgs.to(device)\n",
    "        labels = labels.to(device)\n",
    "        #imgs = imgs.half()\n",
    "        #print(imgs.shape,labels.shape)\n",
    "\n",
    "        # Forward the data. (Make sure data and model are on the same device.)\n",
    "        with torch.no_grad():  # MEDIUM BASELINE\n",
    "            teacher_logits = teacher_model(imgs)  # MEDIUM BASELINE\n",
    "        \n",
    "        logits = student_model(imgs)\n",
    "\n",
    "        # Calculate the cross-entropy loss.\n",
    "        # We don't need to apply softmax before computing cross-entropy as it is done automatically.\n",
    "        loss = loss_fn(logits, labels, teacher_logits) # MEDIUM BASELINE\n",
    "        # loss = loss_fn(logits, labels) # SIMPLE BASELINE\n",
    "        # Gradients stored in the parameters in the previous step should be cleared out first.\n",
    "        optimizer.zero_grad()\n",
    "\n",
    "        # Compute the gradients for parameters.\n",
    "        loss.backward()\n",
    "\n",
    "        # Clip the gradient norms for stable training.\n",
    "        grad_norm = nn.utils.clip_grad_norm_(student_model.parameters(), max_norm=cfg['grad_norm_max'])\n",
    "\n",
    "        # Update the parameters with computed gradients.\n",
    "        optimizer.step()\n",
    "\n",
    "        # Compute the accuracy for current batch.\n",
    "        acc = (logits.argmax(dim=-1) == labels).float().sum()\n",
    "\n",
    "        # Record the loss and accuracy.\n",
    "        train_batch_len = len(imgs)\n",
    "        train_loss.append(loss.item() * train_batch_len)\n",
    "        train_accs.append(acc)\n",
    "        train_lens.append(train_batch_len)\n",
    "        \n",
    "    train_loss = sum(train_loss) / sum(train_lens)\n",
    "    train_acc = sum(train_accs) / sum(train_lens)\n",
    "\n",
    "    # Print the information.\n",
    "    log(f\"[ Train | {epoch + 1:03d}/{n_epochs:03d} ] loss = {train_loss:.5f}, acc = {train_acc:.5f}\")\n",
    "\n",
    "    # ---------- Validation ----------\n",
    "    # Make sure the model is in eval mode so that some modules like dropout are disabled and work normally.\n",
    "    student_model.eval()\n",
    "\n",
    "    # These are used to record information in validation.\n",
    "    valid_loss = []\n",
    "    valid_accs = []\n",
    "    valid_lens = []\n",
    "\n",
    "    # Iterate the validation set by batches.\n",
    "    for batch in tqdm(valid_loader):\n",
    "\n",
    "        # A batch consists of image data and corresponding labels.\n",
    "        imgs, labels = batch\n",
    "        imgs = imgs.to(device)\n",
    "        labels = labels.to(device)\n",
    "\n",
    "        # We don't need gradient in validation.\n",
    "        # Using torch.no_grad() accelerates the forward process.\n",
    "        with torch.no_grad():\n",
    "            logits = student_model(imgs)\n",
    "            teacher_logits = teacher_model(imgs) # MEDIUM BASELINE\n",
    "\n",
    "        # We can still compute the loss (but not the gradient).\n",
    "        loss = loss_fn(logits, labels, teacher_logits) # MEDIUM BASELINE\n",
    "        # loss = loss_fn(logits, labels) # SIMPLE BASELINE\n",
    "\n",
    "        # Compute the accuracy for current batch.\n",
    "        acc = (logits.argmax(dim=-1) == labels).float().sum()\n",
    "\n",
    "        # Record the loss and accuracy.\n",
    "        batch_len = len(imgs)\n",
    "        valid_loss.append(loss.item() * batch_len)\n",
    "        valid_accs.append(acc)\n",
    "        valid_lens.append(batch_len)\n",
    "        #break\n",
    "\n",
    "    # The average loss and accuracy for entire validation set is the average of the recorded values.\n",
    "    valid_loss = sum(valid_loss) / sum(valid_lens)\n",
    "    valid_acc = sum(valid_accs) / sum(valid_lens)\n",
    "\n",
    "    # update logs\n",
    "    \n",
    "    if valid_acc > best_acc:\n",
    "        log(f\"[ Valid | {epoch + 1:03d}/{n_epochs:03d} ] loss = {valid_loss:.5f}, acc = {valid_acc:.5f} -> best\")\n",
    "    else:\n",
    "        log(f\"[ Valid | {epoch + 1:03d}/{n_epochs:03d} ] loss = {valid_loss:.5f}, acc = {valid_acc:.5f}\")\n",
    "\n",
    "\n",
    "    # save models\n",
    "    if valid_acc > best_acc:\n",
    "        log(f\"Best model found at epoch {epoch}, saving model\")\n",
    "        torch.save(student_model.state_dict(), f\"{save_path}/student_best.ckpt\") # only save best to prevent output memory exceed error\n",
    "        best_acc = valid_acc\n",
    "        stale = 0\n",
    "    else:\n",
    "        stale += 1\n",
    "        if stale > patience:\n",
    "            log(f\"No improvment {patience} consecutive epochs, early stopping\")\n",
    "            break\n",
    "log(\"Finish training\")\n",
    "log_fw.close()"
   ]
  },
  {
   "attachments": {
    "640af91c-85e3-419e-bb43-17c40f2e1fa9.png": {
     "image/png": "[encoded data removed]"
    },
    "ec088e87-66cc-463c-bf69-2174ccbe56db.png": {
     "image/png": "[encoded data removed]"
    }
   },
   "cell_type": "markdown",
   "id": "033fb556-8160-4360-bf52-e99451d5b81e",
   "metadata": {},
   "source": [
    "### baseline\n",
    "![image.png](attachment:ec088e87-66cc-463c-bf69-2174ccbe56db.png)\n",
    "\n",
    "### Medium\n",
    "![image.png](attachment:640af91c-85e3-419e-bb43-17c40f2e1fa9.png)"
   ]
  },
  {
   "cell_type": "code",
   "execution_count": null,
   "id": "921c56a4-74fe-4f13-85f6-ed953531e7dc",
   "metadata": {},
   "outputs": [],
   "source": []
  }
 ],
 "metadata": {
  "kernelspec": {
   "display_name": "torch_1_21",
   "language": "python",
   "name": "myenv"
  },
  "language_info": {
   "codemirror_mode": {
    "name": "ipython",
    "version": 3
   },
   "file_extension": ".py",
   "mimetype": "text/x-python",
   "name": "python",
   "nbconvert_exporter": "python",
   "pygments_lexer": "ipython3",
   "version": "3.8.13"
  }
 },
 "nbformat": 4,
 "nbformat_minor": 5
}
