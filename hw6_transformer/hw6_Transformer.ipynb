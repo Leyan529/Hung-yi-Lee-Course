{
 "cells": [
  {
   "cell_type": "markdown",
   "id": "b509af30-30eb-4a1b-bb6f-e21a1b4f8e37",
   "metadata": {},
   "source": [
    "# **Homework 6 - Transformer**\n",
    "\n",
    "若有任何問題，歡迎來信至助教信箱 ntu-ml-2021spring-ta@googlegroups.com"
   ]
  },
  {
   "cell_type": "markdown",
   "id": "d82db600-35db-42ff-baa0-c8550a920cce",
   "metadata": {},
   "source": [
    "### (4/21 Updates)\n",
    "1. Link to reference [training curves](https://wandb.ai/george0828zhang/hw5.seq2seq.new).\n",
    "\n",
    "### (4/14 Updates) \n",
    "1. Link to tutorial [video](https://youtu.be/htG5WpZVQPU).\n",
    "2. Now defaults to load `\"avg_last_5_checkpoint.pt\"` to generate prediction.\n",
    "3. Expected run time on Colab with Tesla T4\n",
    "\n",
    "|Baseline|Details|Total Time|\n",
    "|-|:-:|:-:|\n",
    "|Simple|2m 15s $\\times$30 epochs|1hr 8m|\n",
    "|Medium|4m $\\times$30 epochs|2hr|\n",
    "|Strong|8m $\\times$30 epochs (backward)<br>+1hr (back-translation)<br>+15m $\\times$30 epochs (forward)|12hr 30m|"
   ]
  },
  {
   "cell_type": "markdown",
   "id": "ea762191-a550-46b8-8e35-18026a28ad1a",
   "metadata": {},
   "source": [
    "# Sequence-to-Sequence 介紹\n",
    "- 大多數常見的 seq2seq model 為 encoder-decoder model，主要由兩個部分組成，分別是 encoder 和 decoder，而這兩個部可以使用 recurrent neural network (RNN)或 transformer 來實作，主要是用來解決輸入和輸出的長度不一樣的情況\n",
    "- **Encoder** 是將一連串的輸入，如文字、影片、聲音訊號等，編碼為單個向量，這單個向量可以想像為是整個輸入的抽象表示，包含了整個輸入的資訊\n",
    "- **Decoder** 是將 encoder 輸出的單個向量逐步解碼，一次輸出一個結果，直到將最後目標輸出被產生出來為止，每次輸出會影響下一次的輸出，一般會在開頭加入 \"< BOS >\" 來表示開始解碼，會在結尾輸出 \"< EOS >\" 來表示輸出結束\n",
    "\n",
    "\n",
    "![seq2seq](https://i.imgur.com/0zeDyuI.png)"
   ]
  },
  {
   "cell_type": "markdown",
   "id": "733f3f66-b976-4f36-bbd2-f58d23d49e61",
   "metadata": {},
   "source": [
    "# 作業介紹\n",
    "- 英文翻譯中文\n",
    "  - 輸入： 一句英文 （e.g.\t\ttom is a student .） \n",
    "  - 輸出： 中文翻譯 （e.g. \t\t湯姆 是 個 學生 。）\n",
    "\n",
    "- TODO\n",
    "  - 訓練一個 RNN 模型達到 Seq2seq 翻譯\n",
    "  - 訓練一個 Transformer 大幅提升效能\n",
    "  - 實作 Back-translation 大幅提升效能"
   ]
  },
  {
   "cell_type": "markdown",
   "id": "adab62a2-7738-46b7-beab-151c12bcf0b1",
   "metadata": {},
   "source": [
    "# 下載和引入需要的函式庫"
   ]
  },
  {
   "cell_type": "code",
   "execution_count": 1,
   "id": "19a85075-f535-494c-9049-51453e79fb06",
   "metadata": {},
   "outputs": [],
   "source": [
    "# !pip install 'torch>=1.6.0' editdistance matplotlib sacrebleu sacremoses sentencepiece tqdm wandb\n",
    "# !pip install --upgrade jupyter ipywidgets"
   ]
  },
  {
   "cell_type": "code",
   "execution_count": 2,
   "id": "3f75e2a3-f5ed-4e0c-a7c6-d04b94d5307f",
   "metadata": {},
   "outputs": [],
   "source": [
    "# !git clone https://github.com/pytorch/fairseq.git\n",
    "# !cd fairseq && git checkout 9a1c497\n",
    "# !pip install --upgrade ./fairseq/"
   ]
  },
  {
   "cell_type": "code",
   "execution_count": 2,
   "id": "a4f78d0c-9194-4cdd-b83f-ecbd4e45bfb5",
   "metadata": {},
   "outputs": [],
   "source": [
    "import sys\n",
    "import pdb\n",
    "import pprint\n",
    "import logging\n",
    "import os\n",
    "import random\n",
    "\n",
    "import torch\n",
    "import torch.nn as nn\n",
    "import torch.nn.functional as F\n",
    "from torch.utils import data\n",
    "import numpy as np\n",
    "# import tqdm.auto as tqdm\n",
    "# from tqdm.notebook import tqdm\n",
    "from tqdm import tqdm_notebook as tqdm\n",
    "from pathlib import Path\n",
    "from argparse import Namespace\n",
    "from fairseq import utils\n",
    "\n",
    "import matplotlib.pyplot as plt\n",
    "import inspect\n"
   ]
  },
  {
   "cell_type": "markdown",
   "id": "ac4a0349-208c-43ea-930c-5531dccbcf5a",
   "metadata": {},
   "source": [
    "# 設定種子"
   ]
  },
  {
   "cell_type": "code",
   "execution_count": 4,
   "id": "1c71c6d5-53fe-4b83-ac6d-7b88f78850f0",
   "metadata": {},
   "outputs": [],
   "source": [
    "seed = 73\n",
    "random.seed(seed)\n",
    "torch.manual_seed(seed)\n",
    "if torch.cuda.is_available():\n",
    "    torch.cuda.manual_seed(seed)\n",
    "    torch.cuda.manual_seed_all(seed)  \n",
    "np.random.seed(seed)  \n",
    "torch.backends.cudnn.benchmark = False\n",
    "torch.backends.cudnn.deterministic = True"
   ]
  },
  {
   "cell_type": "markdown",
   "id": "298b02d7-c417-40a6-96f2-9ef8ce28f1c5",
   "metadata": {},
   "source": [
    "# 資料集介紹\n",
    "\n",
    "## 英轉繁雙語資料\n",
    "* [TED2020](#reimers-2020-multilingual-sentence-bert)\n",
    "    - 原始資料量: 398,066句    \n",
    "    - 處理後資料: 393,980句\n",
    "    \n",
    "\n",
    "## 測試資料\n",
    "- 資料量: 4,000句\n",
    "- **中文部分不公開，提供的檔案為假翻譯，全部都是句點。**"
   ]
  },
  {
   "cell_type": "markdown",
   "id": "bc7a9f8d-ffd6-4b87-85ca-2ce03a6bfa7a",
   "metadata": {},
   "source": [
    "# 資料下載"
   ]
  },
  {
   "cell_type": "markdown",
   "id": "2d386408-3c65-4dc0-93d5-1739aa533ec3",
   "metadata": {},
   "source": [
    "### 安裝megatools (optional)"
   ]
  },
  {
   "cell_type": "code",
   "execution_count": 5,
   "id": "79526903-9c77-4e99-a37c-45cbb2be25b4",
   "metadata": {},
   "outputs": [],
   "source": [
    "# !apt-get install megatools"
   ]
  },
  {
   "cell_type": "markdown",
   "id": "0de5c408-4498-417d-8c34-ac07dcf0eea5",
   "metadata": {},
   "source": [
    "## 下載檔案並解壓縮"
   ]
  },
  {
   "cell_type": "code",
   "execution_count": 6,
   "id": "3fe682ef-8b74-4114-8d59-a485d85d4ff7",
   "metadata": {},
   "outputs": [
    {
     "name": "stdout",
     "output_type": "stream",
     "text": [
      "raw.en\n",
      "raw.zh\n",
      "test.en\n",
      "test.zh\n"
     ]
    }
   ],
   "source": [
    "data_dir = './DATA/rawdata'\n",
    "dataset_name = 'ted2020'\n",
    "urls = (\n",
    "    # '\"https://onedrive.live.com/download?cid=3E549F3B24B238B4&resid=3E549F3B24B238B4%214989&authkey=AGgQ-DaR8eFSl1A\"', \n",
    "    # '\"https://onedrive.live.com/download?cid=3E549F3B24B238B4&resid=3E549F3B24B238B4%214987&authkey=AA4qP_azsicwZZM\"',\n",
    "# # If the above links die, use the following instead. \n",
    "    \"https://www.csie.ntu.edu.tw/~r09922057/ML2021-hw5/ted2020.tgz\",\n",
    "    \"https://www.csie.ntu.edu.tw/~r09922057/ML2021-hw5/test.tgz\",\n",
    "# # If the above links die, use the following instead. \n",
    "#     \"https://mega.nz/#!vEcTCISJ!3Rw0eHTZWPpdHBTbQEqBDikDEdFPr7fI8WxaXK9yZ9U\",\n",
    "#     \"https://mega.nz/#!zNcnGIoJ!oPJX9AvVVs11jc0SaK6vxP_lFUNTkEcK2WbxJpvjU5Y\",\n",
    ")\n",
    "file_names = (\n",
    "    'ted2020.tgz', # train & dev\n",
    "    'test.tgz', # test\n",
    ")\n",
    "prefix = Path(data_dir).absolute() / dataset_name\n",
    "\n",
    "prefix.mkdir(parents=True, exist_ok=True)\n",
    "for u, f in zip(urls, file_names):\n",
    "    path = prefix/f\n",
    "    if not path.exists():\n",
    "        if 'mega' in u:\n",
    "            !megadl {u} --path {path}\n",
    "        else:\n",
    "            !wget {u} -O {path}\n",
    "    if path.suffix == \".tgz\":\n",
    "        !tar -xvf {path} -C {prefix}\n",
    "    elif path.suffix == \".zip\":\n",
    "        !unzip -o {path} -d {prefix}\n",
    "        \n",
    "# already process        \n",
    "# !mv {prefix/'raw.en'} {prefix/'train_dev.raw.en'}\n",
    "# !mv {prefix/'raw.zh'} {prefix/'train_dev.raw.zh'}\n",
    "# !mv {prefix/'test.en'} {prefix/'test.raw.en'}\n",
    "# !mv {prefix/'test.zh'} {prefix/'test.raw.zh'}"
   ]
  },
  {
   "cell_type": "markdown",
   "id": "d7bf7bc4-3f31-4def-9a93-f9c884c2c515",
   "metadata": {},
   "source": [
    "## 設定語言"
   ]
  },
  {
   "cell_type": "code",
   "execution_count": 7,
   "id": "16632c0e-2172-4435-b6c8-b34ce48fb4c6",
   "metadata": {},
   "outputs": [],
   "source": [
    "src_lang = 'en'\n",
    "tgt_lang = 'zh'\n",
    "\n",
    "data_prefix = f'{prefix}/train_dev.raw'\n",
    "test_prefix = f'{prefix}/test.raw'"
   ]
  },
  {
   "cell_type": "markdown",
   "id": "511bbbc4-a5a0-4f81-85f9-7f28437059ac",
   "metadata": {},
   "source": [
    "指令名稱：head\n",
    "\n",
    "功能說明：head指令會讀取所給予檔案的內容，並將其內容的最前面部份作標準輸出。預設為10行。\n",
    "\n",
    "語法：head [options] file\n",
    "\n",
    "[options]\n",
    "\n",
    "-c：--bytes=N 指定輸出開頭的 \"N\" 個字元組。\n",
    "\n",
    "-n：--lines=N 指定輸出開頭的 \"N\" 行。\n",
    "\n",
    "-q： --quiet, --silent 不輸出檔案名稱的標頭。\n",
    "\n",
    "-v：一定顯示含有檔案名稱的標頭。\n",
    "\n",
    "範例：\n",
    "\n",
    "1.列出fileA最前面10行內容\n",
    "#head fileA\n",
    "\n",
    "2.列出fileA最前面20列內容\n",
    "#head -n 20 fileA\n",
    "\n",
    "3.列出檔案fileA最前面200Bytes內容\n",
    "#head -c 200 fileA"
   ]
  },
  {
   "cell_type": "code",
   "execution_count": 8,
   "id": "2f7c39a7-944e-4bd6-bb35-8e1f166e092f",
   "metadata": {},
   "outputs": [
    {
     "name": "stdout",
     "output_type": "stream",
     "text": [
      "Thank you so much, Chris.\n",
      "And it's truly a great honor to have the opportunity to come to this stage twice; I'm extremely grateful.\n",
      "I have been blown away by this conference, and I want to thank all of you for the many nice comments about what I had to say the other night.\n",
      "And I say that sincerely, partly because  I need that.\n",
      "Put yourselves in my position.\n",
      "非常謝謝你，克里斯。能有這個機會第二度踏上這個演講台\n",
      "真是一大榮幸。我非常感激。\n",
      "這個研討會給我留下了極為深刻的印象，我想感謝大家 對我之前演講的好評。\n",
      "我是由衷的想這麼說，有部份原因是因為 —— 我真的有需要!\n",
      "請你們設身處地為我想一想！\n"
     ]
    }
   ],
   "source": [
    "!head {data_prefix+'.'+src_lang} -n 5\n",
    "!head {data_prefix+'.'+tgt_lang} -n 5"
   ]
  },
  {
   "cell_type": "markdown",
   "id": "6edd82f5-73d7-4e7a-a973-8c9a6899e037",
   "metadata": {},
   "source": [
    "## 檔案前處理"
   ]
  },
  {
   "cell_type": "code",
   "execution_count": 54,
   "id": "de31d8fd-cae2-474a-a365-a49b2c0a36ea",
   "metadata": {},
   "outputs": [
    {
     "name": "stdout",
     "output_type": "stream",
     "text": [
      "def strQ2B(ustring):\n",
      "    \"\"\"把字串全形轉半形\"\"\"\n",
      "    # 參考來源:https://ithelp.ithome.com.tw/articles/10233122\n",
      "    ss = []\n",
      "    for s in ustring:\n",
      "        rstring = \"\"\n",
      "        for uchar in s:\n",
      "            inside_code = ord(uchar)\n",
      "            if inside_code == 12288:  # 全形空格直接轉換\n",
      "                inside_code = 32\n",
      "            elif (inside_code >= 65281 and inside_code <= 65374):  # 全形字元（除空格）根據關係轉化\n",
      "                inside_code -= 65248\n",
      "            rstring += chr(inside_code)\n",
      "        ss.append(rstring)\n",
      "    return ''.join(ss)\n",
      "\n",
      "def clean_s(s, lang):\n",
      "    if lang == 'en':\n",
      "        s = re.sub(r\"\\([^()]*\\)\", \"\", s) # remove ([text])\n",
      "        s = s.replace('-', '') # remove '-'\n",
      "        s = re.sub('([.,;!?()\\\"])', r' \\1 ', s) # keep punctuation\n",
      "    elif lang == 'zh':\n",
      "        s = strQ2B(s) # Q2B\n",
      "        s = re.sub(r\"\\([^()]*\\)\", \"\", s) # remove ([text])\n",
      "        s = s.replace(' ', '')\n",
      "        s = s.replace('—', '')\n",
      "        s = s.replace('“', '\"')\n",
      "        s = s.replace('”', '\"')\n",
      "        s = s.replace('_', '')\n",
      "        s = re.sub('([。,;!?()\\\"~「」])', r' \\1 ', s) # keep punctuation\n",
      "    s = ' '.join(s.strip().split())\n",
      "    return s\n",
      "\n",
      "def len_s(s, lang):\n",
      "    if lang == 'zh':\n",
      "        return len(s)\n",
      "    return len(s.split())\n",
      "\n",
      "def clean_corpus(prefix, l1, l2, ratio=9, max_len=1000, min_len=1):\n",
      "    if Path(f'{prefix}.clean.{l1}').exists() and Path(f'{prefix}.clean.{l2}').exists():\n",
      "        print(f'{prefix}.clean.{l1} & {l2} exists. skipping clean.')\n",
      "        return\n",
      "    with open(f'{prefix}.{l1}', 'r') as l1_in_f:\n",
      "        with open(f'{prefix}.{l2}', 'r') as l2_in_f:\n",
      "            with open(f'{prefix}.clean.{l1}', 'w') as l1_out_f:\n",
      "                with open(f'{prefix}.clean.{l2}', 'w') as l2_out_f:\n",
      "                    for s1 in l1_in_f:\n",
      "                        s1 = s1.strip()\n",
      "                        s2 = l2_in_f.readline().strip()\n",
      "                        s1 = clean_s(s1, l1)\n",
      "                        s2 = clean_s(s2, l2)\n",
      "                        s1_len = len_s(s1, l1)\n",
      "                        s2_len = len_s(s2, l2)\n",
      "                        if min_len > 0: # remove short sentence\n",
      "                            if s1_len < min_len or s2_len < min_len:\n",
      "                                continue\n",
      "                        if max_len > 0: # remove long sentence\n",
      "                            if s1_len > max_len or s2_len > max_len:\n",
      "                                continue\n",
      "                        if ratio > 0: # remove by ratio of length\n",
      "                            if s1_len/s2_len > ratio or s2_len/s1_len > ratio:\n",
      "                                continue\n",
      "                        print(s1, file=l1_out_f)\n",
      "                        print(s2, file=l2_out_f)\n",
      "\n"
     ]
    }
   ],
   "source": [
    "from prepare_data import strQ2B, clean_s, len_s, clean_corpus\n",
    "\n",
    "lines = inspect.getsource(strQ2B)\n",
    "print(lines)\n",
    "\n",
    "lines = inspect.getsource(clean_s)\n",
    "print(lines)\n",
    "\n",
    "lines = inspect.getsource(len_s)\n",
    "print(lines)\n",
    "\n",
    "lines = inspect.getsource(clean_corpus)\n",
    "print(lines)"
   ]
  },
  {
   "cell_type": "code",
   "execution_count": 10,
   "id": "6afa9773-91d6-4b28-b796-e1b704815d17",
   "metadata": {},
   "outputs": [],
   "source": [
    "# already process   \n",
    "# clean_corpus(data_prefix, src_lang, tgt_lang)\n",
    "# clean_corpus(test_prefix, src_lang, tgt_lang, ratio=-1, min_len=-1, max_len=-1)"
   ]
  },
  {
   "cell_type": "code",
   "execution_count": 11,
   "id": "c58455d9-ef9d-4162-a252-0a0f2d0819dd",
   "metadata": {},
   "outputs": [
    {
     "name": "stdout",
     "output_type": "stream",
     "text": [
      "Thank you so much , Chris .\n",
      "And it's truly a great honor to have the opportunity to come to this stage twice ; I'm extremely grateful .\n",
      "I have been blown away by this conference , and I want to thank all of you for the many nice comments about what I had to say the other night .\n",
      "And I say that sincerely , partly because I need that .\n",
      "Put yourselves in my position .\n",
      "非常謝謝你 , 克里斯 。 能有這個機會第二度踏上這個演講台\n",
      "真是一大榮幸 。 我非常感激 。\n",
      "這個研討會給我留下了極為深刻的印象 , 我想感謝大家對我之前演講的好評 。\n",
      "我是由衷的想這麼說 , 有部份原因是因為我真的有需要 !\n",
      "請你們設身處地為我想一想 !\n"
     ]
    }
   ],
   "source": [
    "!head {data_prefix+'.clean.'+src_lang} -n 5\n",
    "!head {data_prefix+'.clean.'+tgt_lang} -n 5"
   ]
  },
  {
   "cell_type": "markdown",
   "id": "22bd2c3a-88a1-45a1-a463-d0caa0610bf2",
   "metadata": {},
   "source": [
    "## 切出 train/valid set"
   ]
  },
  {
   "cell_type": "code",
   "execution_count": 12,
   "id": "2d86c83a-1429-4de2-9bee-c03d82be2583",
   "metadata": {},
   "outputs": [],
   "source": [
    "valid_ratio = 0.01 # 3000~4000句就夠了\n",
    "train_ratio = 1 - valid_ratio"
   ]
  },
  {
   "cell_type": "code",
   "execution_count": 13,
   "id": "dee56c12-273e-4039-81f6-aead3ea02a05",
   "metadata": {},
   "outputs": [
    {
     "name": "stdout",
     "output_type": "stream",
     "text": [
      "train/valid splits exists. skipping split.\n"
     ]
    }
   ],
   "source": [
    "if (prefix/f'train.clean.{src_lang}').exists() \\\n",
    "and (prefix/f'train.clean.{tgt_lang}').exists() \\\n",
    "and (prefix/f'valid.clean.{src_lang}').exists() \\\n",
    "and (prefix/f'valid.clean.{tgt_lang}').exists():\n",
    "    print(f'train/valid splits exists. skipping split.')\n",
    "else:\n",
    "    line_num = sum(1 for line in open(f'{data_prefix}.clean.{src_lang}'))\n",
    "    labels = list(range(line_num))\n",
    "    random.shuffle(labels)\n",
    "    for lang in [src_lang, tgt_lang]:\n",
    "        train_f = open(os.path.join(data_dir, dataset_name, f'train.clean.{lang}'), 'w')\n",
    "        valid_f = open(os.path.join(data_dir, dataset_name, f'valid.clean.{lang}'), 'w')\n",
    "        count = 0\n",
    "        for line in open(f'{data_prefix}.clean.{lang}', 'r'):\n",
    "            if labels[count]/line_num < train_ratio:\n",
    "                train_f.write(line)\n",
    "            else:\n",
    "                valid_f.write(line)\n",
    "            count += 1\n",
    "        train_f.close()\n",
    "        valid_f.close()"
   ]
  },
  {
   "attachments": {
    "90d12b69-65d5-4a14-941b-a63812e3c955.png": {
     "image/png": "[encoded data removed]"
    }
   },
   "cell_type": "markdown",
   "id": "3671c581-5dfa-48c7-b922-f3adf78b631a",
   "metadata": {},
   "source": [
    "## Subword Units \n",
    "翻譯存在的一大問題是未登錄詞(out of vocabulary)，可以使用 subword units 作為斷詞單位來解決。\n",
    "- 使用 [sentencepiece](#kudo-richardson-2018-sentencepiece) 套件\n",
    "- 用 unigram 或 byte-pair encoding (BPE)\n",
    "\n",
    "![image.png](attachment:90d12b69-65d5-4a14-941b-a63812e3c955.png)\n"
   ]
  },
  {
   "cell_type": "code",
   "execution_count": 14,
   "id": "d55fac8a-e2d6-4acc-98e2-aacf81357b08",
   "metadata": {},
   "outputs": [
    {
     "name": "stdout",
     "output_type": "stream",
     "text": [
      "/home/leyan/Documents/Hung-yi-Lee/hw6_transformer/DATA/rawdata/ted2020/spm8000.model exists. skipping spm_train.\n"
     ]
    }
   ],
   "source": [
    "import sentencepiece as spm\n",
    "vocab_size = 8000\n",
    "if (prefix/f'spm{vocab_size}.model').exists():\n",
    "    print(f'{prefix}/spm{vocab_size}.model exists. skipping spm_train.')\n",
    "else:\n",
    "    spm.SentencePieceTrainer.train(\n",
    "        input=','.join([f'{prefix}/train.clean.{src_lang}',\n",
    "                        f'{prefix}/valid.clean.{src_lang}',\n",
    "                        f'{prefix}/train.clean.{tgt_lang}',\n",
    "                        f'{prefix}/valid.clean.{tgt_lang}']),\n",
    "        model_prefix=prefix/f'spm{vocab_size}',\n",
    "        vocab_size=vocab_size,\n",
    "        character_coverage=1,\n",
    "        model_type='unigram', # 'bpe' 也可\n",
    "        input_sentence_size=1e6,\n",
    "        shuffle_input_sentence=True,\n",
    "        normalization_rule_name='nmt_nfkc_cf',\n",
    "    )"
   ]
  },
  {
   "cell_type": "code",
   "execution_count": 15,
   "id": "70a2f6dc-6056-4bb3-bb8c-d12676dd2942",
   "metadata": {},
   "outputs": [
    {
     "name": "stdout",
     "output_type": "stream",
     "text": [
      "/home/leyan/Documents/Hung-yi-Lee/hw6_transformer/DATA/rawdata/ted2020/train.en exists. skipping spm_encode.\n",
      "/home/leyan/Documents/Hung-yi-Lee/hw6_transformer/DATA/rawdata/ted2020/train.zh exists. skipping spm_encode.\n",
      "/home/leyan/Documents/Hung-yi-Lee/hw6_transformer/DATA/rawdata/ted2020/valid.en exists. skipping spm_encode.\n",
      "/home/leyan/Documents/Hung-yi-Lee/hw6_transformer/DATA/rawdata/ted2020/valid.zh exists. skipping spm_encode.\n",
      "/home/leyan/Documents/Hung-yi-Lee/hw6_transformer/DATA/rawdata/ted2020/test.en exists. skipping spm_encode.\n",
      "/home/leyan/Documents/Hung-yi-Lee/hw6_transformer/DATA/rawdata/ted2020/test.zh exists. skipping spm_encode.\n"
     ]
    }
   ],
   "source": [
    "spm_model = spm.SentencePieceProcessor(model_file=str(prefix/f'spm{vocab_size}.model'))\n",
    "in_tag = {\n",
    "    'train': 'train.clean',\n",
    "    'valid': 'valid.clean',\n",
    "    'test': 'test.raw.clean',\n",
    "}\n",
    "\n",
    "# already process   \n",
    "for split in ['train', 'valid', 'test']:\n",
    "    for lang in [src_lang, tgt_lang]:\n",
    "        out_path = prefix/f'{split}.{lang}'\n",
    "        if out_path.exists():\n",
    "            print(f\"{out_path} exists. skipping spm_encode.\")\n",
    "        else:\n",
    "            with open(prefix/f'{split}.{lang}', 'w') as out_f:\n",
    "                with open(prefix/f'{in_tag[split]}.{lang}', 'r') as in_f:\n",
    "                    for line in in_f:\n",
    "                        line = line.strip()\n",
    "                        tok = spm_model.encode(line, out_type=str)\n",
    "                        print(' '.join(tok), file=out_f)"
   ]
  },
  {
   "cell_type": "code",
   "execution_count": 16,
   "id": "d9a56dae-91de-4b76-8940-7d7375873e97",
   "metadata": {},
   "outputs": [
    {
     "name": "stdout",
     "output_type": "stream",
     "text": [
      "▁thank ▁you ▁so ▁much ▁, ▁chris ▁.\n",
      "▁and ▁it ' s ▁ t ru ly ▁a ▁great ▁ho n or ▁to ▁have ▁the ▁ op port un ity ▁to ▁come ▁to ▁this ▁st age ▁ t wi ce ▁; ▁i ' m ▁ex t re me ly ▁gr ate ful ▁.\n",
      "▁i ▁have ▁been ▁ bl ow n ▁away ▁by ▁this ▁con fer ence ▁, ▁and ▁i ▁want ▁to ▁thank ▁all ▁of ▁you ▁for ▁the ▁many ▁ ni ce ▁ com ment s ▁about ▁what ▁i ▁had ▁to ▁say ▁the ▁other ▁night ▁.\n",
      "▁and ▁i ▁say ▁that ▁since re ly ▁, ▁part ly ▁because ▁i ▁need ▁that ▁.\n",
      "▁put ▁your s el ve s ▁in ▁my ▁po s ition ▁.\n",
      "▁ 非常 謝 謝 你 ▁, ▁ 克 里 斯 ▁。 ▁ 能 有 這個 機會 第二 度 踏 上 這個 演講 台\n",
      "▁ 真 是 一 大 榮 幸 ▁。 ▁我 非常 感 激 ▁。\n",
      "▁這個 研 討 會 給我 留 下 了 極 為 深 刻 的 印 象 ▁, ▁我想 感 謝 大家 對我 之前 演講 的 好 評 ▁。\n",
      "▁我 是由 衷 的 想 這麼 說 ▁, ▁有 部份 原因 是因為 我 真的 有 需要 ▁!\n",
      "▁ 請 你們 設 身 處 地 為 我想 一 想 ▁!\n"
     ]
    }
   ],
   "source": [
    "!head {data_dir+'/'+dataset_name+'/train.'+src_lang} -n 5\n",
    "!head {data_dir+'/'+dataset_name+'/train.'+tgt_lang} -n 5"
   ]
  },
  {
   "cell_type": "markdown",
   "id": "42d1a7d2-e97f-4b37-bd7e-5bb80c662f1a",
   "metadata": {},
   "source": [
    "## 用 fairseq 將資料轉為 binary"
   ]
  },
  {
   "cell_type": "code",
   "execution_count": 17,
   "id": "b8dc1a40-eb60-45af-8e41-73d9b7fa8f77",
   "metadata": {},
   "outputs": [
    {
     "name": "stdout",
     "output_type": "stream",
     "text": [
      "DATA/data-bin/ted2020 exists, will not overwrite!\n"
     ]
    }
   ],
   "source": [
    "binpath = Path('./DATA/data-bin', dataset_name)\n",
    "if binpath.exists():\n",
    "    print(binpath, \"exists, will not overwrite!\")\n",
    "else:\n",
    "    !python -m fairseq_cli.preprocess \\\n",
    "        --source-lang {src_lang}\\\n",
    "        --target-lang {tgt_lang}\\\n",
    "        --trainpref {prefix/'train'}\\\n",
    "        --validpref {prefix/'valid'}\\\n",
    "        --testpref {prefix/'test'}\\\n",
    "        --destdir {binpath}\\\n",
    "        --joined-dictionary\\\n",
    "        --workers 2"
   ]
  },
  {
   "cell_type": "markdown",
   "id": "195df519-01ae-4c89-8e9d-2ee3c947fb0f",
   "metadata": {},
   "source": [
    "# 實驗的參數設定表"
   ]
  },
  {
   "cell_type": "code",
   "execution_count": 18,
   "id": "1af598f0-9140-4c51-8978-13592bbdeae0",
   "metadata": {},
   "outputs": [
    {
     "name": "stdout",
     "output_type": "stream",
     "text": [
      "Namespace(accum_steps=2, beam=5, clip_norm=1.0, datadir='./DATA/data-bin/ted2020', keep_last_epochs=5, lr_factor=2.0, lr_warmup=4000, max_epoch=30, max_len_a=1.2, max_len_b=10, max_tokens=8192, num_workers=2, post_process='sentencepiece', python_path='/home/leyan/anaconda3/envs/torch_1_21/bin/python', resume=None, savedir='./checkpoints/transformer', source_lang='en', start_epoch=1, target_lang='zh', use_wandb=False)\n"
     ]
    }
   ],
   "source": [
    "from cfg import config \n",
    "print(config)"
   ]
  },
  {
   "cell_type": "markdown",
   "id": "28d76de2-4a1e-4525-b0d9-baf4fd733aac",
   "metadata": {},
   "source": [
    "# Logging\n",
    "- logging 套件紀錄一般訊息\n",
    "- wandb 紀錄續練過程 loss, bleu, model weight 等等"
   ]
  },
  {
   "cell_type": "code",
   "execution_count": 19,
   "id": "f178a046-51f9-4c74-840c-11c329dc6b1a",
   "metadata": {},
   "outputs": [],
   "source": [
    "logging.basicConfig(\n",
    "    format=\"%(asctime)s | %(levelname)s | %(name)s | %(message)s\",\n",
    "    datefmt=\"%Y-%m-%d %H:%M:%S\",\n",
    "    level=\"INFO\", # \"DEBUG\" \"WARNING\" \"ERROR\"\n",
    "    stream=sys.stdout,\n",
    ")\n",
    "proj = \"hw5.seq2seq\"\n",
    "logger = logging.getLogger(proj)\n",
    "if config.use_wandb:\n",
    "    import wandb\n",
    "    wandb.init(project=proj, name=Path(config.savedir).stem, config=config)"
   ]
  },
  {
   "cell_type": "markdown",
   "id": "532d2545-e69b-4efb-b741-eb929ccda77b",
   "metadata": {},
   "source": [
    "# CUDA環境"
   ]
  },
  {
   "cell_type": "code",
   "execution_count": 20,
   "id": "661e0125-238e-475f-9ec5-be755b9b8db8",
   "metadata": {},
   "outputs": [
    {
     "name": "stdout",
     "output_type": "stream",
     "text": [
      "2022-09-27 12:02:40 | INFO | fairseq.utils | ***********************CUDA enviroments for all 1 workers***********************\n",
      "2022-09-27 12:02:40 | INFO | fairseq.utils | rank   0: capabilities =  7.5  ; total memory = 7.794 GB ; name = NVIDIA GeForce RTX 2080 SUPER           \n",
      "2022-09-27 12:02:40 | INFO | fairseq.utils | ***********************CUDA enviroments for all 1 workers***********************\n"
     ]
    }
   ],
   "source": [
    "cuda_env = utils.CudaEnvironment()\n",
    "utils.CudaEnvironment.pretty_print_cuda_env_list([cuda_env])\n",
    "device = torch.device('cuda:0' if torch.cuda.is_available() else 'cpu')"
   ]
  },
  {
   "cell_type": "markdown",
   "id": "e6741206-5e9a-4160-bbda-4deaa37bf4fa",
   "metadata": {},
   "source": [
    "# 讀取資料集"
   ]
  },
  {
   "cell_type": "markdown",
   "id": "5f5c19bb-7d2e-45a5-b453-697dc44c0373",
   "metadata": {},
   "source": [
    "## 借用 fairseq 的 TranslationTask\n",
    "* 用來讀進上面 binarized 的檔案\n",
    "* 有現成的 data iterator (dataloader)\n",
    "* 字典 task.source_dictionary 和 task.target_dictionary 也很好用 \n",
    "* 有實做 beam search"
   ]
  },
  {
   "cell_type": "code",
   "execution_count": 21,
   "id": "9ce6e106-436b-4867-b271-90a238bbc3b8",
   "metadata": {},
   "outputs": [
    {
     "name": "stdout",
     "output_type": "stream",
     "text": [
      "2022-09-27 12:02:40 | INFO | fairseq.tasks.translation | [en] dictionary: 8000 types\n",
      "2022-09-27 12:02:40 | INFO | fairseq.tasks.translation | [zh] dictionary: 8000 types\n"
     ]
    }
   ],
   "source": [
    "from fairseq.tasks.translation import TranslationConfig, TranslationTask\n",
    "\n",
    "## setup task\n",
    "task_cfg = TranslationConfig(\n",
    "    data=config.datadir,\n",
    "    source_lang=config.source_lang,\n",
    "    target_lang=config.target_lang,\n",
    "    train_subset=\"train\",\n",
    "    required_seq_len_multiple=8,\n",
    "    dataset_impl=\"mmap\",\n",
    "    upsample_primary=1,\n",
    ")\n",
    "task = TranslationTask.setup_task(task_cfg)"
   ]
  },
  {
   "cell_type": "code",
   "execution_count": 22,
   "id": "66cee6ec-f285-478d-8d75-0665cad2b927",
   "metadata": {},
   "outputs": [
    {
     "name": "stdout",
     "output_type": "stream",
     "text": [
      "2022-09-27 12:02:40 | INFO | hw5.seq2seq | loading data for epoch 1\n",
      "2022-09-27 12:02:40 | INFO | fairseq.data.data_utils | loaded 390,041 examples from: ./DATA/data-bin/ted2020/train.en-zh.en\n",
      "2022-09-27 12:02:40 | INFO | fairseq.data.data_utils | loaded 390,041 examples from: ./DATA/data-bin/ted2020/train.en-zh.zh\n",
      "2022-09-27 12:02:40 | INFO | fairseq.tasks.translation | ./DATA/data-bin/ted2020 train en-zh 390041 examples\n",
      "2022-09-27 12:02:40 | INFO | fairseq.data.data_utils | loaded 3,939 examples from: ./DATA/data-bin/ted2020/valid.en-zh.en\n",
      "2022-09-27 12:02:40 | INFO | fairseq.data.data_utils | loaded 3,939 examples from: ./DATA/data-bin/ted2020/valid.en-zh.zh\n",
      "2022-09-27 12:02:40 | INFO | fairseq.tasks.translation | ./DATA/data-bin/ted2020 valid en-zh 3939 examples\n"
     ]
    }
   ],
   "source": [
    "logger.info(\"loading data for epoch 1\")\n",
    "task.load_dataset(split=\"train\", epoch=1, combine=True) # combine if you have back-translation data.\n",
    "task.load_dataset(split=\"valid\", epoch=1)"
   ]
  },
  {
   "cell_type": "code",
   "execution_count": 23,
   "id": "e0abe94e-8881-4912-95ab-4a52c642d8dc",
   "metadata": {},
   "outputs": [
    {
     "name": "stdout",
     "output_type": "stream",
     "text": [
      "{'id': 1,\n",
      " 'source': tensor([  24,   63,    5,  179,  435,  217,    6,   29,   41,    5, 1881,   52,\n",
      "         252,  166,   60,  173,  132,  495,  605,  422,    6,  146,    6,   48,\n",
      "           4,   11,  236,   24,  242,   54, 2671,    5,  257,  316,    6,   12,\n",
      "        1351,  143,  103,    7,    2]),\n",
      " 'target': tensor([ 161,  118,  297, 1528,  563,  129, 2997,  380,  612, 1159, 2710,  329,\n",
      "        2529, 1406,  475,    4,    5,  650, 3835,  239,  303,   93, 2790, 1406,\n",
      "         475,    9, 1192,   10,    2])}\n",
      "('Source: you can very precisely calculate what your co2 emissions are , and '\n",
      " 'then you will be given options to reduce .')\n",
      "'Target: 你能非常精確地計算什麼你的二氧化碳排放 , 然后將給你減少排放的選擇 。'\n"
     ]
    }
   ],
   "source": [
    "sample = task.dataset(\"valid\")[1]\n",
    "pprint.pprint(sample)\n",
    "pprint.pprint(\n",
    "    \"Source: \" + \\\n",
    "    task.source_dictionary.string(\n",
    "        sample['source'],\n",
    "        config.post_process,\n",
    "    )\n",
    ")\n",
    "pprint.pprint(\n",
    "    \"Target: \" + \\\n",
    "    task.target_dictionary.string(\n",
    "        sample['target'],\n",
    "        config.post_process,\n",
    "    )\n",
    ")"
   ]
  },
  {
   "cell_type": "markdown",
   "id": "e28a1331-33d2-4ce3-a80b-01b15d940c28",
   "metadata": {},
   "source": [
    "## Dataset Iterator"
   ]
  },
  {
   "cell_type": "markdown",
   "id": "ff29b2b4-fd3a-4850-89e8-7e9f46fb9efb",
   "metadata": {},
   "source": [
    "* 將每個 batch 控制在 N 個 token 讓 GPU 記憶體更有效被利用\n",
    "* 讓 training set 每個 epoch 有不同 shuffling\n",
    "* 濾掉長度太長的句子\n",
    "* 將每個 batch 內的句子 pad 成一樣長，好讓 GPU 平行運算\n",
    "* 加上 eos 並 shift 一格\n",
    "    - teacher forcing: 為了訓練模型根據prefix生成下個字，decoder的輸入會是輸出目標序列往右shift一格。\n",
    "    - 一般是會在輸入開頭加個bos token (如下圖)\n",
    "![seq2seq](https://i.imgur.com/0zeDyuI.png)\n",
    "    - fairseq 則是直接把 eos 挪到 beginning，訓練起來效果其實差不多。例如: \n",
    "    ```\n",
    "    # 輸出目標 (target) 和 Decoder輸入 (prev_output_tokens): \n",
    "                   eos = 2\n",
    "                target = 419,  711,  238,  888,  792,   60,  968,    8,    2\n",
    "    prev_output_tokens = 2,  419,  711,  238,  888,  792,   60,  968,    8\n",
    "    ```\n"
   ]
  },
  {
   "cell_type": "code",
   "execution_count": 24,
   "id": "63fbccfe-0f27-4d0d-a3f6-d7e5b156af63",
   "metadata": {},
   "outputs": [
    {
     "name": "stdout",
     "output_type": "stream",
     "text": [
      "def load_data_iterator(task, split, epoch=1, max_tokens=4000, num_workers=1, cached=True):\n",
      "    batch_iterator = task.get_batch_iterator(\n",
      "        dataset=task.dataset(split),\n",
      "        max_tokens=max_tokens,\n",
      "        max_sentences=None,\n",
      "        max_positions=utils.resolve_max_positions(\n",
      "            task.max_positions(),\n",
      "            max_tokens,\n",
      "        ),\n",
      "        ignore_invalid_inputs=True,\n",
      "        seed=seed,\n",
      "        num_workers=num_workers,\n",
      "        epoch=epoch,\n",
      "        disable_iterator_cache=not cached,\n",
      "        # Set this to False to speed up. However, if set to False, changing max_tokens beyond \n",
      "        # first call of this method has no effect. \n",
      "    )\n",
      "    return batch_iterator\n",
      "\n",
      "2022-09-27 12:02:40 | WARNING | fairseq.tasks.fairseq_task | 2,542 samples have invalid sizes and will be skipped, max_positions=(20, 20), first few sample ids=[815, 1267, 751, 349, 1996, 2330, 1750, 3867, 2838, 3747]\n"
     ]
    },
    {
     "data": {
      "text/plain": [
       "{'id': tensor([3586]),\n",
       " 'nsentences': 1,\n",
       " 'ntokens': 10,\n",
       " 'net_input': {'src_tokens': tensor([[  1,   1, 126, 285,  77,   8,  13,  23, 272, 491,   6,  29, 203,   6,\n",
       "             7,   2]]),\n",
       "  'src_lengths': tensor([14]),\n",
       "  'prev_output_tokens': tensor([[   2,    5, 1745, 4205, 4205,  445, 1664, 1636,  139,  315,    1,    1,\n",
       "              1,    1,    1,    1]])},\n",
       " 'target': tensor([[   5, 1745, 4205, 4205,  445, 1664, 1636,  139,  315,    2,    1,    1,\n",
       "             1,    1,    1,    1]])}"
      ]
     },
     "execution_count": 24,
     "metadata": {},
     "output_type": "execute_result"
    }
   ],
   "source": [
    "from data import load_data_iterator\n",
    "lines = inspect.getsource(load_data_iterator)\n",
    "print(lines)\n",
    "\n",
    "\n",
    "demo_epoch_obj = load_data_iterator(task, \"valid\", epoch=1, max_tokens=20, num_workers=1, cached=False)\n",
    "demo_iter = demo_epoch_obj.next_epoch_itr(shuffle=True)\n",
    "sample = next(demo_iter)\n",
    "sample"
   ]
  },
  {
   "cell_type": "markdown",
   "id": "8a75e788-f193-4760-a33b-a8630f04c1a0",
   "metadata": {},
   "source": [
    "* 每個 batch 是一個字典，key 是字串，value 是 Tensor，內容說明如下\n",
    "```python\n",
    "batch = {\n",
    "    \"id\": id, # 每個 example 的 id\n",
    "    \"nsentences\": len(samples), # batch size 句子數\n",
    "    \"ntokens\": ntokens, # batch size 字數\n",
    "    \"net_input\": {\n",
    "        \"src_tokens\": src_tokens, # 來源語言的序列\n",
    "        \"src_lengths\": src_lengths, # 每句話沒有 pad 過的長度\n",
    "        \"prev_output_tokens\": prev_output_tokens, # 上面提到右 shift 一格後的目標序列\n",
    "    },\n",
    "    \"target\": target, # 目標序列\n",
    "}\n",
    "```"
   ]
  },
  {
   "cell_type": "markdown",
   "id": "4e98892f-250d-4e3e-945c-a570fa727bdb",
   "metadata": {},
   "source": [
    "# 定義模型架構\n",
    "* 我們一樣繼承 fairseq 的 encoder, decoder 和 model, 這樣測試階段才能直接用他寫好的 beam search 函式"
   ]
  },
  {
   "cell_type": "code",
   "execution_count": 25,
   "id": "f7d9e3a2-8e66-4346-b1d5-59d314897b05",
   "metadata": {},
   "outputs": [],
   "source": [
    "from fairseq.models import (\n",
    "    FairseqEncoder, \n",
    "    FairseqIncrementalDecoder,\n",
    "    FairseqEncoderDecoderModel\n",
    ")"
   ]
  },
  {
   "cell_type": "markdown",
   "id": "c41bcf5e-3b3f-4f36-a293-6fa9999a89f3",
   "metadata": {},
   "source": [
    "## Encoder 編碼器"
   ]
  },
  {
   "cell_type": "markdown",
   "id": "e69077ea-aec5-4fc6-ad29-e66d0044570f",
   "metadata": {},
   "source": [
    "- seq2seq 模型的編碼器為 RNN 或 Transformer Encoder，以下說明以 RNN 為例，Transformer 略有不同。對於每個輸入，Encoder 會輸出一個向量和一個隱藏狀態(hidden state)，並將隱藏狀態用於下一個輸入。換句話說，Encoder 會逐步讀取輸入序列，並在每個 timestep 輸出單個向量，以及在最後 timestep 輸出最終隱藏狀態(content vector)\n",
    "- 參數:\n",
    "  - *args*\n",
    "      - encoder_embed_dim 是 embedding 的維度，主要將 one-hot vector 的單詞向量壓縮到指定的維度，主要是為了降維和濃縮資訊的功用\n",
    "      - encoder_ffn_embed_dim 是 RNN 輸出和隱藏狀態的維度(hidden dimension)\n",
    "      - encoder_layers 是 RNN 要疊多少層\n",
    "      - dropout 是決定有多少的機率會將某個節點變為 0，主要是為了防止 overfitting ，一般來說是在訓練時使用，測試時則不使用\n",
    "  - *dictionary*: fairseq 幫我們做好的 dictionary. 在此用來得到 padding index，好用來得到 encoder padding mask. \n",
    "  - *embed_tokens*: 事先做好的詞嵌入 (nn.Embedding)\n",
    "\n",
    "- 輸入: \n",
    "    - *src_tokens*: 英文的整數序列 e.g. 1, 28, 29, 205, 2 \n",
    "- 輸出: \n",
    "    - *outputs*: 最上層 RNN 每個 timestep 的輸出，後續可以用 Attention 再進行處理\n",
    "    - *final_hiddens*: 每層最終 timestep 的隱藏狀態，將傳遞到 Decoder 進行解碼\n",
    "    - *encoder_padding_mask*: 告訴我們哪些是位置的資訊不重要。\n"
   ]
  },
  {
   "cell_type": "code",
   "execution_count": 26,
   "id": "50b60cf9-288a-44d5-9e2a-c8b2a6688b60",
   "metadata": {},
   "outputs": [
    {
     "name": "stdout",
     "output_type": "stream",
     "text": [
      "class RNNEncoder(FairseqEncoder):\n",
      "    def __init__(self, args, dictionary, embed_tokens):\n",
      "        super().__init__(dictionary)\n",
      "        self.embed_tokens = embed_tokens\n",
      "        \n",
      "        self.embed_dim = args.encoder_embed_dim\n",
      "        self.hidden_dim = args.encoder_ffn_embed_dim\n",
      "        self.num_layers = args.encoder_layers\n",
      "        \n",
      "        self.dropout_in_module = nn.Dropout(args.dropout)\n",
      "        self.rnn = nn.GRU(\n",
      "            self.embed_dim, \n",
      "            self.hidden_dim, \n",
      "            self.num_layers, \n",
      "            dropout=args.dropout, \n",
      "            batch_first=False, \n",
      "            bidirectional=True\n",
      "        )\n",
      "        self.dropout_out_module = nn.Dropout(args.dropout)\n",
      "        \n",
      "        self.padding_idx = dictionary.pad()\n",
      "        \n",
      "    def combine_bidir(self, outs, bsz: int):\n",
      "        out = outs.view(self.num_layers, 2, bsz, -1).transpose(1, 2).contiguous()\n",
      "        return out.view(self.num_layers, bsz, -1)\n",
      "\n",
      "    def forward(self, src_tokens, **unused):\n",
      "        bsz, seqlen = src_tokens.size()\n",
      "        \n",
      "        # get embeddings\n",
      "        x = self.embed_tokens(src_tokens)\n",
      "        x = self.dropout_in_module(x)\n",
      "\n",
      "        # B x T x C -> T x B x C\n",
      "        x = x.transpose(0, 1)\n",
      "        \n",
      "        # 過雙向RNN\n",
      "        h0 = x.new_zeros(2 * self.num_layers, bsz, self.hidden_dim)\n",
      "        x, final_hiddens = self.rnn(x, h0)\n",
      "        outputs = self.dropout_out_module(x)\n",
      "        # outputs = [sequence len, batch size, hid dim * directions] 是最上層RNN的輸出\n",
      "        # hidden =  [num_layers * directions, batch size  , hid dim]\n",
      "        \n",
      "        # 因為 Encoder 是雙向的RNN，所以需要將同一層兩個方向的 hidden state 接在一起\n",
      "        final_hiddens = self.combine_bidir(final_hiddens, bsz)\n",
      "        # hidden =  [num_layers x batch x num_directions*hidden]\n",
      "        \n",
      "        encoder_padding_mask = src_tokens.eq(self.padding_idx).t()\n",
      "        return tuple(\n",
      "            (\n",
      "                outputs,  # seq_len x batch x hidden\n",
      "                final_hiddens,  # num_layers x batch x num_directions*hidden\n",
      "                encoder_padding_mask,  # seq_len x batch\n",
      "            )\n",
      "        )\n",
      "    \n",
      "    def reorder_encoder_out(self, encoder_out, new_order):\n",
      "        # 這個beam search時會用到，意義並不是很重要\n",
      "        return tuple(\n",
      "            (\n",
      "                encoder_out[0].index_select(1, new_order),\n",
      "                encoder_out[1].index_select(1, new_order),\n",
      "                encoder_out[2].index_select(1, new_order),\n",
      "            )\n",
      "        )\n",
      "\n"
     ]
    }
   ],
   "source": [
    "from model import RNNEncoder\n",
    "lines = inspect.getsource(RNNEncoder)\n",
    "print(lines)"
   ]
  },
  {
   "cell_type": "markdown",
   "id": "952a18c9-5e73-4765-984a-02fdefc5baa8",
   "metadata": {},
   "source": [
    "## Attention"
   ]
  },
  {
   "cell_type": "markdown",
   "id": "13c341e3-4b6c-4380-84d1-aed25be068b0",
   "metadata": {},
   "source": [
    "- 當輸入過長，或是單獨靠 “content vector” 無法取得整個輸入的意思時，用 Attention Mechanism 來提供 Decoder 更多的資訊\n",
    "- 根據現在 **Decoder embeddings** ，去計算在 **Encoder outputs** 中，那些與其有較高的關係，根據關係的數值來把 Encoder outputs 平均起來作為 **Decoder** RNN 的輸入 \n",
    "- 常見 Attention 的實作是用 Neural Network / Dot Product 來算 **query** (decoder embeddings) 和 **key** (Encoder outputs) 之間的關係，再對所有算出來的數值做 **softmax** 得到分佈，最後根據這個分佈對 **values** (Encoder outputs) 做 **weight sum**\n",
    "\n",
    "- 參數:\n",
    "  - *input_embed_dim*: key 的維度，應是 decoder 要做 attend 時的向量的維度\n",
    "  - *source_embed_dim*: query 的維度，應是要被 attend 的向量(encoder outputs)的維度\n",
    "  - *output_embed_dim*: value 的維度，應是做完 attention 後，下一層預期的向量維度\n",
    "\n",
    "- 輸入: \n",
    "    - *inputs*: 就是 key，要 attend 別人的向量\n",
    "    - *encoder_outputs*: 是 query/value，被 attend 的向量\n",
    "    - *encoder_padding_mask*: 告訴我們哪些是位置的資訊不重要。\n",
    "- 輸出: \n",
    "    - *output*: 做完 attention 後的 context vector\n",
    "    - *attention score*: attention 的分布\n"
   ]
  },
  {
   "cell_type": "code",
   "execution_count": 27,
   "id": "063a528a-6d5d-41fb-b1a4-a7df3368d30a",
   "metadata": {},
   "outputs": [
    {
     "name": "stdout",
     "output_type": "stream",
     "text": [
      "class AttentionLayer(nn.Module):\n",
      "    def __init__(self, input_embed_dim, source_embed_dim, output_embed_dim, bias=False):\n",
      "        super().__init__()\n",
      "\n",
      "        self.input_proj = nn.Linear(input_embed_dim, source_embed_dim, bias=bias)\n",
      "        self.output_proj = nn.Linear(\n",
      "            input_embed_dim + source_embed_dim, output_embed_dim, bias=bias\n",
      "        )\n",
      "\n",
      "    def forward(self, inputs, encoder_outputs, encoder_padding_mask):\n",
      "        # inputs: T, B, dim\n",
      "        # encoder_outputs: S x B x dim\n",
      "        # padding mask:  S x B\n",
      "        \n",
      "        # convert all to batch first\n",
      "        inputs = inputs.transpose(1,0) # B, T, dim\n",
      "        encoder_outputs = encoder_outputs.transpose(1,0) # B, S, dim\n",
      "        encoder_padding_mask = encoder_padding_mask.transpose(1,0) # B, S\n",
      "        \n",
      "        # 投影到encoder_outputs的維度\n",
      "        x = self.input_proj(inputs)\n",
      "\n",
      "        # 計算attention\n",
      "        # (B, T, dim) x (B, dim, S) = (B, T, S)\n",
      "        attn_scores = torch.bmm(x, encoder_outputs.transpose(1,2))\n",
      "\n",
      "        # 擋住padding位置的attention\n",
      "        if encoder_padding_mask is not None:\n",
      "            # 利用broadcast  B, S -> (B, 1, S)\n",
      "            encoder_padding_mask = encoder_padding_mask.unsqueeze(1)\n",
      "            attn_scores = (\n",
      "                attn_scores.float()\n",
      "                .masked_fill_(encoder_padding_mask, float(\"-inf\"))\n",
      "                .type_as(attn_scores)\n",
      "            )  # FP16 support: cast to float and back\n",
      "\n",
      "        # 在source對應維度softmax\n",
      "        attn_scores = F.softmax(attn_scores, dim=-1)\n",
      "\n",
      "        # 形狀 (B, T, S) x (B, S, dim) = (B, T, dim) 加權平均\n",
      "        x = torch.bmm(attn_scores, encoder_outputs)\n",
      "\n",
      "        # (B, T, dim)\n",
      "        x = torch.cat((x, inputs), dim=-1)\n",
      "        x = torch.tanh(self.output_proj(x)) # concat + linear + tanh\n",
      "        \n",
      "        # 回復形狀 (B, T, dim) -> (T, B, dim)\n",
      "        return x.transpose(1,0), attn_scores\n",
      "\n"
     ]
    }
   ],
   "source": [
    "from attn import AttentionLayer\n",
    "lines = inspect.getsource(AttentionLayer)\n",
    "print(lines)"
   ]
  },
  {
   "cell_type": "markdown",
   "id": "a1c56f13-9273-4872-8bf2-1a6d4b2b0935",
   "metadata": {},
   "source": [
    "## Decoder 解碼器"
   ]
  },
  {
   "cell_type": "markdown",
   "id": "7b3ea5b4-d825-43f0-b45a-12fac75d26ea",
   "metadata": {},
   "source": [
    "* 解碼器的 hidden states 會用編碼器最終隱藏狀態來初始化(content vector)\n",
    "* 解碼器同時也根據目前 timestep 的輸入(也就是前幾個 timestep 的 output)，改變 hidden states，並輸出結果 \n",
    "* 如果加入 attention 可以使表現更好\n",
    "* 我們把 seq2seq 步驟寫在解碼器裡，好讓等等 Seq2Seq 這個型別可以通用 RNN 和 Transformer，而不用再改寫\n",
    "- 參數:\n",
    "  - *args*\n",
    "      - decoder_embed_dim 是解碼器 embedding 的維度，類同 encoder_embed_dim，\n",
    "      - decoder_ffn_embed_dim 是解碼器 RNN 的隱藏維度，類同 encoder_ffn_embed_dim\n",
    "      - decoder_layers 解碼器 RNN 的層數\n",
    "      - share_decoder_input_output_embed 通常 decoder 最後輸出的投影矩陣會和輸入 embedding 共用參數\n",
    "  - *dictionary*: fairseq 幫我們做好的 dictionary.\n",
    "  - *embed_tokens*: 事先做好的詞嵌入(nn.Embedding)\n",
    "- 輸入: \n",
    "    - *prev_output_tokens*: 英文的整數序列 e.g. 1, 28, 29, 205, 2 已經 shift 一格的 target\n",
    "    - *encoder_out*: 編碼器的輸出\n",
    "    - *incremental_state*: 這是測試階段為了加速，所以會記錄每個 timestep 的 hidden state 詳見 forward\n",
    "- 輸出: \n",
    "    - *outputs*: decoder 每個 timestep 的 logits，還沒經過 softmax 的分布\n",
    "    - *extra*: 沒用到"
   ]
  },
  {
   "cell_type": "code",
   "execution_count": 28,
   "id": "389773e9-0856-4d69-8dc4-088083b01d18",
   "metadata": {},
   "outputs": [
    {
     "name": "stdout",
     "output_type": "stream",
     "text": [
      "class RNNDecoder(FairseqIncrementalDecoder):\n",
      "    def __init__(self, args, dictionary, embed_tokens):\n",
      "        super().__init__(dictionary)\n",
      "        self.embed_tokens = embed_tokens\n",
      "        \n",
      "        assert args.decoder_layers == args.encoder_layers, f\"\"\"seq2seq rnn requires that encoder \n",
      "        and decoder have same layers of rnn. got: {args.encoder_layers, args.decoder_layers}\"\"\"\n",
      "        assert args.decoder_ffn_embed_dim == args.encoder_ffn_embed_dim*2, f\"\"\"seq2seq-rnn requires \n",
      "        that decoder hidden to be 2*encoder hidden dim. got: {args.decoder_ffn_embed_dim, args.encoder_ffn_embed_dim*2}\"\"\"\n",
      "        \n",
      "        self.embed_dim = args.decoder_embed_dim\n",
      "        self.hidden_dim = args.decoder_ffn_embed_dim\n",
      "        self.num_layers = args.decoder_layers\n",
      "        \n",
      "        \n",
      "        self.dropout_in_module = nn.Dropout(args.dropout)\n",
      "        self.rnn = nn.GRU(\n",
      "            self.embed_dim, \n",
      "            self.hidden_dim, \n",
      "            self.num_layers, \n",
      "            dropout=args.dropout, \n",
      "            batch_first=False, \n",
      "            bidirectional=False\n",
      "        )\n",
      "        self.attention = AttentionLayer(\n",
      "            self.embed_dim, self.hidden_dim, self.embed_dim, bias=False\n",
      "        ) \n",
      "        # self.attention = None\n",
      "        self.dropout_out_module = nn.Dropout(args.dropout)\n",
      "        \n",
      "        if self.hidden_dim != self.embed_dim:\n",
      "            self.project_out_dim = nn.Linear(self.hidden_dim, self.embed_dim)\n",
      "        else:\n",
      "            self.project_out_dim = None\n",
      "        \n",
      "        if args.share_decoder_input_output_embed:\n",
      "            self.output_projection = nn.Linear(\n",
      "                self.embed_tokens.weight.shape[1],\n",
      "                self.embed_tokens.weight.shape[0],\n",
      "                bias=False,\n",
      "            )\n",
      "            self.output_projection.weight = self.embed_tokens.weight\n",
      "        else:\n",
      "            self.output_projection = nn.Linear(\n",
      "                self.output_embed_dim, len(dictionary), bias=False\n",
      "            )\n",
      "            nn.init.normal_(\n",
      "                self.output_projection.weight, mean=0, std=self.output_embed_dim ** -0.5\n",
      "            )\n",
      "        \n",
      "    def forward(self, prev_output_tokens, encoder_out, incremental_state=None, **unused):\n",
      "        # 取出encoder的輸出\n",
      "        encoder_outputs, encoder_hiddens, encoder_padding_mask = encoder_out\n",
      "        # outputs:          seq_len x batch x num_directions*hidden\n",
      "        # encoder_hiddens:  num_layers x batch x num_directions*encoder_hidden\n",
      "        # padding_mask:     seq_len x batch\n",
      "        \n",
      "        if incremental_state is not None and len(incremental_state) > 0:\n",
      "            # 有上個timestep留下的資訊，讀進來就可以繼續decode，不用從bos重來\n",
      "            prev_output_tokens = prev_output_tokens[:, -1:]\n",
      "            cache_state = self.get_incremental_state(incremental_state, \"cached_state\")\n",
      "            prev_hiddens = cache_state[\"prev_hiddens\"]\n",
      "        else:\n",
      "            # 沒有incremental state代表這是training或者是test time時的第一步\n",
      "            # 準備seq2seq: 把encoder_hiddens pass進去decoder的hidden states\n",
      "            prev_hiddens = encoder_hiddens\n",
      "        \n",
      "        bsz, seqlen = prev_output_tokens.size()\n",
      "        \n",
      "        # embed tokens\n",
      "        x = self.embed_tokens(prev_output_tokens)\n",
      "        x = self.dropout_in_module(x)\n",
      "\n",
      "        # B x T x C -> T x B x C\n",
      "        x = x.transpose(0, 1)\n",
      "                \n",
      "        # 做decoder-to-encoder attention\n",
      "        if self.attention is not None:\n",
      "            x, attn = self.attention(x, encoder_outputs, encoder_padding_mask)\n",
      "                        \n",
      "        # 過單向RNN\n",
      "        x, final_hiddens = self.rnn(x, prev_hiddens)\n",
      "        # outputs = [sequence len, batch size, hid dim]\n",
      "        # hidden =  [num_layers * directions, batch size  , hid dim]\n",
      "        x = self.dropout_out_module(x)\n",
      "                \n",
      "        # 投影到embedding size (如果hidden 和embed size不一樣，然後share_embedding又設成True,需要額外project一次)\n",
      "        if self.project_out_dim != None:\n",
      "            x = self.project_out_dim(x)\n",
      "        \n",
      "        # 投影到vocab size 的分佈\n",
      "        x = self.output_projection(x)\n",
      "        \n",
      "        # T x B x C -> B x T x C\n",
      "        x = x.transpose(1, 0)\n",
      "        \n",
      "        # 如果是Incremental, 記錄這個timestep的hidden states, 下個timestep讀回來\n",
      "        cache_state = {\n",
      "            \"prev_hiddens\": final_hiddens,\n",
      "        }\n",
      "        self.set_incremental_state(incremental_state, \"cached_state\", cache_state)\n",
      "        \n",
      "        return x, None\n",
      "    \n",
      "    def reorder_incremental_state(\n",
      "        self,\n",
      "        incremental_state,\n",
      "        new_order,\n",
      "    ):\n",
      "        # 這個beam search時會用到，意義並不是很重要\n",
      "        cache_state = self.get_incremental_state(incremental_state, \"cached_state\")\n",
      "        prev_hiddens = cache_state[\"prev_hiddens\"]\n",
      "        prev_hiddens = [p.index_select(0, new_order) for p in prev_hiddens]\n",
      "        cache_state = {\n",
      "            \"prev_hiddens\": torch.stack(prev_hiddens),\n",
      "        }\n",
      "        self.set_incremental_state(incremental_state, \"cached_state\", cache_state)\n",
      "        return\n",
      "\n"
     ]
    }
   ],
   "source": [
    "from model import RNNDecoder\n",
    "lines = inspect.getsource(RNNDecoder)\n",
    "print(lines)"
   ]
  },
  {
   "cell_type": "markdown",
   "id": "e1bc36a9-e31e-43fc-8a65-54c7bbe8e799",
   "metadata": {},
   "source": [
    "## Seq2Seq\n",
    "- 由 **Encoder** 和 **Decoder** 組成\n",
    "- 接收輸入並傳給 **Encoder** \n",
    "- 將 **Encoder** 的輸出傳給 **Decoder**\n",
    "- **Decoder** 根據前幾個 timestep 的輸出和 **Encoder** 輸出進行解碼  \n",
    "- 當解碼完成後，將 **Decoder** 的輸出傳回 "
   ]
  },
  {
   "cell_type": "code",
   "execution_count": 29,
   "id": "4113111c-a977-424d-becf-c85658a38277",
   "metadata": {},
   "outputs": [
    {
     "name": "stdout",
     "output_type": "stream",
     "text": [
      "class Seq2Seq(FairseqEncoderDecoderModel):\n",
      "    def __init__(self, args, encoder, decoder):\n",
      "        super().__init__(encoder, decoder)\n",
      "        self.args = args\n",
      "    \n",
      "    def forward(\n",
      "        self,\n",
      "        src_tokens,\n",
      "        src_lengths,\n",
      "        prev_output_tokens,\n",
      "        return_all_hiddens: bool = True,\n",
      "    ):\n",
      "        \"\"\"\n",
      "        Run the forward pass for an encoder-decoder model.\n",
      "        \"\"\"\n",
      "        encoder_out = self.encoder(\n",
      "            src_tokens, src_lengths=src_lengths, return_all_hiddens=return_all_hiddens\n",
      "        )\n",
      "        logits, extra = self.decoder(\n",
      "            prev_output_tokens,\n",
      "            encoder_out=encoder_out,\n",
      "            src_lengths=src_lengths,\n",
      "            return_all_hiddens=return_all_hiddens,\n",
      "        )\n",
      "        return logits, extra\n",
      "\n"
     ]
    }
   ],
   "source": [
    "from model import Seq2Seq\n",
    "lines = inspect.getsource(Seq2Seq)\n",
    "print(lines)"
   ]
  },
  {
   "cell_type": "markdown",
   "id": "ddb7883a-9f48-4f4b-9a43-d5dcf8a3daf9",
   "metadata": {},
   "source": [
    "# 模型初始化"
   ]
  },
  {
   "cell_type": "code",
   "execution_count": 30,
   "id": "882eb529-5327-45b3-9c1d-335d3008b89b",
   "metadata": {},
   "outputs": [
    {
     "name": "stdout",
     "output_type": "stream",
     "text": [
      "def build_model_transformer(args, task):\n",
      "\n",
      "    add_transformer_args(medium_arch_args)    \n",
      "\n",
      "    \"\"\" 按照參數設定建置模型 \"\"\"\n",
      "    src_dict, tgt_dict = task.source_dictionary, task.target_dictionary\n",
      "\n",
      "    # 詞嵌入\n",
      "    encoder_embed_tokens = nn.Embedding(len(src_dict), args.encoder_embed_dim, src_dict.pad())\n",
      "    decoder_embed_tokens = nn.Embedding(len(tgt_dict), args.decoder_embed_dim, tgt_dict.pad())\n",
      "    \n",
      "    # 編碼器與解碼器\n",
      "    # TODO: 替換成 TransformerEncoder 和 TransformerDecoder\n",
      "    encoder = TransformerEncoder(args, src_dict, encoder_embed_tokens)\n",
      "    decoder = TransformerDecoder(args, tgt_dict, decoder_embed_tokens)\n",
      "    \n",
      "    # 序列到序列模型\n",
      "    model = Seq2Seq(args, encoder, decoder)\n",
      "    \n",
      "    # 序列到序列模型的初始化很重要 需要特別處理\n",
      "    def init_params(module):\n",
      "        from fairseq.modules import MultiheadAttention\n",
      "        if isinstance(module, nn.Linear):\n",
      "            module.weight.data.normal_(mean=0.0, std=0.02)\n",
      "            if module.bias is not None:\n",
      "                module.bias.data.zero_()\n",
      "        if isinstance(module, nn.Embedding):\n",
      "            module.weight.data.normal_(mean=0.0, std=0.02)\n",
      "            if module.padding_idx is not None:\n",
      "                module.weight.data[module.padding_idx].zero_()\n",
      "        if isinstance(module, MultiheadAttention):\n",
      "            module.q_proj.weight.data.normal_(mean=0.0, std=0.02)\n",
      "            module.k_proj.weight.data.normal_(mean=0.0, std=0.02)\n",
      "            module.v_proj.weight.data.normal_(mean=0.0, std=0.02)\n",
      "        if isinstance(module, nn.RNNBase):\n",
      "            for name, param in module.named_parameters():\n",
      "                if \"weight\" in name or \"bias\" in name:\n",
      "                    param.data.uniform_(-0.1, 0.1)\n",
      "            \n",
      "    # 初始化模型\n",
      "    model.apply(init_params)\n",
      "    return model\n",
      "\n"
     ]
    }
   ],
   "source": [
    "from model import build_model_transformer as build_model\n",
    "lines = inspect.getsource(build_model)\n",
    "print(lines)"
   ]
  },
  {
   "cell_type": "markdown",
   "id": "75378a80-fcb4-40a8-831c-58cddf301f51",
   "metadata": {},
   "source": [
    "## 設定模型相關參數\n",
    "參考參數\n",
    "\n",
    "|model|embedding dim|encoder ffn|encoder layers|decoder ffn|decoder layers|\n",
    "|-|-|-|-|-|-|\n",
    "|RNN|256|512|1|1024|1|\n",
    "|Transformer|256|1024|4|1024|4|\n",
    "\n",
    "Strong baseline 用的參數可以參考 [Attention is all you need](#vaswani2017) 的 Table 3 的 transformer-base"
   ]
  },
  {
   "cell_type": "code",
   "execution_count": 31,
   "id": "ad567b2a-2b3e-4758-913d-021e7dacdbcd",
   "metadata": {},
   "outputs": [
    {
     "name": "stdout",
     "output_type": "stream",
     "text": [
      "def add_transformer_args(args):\n",
      "    args.encoder_attention_heads=4\n",
      "    args.encoder_normalize_before=True\n",
      "    \n",
      "    args.decoder_attention_heads=4\n",
      "    args.decoder_normalize_before=True\n",
      "    \n",
      "    args.activation_fn=\"relu\"\n",
      "    args.max_source_positions=1024\n",
      "    args.max_target_positions=1024\n",
      "    \n",
      "    # 補上我們沒有設定的Transformer預設參數\n",
      "    from fairseq.models.transformer import base_architecture \n",
      "    base_architecture(args)\n",
      "\n",
      "    args.encoder_layers = 4\n",
      "    args.decoder_layers = 4\n",
      "    args.encoder_ffn_embed_dim=1024\n",
      "\n"
     ]
    }
   ],
   "source": [
    "from model import add_transformer_args\n",
    "lines = inspect.getsource(add_transformer_args)\n",
    "print(lines)\n",
    "\n",
    "# medium\n",
    "arch_args = medium_arch_args = Namespace(\n",
    "    encoder_embed_dim=256,\n",
    "    encoder_ffn_embed_dim=512,\n",
    "    encoder_layers=4,\n",
    "    decoder_embed_dim=256,\n",
    "    decoder_ffn_embed_dim=1024,\n",
    "    decoder_layers=4,\n",
    "    share_decoder_input_output_embed=True,\n",
    "    dropout=0.3,\n",
    ")\n",
    "\n",
    "add_transformer_args(arch_args)"
   ]
  },
  {
   "cell_type": "code",
   "execution_count": 32,
   "id": "8c23c354-7347-47d8-ae90-d324ab0e5719",
   "metadata": {},
   "outputs": [
    {
     "data": {
      "text/plain": [
       "Namespace(activation_dropout=0.0, activation_fn='relu', adaptive_input=False, adaptive_softmax_cutoff=None, adaptive_softmax_dropout=0, attention_dropout=0.0, checkpoint_activations=False, cross_self_attention=False, decoder_attention_heads=4, decoder_embed_dim=256, decoder_embed_path=None, decoder_ffn_embed_dim=1024, decoder_input_dim=256, decoder_layerdrop=0, decoder_layers=4, decoder_layers_to_keep=None, decoder_learned_pos=False, decoder_normalize_before=True, decoder_output_dim=256, dropout=0.3, encoder_attention_heads=4, encoder_embed_dim=256, encoder_embed_path=None, encoder_ffn_embed_dim=1024, encoder_layerdrop=0, encoder_layers=4, encoder_layers_to_keep=None, encoder_learned_pos=False, encoder_normalize_before=True, layernorm_embedding=False, max_source_positions=1024, max_target_positions=1024, no_cross_attention=False, no_scale_embedding=False, no_token_positional_embeddings=False, quant_noise_pq=0, quant_noise_pq_block_size=8, quant_noise_scalar=0, share_all_embeddings=False, share_decoder_input_output_embed=True, tie_adaptive_weights=False)"
      ]
     },
     "execution_count": 32,
     "metadata": {},
     "output_type": "execute_result"
    }
   ],
   "source": [
    "arch_args"
   ]
  },
  {
   "cell_type": "code",
   "execution_count": 33,
   "id": "29edd46a-bafb-42ac-8f0e-9ce13bf7ebc1",
   "metadata": {},
   "outputs": [],
   "source": [
    "if config.use_wandb:\n",
    "    wandb.config.update(vars(arch_args))"
   ]
  },
  {
   "cell_type": "code",
   "execution_count": 34,
   "id": "326886e1-2478-408c-b951-5eaae32a8a13",
   "metadata": {},
   "outputs": [
    {
     "name": "stdout",
     "output_type": "stream",
     "text": [
      "2022-09-27 12:02:40 | INFO | hw5.seq2seq | Seq2Seq(\n",
      "  (encoder): TransformerEncoder(\n",
      "    (dropout_module): FairseqDropout()\n",
      "    (embed_tokens): Embedding(8000, 256, padding_idx=1)\n",
      "    (embed_positions): SinusoidalPositionalEmbedding()\n",
      "    (layers): ModuleList(\n",
      "      (0): TransformerEncoderLayer(\n",
      "        (self_attn): MultiheadAttention(\n",
      "          (dropout_module): FairseqDropout()\n",
      "          (k_proj): Linear(in_features=256, out_features=256, bias=True)\n",
      "          (v_proj): Linear(in_features=256, out_features=256, bias=True)\n",
      "          (q_proj): Linear(in_features=256, out_features=256, bias=True)\n",
      "          (out_proj): Linear(in_features=256, out_features=256, bias=True)\n",
      "        )\n",
      "        (self_attn_layer_norm): LayerNorm((256,), eps=1e-05, elementwise_affine=True)\n",
      "        (dropout_module): FairseqDropout()\n",
      "        (activation_dropout_module): FairseqDropout()\n",
      "        (fc1): Linear(in_features=256, out_features=1024, bias=True)\n",
      "        (fc2): Linear(in_features=1024, out_features=256, bias=True)\n",
      "        (final_layer_norm): LayerNorm((256,), eps=1e-05, elementwise_affine=True)\n",
      "      )\n",
      "      (1): TransformerEncoderLayer(\n",
      "        (self_attn): MultiheadAttention(\n",
      "          (dropout_module): FairseqDropout()\n",
      "          (k_proj): Linear(in_features=256, out_features=256, bias=True)\n",
      "          (v_proj): Linear(in_features=256, out_features=256, bias=True)\n",
      "          (q_proj): Linear(in_features=256, out_features=256, bias=True)\n",
      "          (out_proj): Linear(in_features=256, out_features=256, bias=True)\n",
      "        )\n",
      "        (self_attn_layer_norm): LayerNorm((256,), eps=1e-05, elementwise_affine=True)\n",
      "        (dropout_module): FairseqDropout()\n",
      "        (activation_dropout_module): FairseqDropout()\n",
      "        (fc1): Linear(in_features=256, out_features=1024, bias=True)\n",
      "        (fc2): Linear(in_features=1024, out_features=256, bias=True)\n",
      "        (final_layer_norm): LayerNorm((256,), eps=1e-05, elementwise_affine=True)\n",
      "      )\n",
      "      (2): TransformerEncoderLayer(\n",
      "        (self_attn): MultiheadAttention(\n",
      "          (dropout_module): FairseqDropout()\n",
      "          (k_proj): Linear(in_features=256, out_features=256, bias=True)\n",
      "          (v_proj): Linear(in_features=256, out_features=256, bias=True)\n",
      "          (q_proj): Linear(in_features=256, out_features=256, bias=True)\n",
      "          (out_proj): Linear(in_features=256, out_features=256, bias=True)\n",
      "        )\n",
      "        (self_attn_layer_norm): LayerNorm((256,), eps=1e-05, elementwise_affine=True)\n",
      "        (dropout_module): FairseqDropout()\n",
      "        (activation_dropout_module): FairseqDropout()\n",
      "        (fc1): Linear(in_features=256, out_features=1024, bias=True)\n",
      "        (fc2): Linear(in_features=1024, out_features=256, bias=True)\n",
      "        (final_layer_norm): LayerNorm((256,), eps=1e-05, elementwise_affine=True)\n",
      "      )\n",
      "      (3): TransformerEncoderLayer(\n",
      "        (self_attn): MultiheadAttention(\n",
      "          (dropout_module): FairseqDropout()\n",
      "          (k_proj): Linear(in_features=256, out_features=256, bias=True)\n",
      "          (v_proj): Linear(in_features=256, out_features=256, bias=True)\n",
      "          (q_proj): Linear(in_features=256, out_features=256, bias=True)\n",
      "          (out_proj): Linear(in_features=256, out_features=256, bias=True)\n",
      "        )\n",
      "        (self_attn_layer_norm): LayerNorm((256,), eps=1e-05, elementwise_affine=True)\n",
      "        (dropout_module): FairseqDropout()\n",
      "        (activation_dropout_module): FairseqDropout()\n",
      "        (fc1): Linear(in_features=256, out_features=1024, bias=True)\n",
      "        (fc2): Linear(in_features=1024, out_features=256, bias=True)\n",
      "        (final_layer_norm): LayerNorm((256,), eps=1e-05, elementwise_affine=True)\n",
      "      )\n",
      "    )\n",
      "    (layer_norm): LayerNorm((256,), eps=1e-05, elementwise_affine=True)\n",
      "  )\n",
      "  (decoder): TransformerDecoder(\n",
      "    (dropout_module): FairseqDropout()\n",
      "    (embed_tokens): Embedding(8000, 256, padding_idx=1)\n",
      "    (embed_positions): SinusoidalPositionalEmbedding()\n",
      "    (layers): ModuleList(\n",
      "      (0): TransformerDecoderLayer(\n",
      "        (dropout_module): FairseqDropout()\n",
      "        (self_attn): MultiheadAttention(\n",
      "          (dropout_module): FairseqDropout()\n",
      "          (k_proj): Linear(in_features=256, out_features=256, bias=True)\n",
      "          (v_proj): Linear(in_features=256, out_features=256, bias=True)\n",
      "          (q_proj): Linear(in_features=256, out_features=256, bias=True)\n",
      "          (out_proj): Linear(in_features=256, out_features=256, bias=True)\n",
      "        )\n",
      "        (activation_dropout_module): FairseqDropout()\n",
      "        (self_attn_layer_norm): LayerNorm((256,), eps=1e-05, elementwise_affine=True)\n",
      "        (encoder_attn): MultiheadAttention(\n",
      "          (dropout_module): FairseqDropout()\n",
      "          (k_proj): Linear(in_features=256, out_features=256, bias=True)\n",
      "          (v_proj): Linear(in_features=256, out_features=256, bias=True)\n",
      "          (q_proj): Linear(in_features=256, out_features=256, bias=True)\n",
      "          (out_proj): Linear(in_features=256, out_features=256, bias=True)\n",
      "        )\n",
      "        (encoder_attn_layer_norm): LayerNorm((256,), eps=1e-05, elementwise_affine=True)\n",
      "        (fc1): Linear(in_features=256, out_features=1024, bias=True)\n",
      "        (fc2): Linear(in_features=1024, out_features=256, bias=True)\n",
      "        (final_layer_norm): LayerNorm((256,), eps=1e-05, elementwise_affine=True)\n",
      "      )\n",
      "      (1): TransformerDecoderLayer(\n",
      "        (dropout_module): FairseqDropout()\n",
      "        (self_attn): MultiheadAttention(\n",
      "          (dropout_module): FairseqDropout()\n",
      "          (k_proj): Linear(in_features=256, out_features=256, bias=True)\n",
      "          (v_proj): Linear(in_features=256, out_features=256, bias=True)\n",
      "          (q_proj): Linear(in_features=256, out_features=256, bias=True)\n",
      "          (out_proj): Linear(in_features=256, out_features=256, bias=True)\n",
      "        )\n",
      "        (activation_dropout_module): FairseqDropout()\n",
      "        (self_attn_layer_norm): LayerNorm((256,), eps=1e-05, elementwise_affine=True)\n",
      "        (encoder_attn): MultiheadAttention(\n",
      "          (dropout_module): FairseqDropout()\n",
      "          (k_proj): Linear(in_features=256, out_features=256, bias=True)\n",
      "          (v_proj): Linear(in_features=256, out_features=256, bias=True)\n",
      "          (q_proj): Linear(in_features=256, out_features=256, bias=True)\n",
      "          (out_proj): Linear(in_features=256, out_features=256, bias=True)\n",
      "        )\n",
      "        (encoder_attn_layer_norm): LayerNorm((256,), eps=1e-05, elementwise_affine=True)\n",
      "        (fc1): Linear(in_features=256, out_features=1024, bias=True)\n",
      "        (fc2): Linear(in_features=1024, out_features=256, bias=True)\n",
      "        (final_layer_norm): LayerNorm((256,), eps=1e-05, elementwise_affine=True)\n",
      "      )\n",
      "      (2): TransformerDecoderLayer(\n",
      "        (dropout_module): FairseqDropout()\n",
      "        (self_attn): MultiheadAttention(\n",
      "          (dropout_module): FairseqDropout()\n",
      "          (k_proj): Linear(in_features=256, out_features=256, bias=True)\n",
      "          (v_proj): Linear(in_features=256, out_features=256, bias=True)\n",
      "          (q_proj): Linear(in_features=256, out_features=256, bias=True)\n",
      "          (out_proj): Linear(in_features=256, out_features=256, bias=True)\n",
      "        )\n",
      "        (activation_dropout_module): FairseqDropout()\n",
      "        (self_attn_layer_norm): LayerNorm((256,), eps=1e-05, elementwise_affine=True)\n",
      "        (encoder_attn): MultiheadAttention(\n",
      "          (dropout_module): FairseqDropout()\n",
      "          (k_proj): Linear(in_features=256, out_features=256, bias=True)\n",
      "          (v_proj): Linear(in_features=256, out_features=256, bias=True)\n",
      "          (q_proj): Linear(in_features=256, out_features=256, bias=True)\n",
      "          (out_proj): Linear(in_features=256, out_features=256, bias=True)\n",
      "        )\n",
      "        (encoder_attn_layer_norm): LayerNorm((256,), eps=1e-05, elementwise_affine=True)\n",
      "        (fc1): Linear(in_features=256, out_features=1024, bias=True)\n",
      "        (fc2): Linear(in_features=1024, out_features=256, bias=True)\n",
      "        (final_layer_norm): LayerNorm((256,), eps=1e-05, elementwise_affine=True)\n",
      "      )\n",
      "      (3): TransformerDecoderLayer(\n",
      "        (dropout_module): FairseqDropout()\n",
      "        (self_attn): MultiheadAttention(\n",
      "          (dropout_module): FairseqDropout()\n",
      "          (k_proj): Linear(in_features=256, out_features=256, bias=True)\n",
      "          (v_proj): Linear(in_features=256, out_features=256, bias=True)\n",
      "          (q_proj): Linear(in_features=256, out_features=256, bias=True)\n",
      "          (out_proj): Linear(in_features=256, out_features=256, bias=True)\n",
      "        )\n",
      "        (activation_dropout_module): FairseqDropout()\n",
      "        (self_attn_layer_norm): LayerNorm((256,), eps=1e-05, elementwise_affine=True)\n",
      "        (encoder_attn): MultiheadAttention(\n",
      "          (dropout_module): FairseqDropout()\n",
      "          (k_proj): Linear(in_features=256, out_features=256, bias=True)\n",
      "          (v_proj): Linear(in_features=256, out_features=256, bias=True)\n",
      "          (q_proj): Linear(in_features=256, out_features=256, bias=True)\n",
      "          (out_proj): Linear(in_features=256, out_features=256, bias=True)\n",
      "        )\n",
      "        (encoder_attn_layer_norm): LayerNorm((256,), eps=1e-05, elementwise_affine=True)\n",
      "        (fc1): Linear(in_features=256, out_features=1024, bias=True)\n",
      "        (fc2): Linear(in_features=1024, out_features=256, bias=True)\n",
      "        (final_layer_norm): LayerNorm((256,), eps=1e-05, elementwise_affine=True)\n",
      "      )\n",
      "    )\n",
      "    (layer_norm): LayerNorm((256,), eps=1e-05, elementwise_affine=True)\n",
      "    (output_projection): Linear(in_features=256, out_features=8000, bias=False)\n",
      "  )\n",
      ")\n"
     ]
    }
   ],
   "source": [
    "model = build_model(arch_args, task)\n",
    "logger.info(model)"
   ]
  },
  {
   "attachments": {
    "3563720b-badd-42f7-a253-7fcb1efa48ea.png": {
     "image/png": "[encoded data removed]"
    }
   },
   "cell_type": "markdown",
   "id": "4fca001e-4bf4-40ac-9c16-6e1537b45fa9",
   "metadata": {},
   "source": [
    "## baseline\n",
    "![image.png](attachment:3563720b-badd-42f7-a253-7fcb1efa48ea.png)"
   ]
  },
  {
   "cell_type": "markdown",
   "id": "e08c3b78-0ce8-4ea2-bd87-8fd5c3bad3cc",
   "metadata": {},
   "source": [
    "# Optimization 最佳化"
   ]
  },
  {
   "cell_type": "markdown",
   "id": "522b9c37-835a-47e1-8474-57612364fe3a",
   "metadata": {},
   "source": [
    "## Loss: Label Smoothing Regularization\n",
    "* 讓模型學習輸出較不集中的分佈，防止模型過度自信\n",
    "* 有時候Ground Truth並非唯一答案，所以在算loss時，我們會保留一部份機率給正確答案以外的label\n",
    "* 可以有效防止過度擬合\n",
    "\n",
    "code [source](https://fairseq.readthedocs.io/en/latest/_modules/fairseq/criterions/label_smoothed_cross_entropy.html)"
   ]
  },
  {
   "cell_type": "code",
   "execution_count": 35,
   "id": "127f85d3-3051-45cd-aa7d-9d7d303ebf31",
   "metadata": {},
   "outputs": [
    {
     "name": "stdout",
     "output_type": "stream",
     "text": [
      "class LabelSmoothedCrossEntropyCriterion(nn.Module):\n",
      "    def __init__(self, smoothing, ignore_index=None, reduce=True):\n",
      "        super().__init__()\n",
      "        self.smoothing = smoothing\n",
      "        self.ignore_index = ignore_index\n",
      "        self.reduce = reduce\n",
      "    \n",
      "    def forward(self, lprobs, target):\n",
      "        if target.dim() == lprobs.dim() - 1:\n",
      "            target = target.unsqueeze(-1)\n",
      "        # nll: Negative log likelihood，當目標是one-hot時的cross-entropy loss. 以下同 F.nll_loss\n",
      "        nll_loss = -lprobs.gather(dim=-1, index=target)\n",
      "        # 將一部分正確答案的機率分配給其他label 所以當計算cross-entropy時等於把所有label的log prob加起來\n",
      "        smooth_loss = -lprobs.sum(dim=-1, keepdim=True)\n",
      "        if self.ignore_index is not None:\n",
      "            pad_mask = target.eq(self.ignore_index)\n",
      "            nll_loss.masked_fill_(pad_mask, 0.0)\n",
      "            smooth_loss.masked_fill_(pad_mask, 0.0)\n",
      "        else:\n",
      "            nll_loss = nll_loss.squeeze(-1)\n",
      "            smooth_loss = smooth_loss.squeeze(-1)\n",
      "        if self.reduce:\n",
      "            nll_loss = nll_loss.sum()\n",
      "            smooth_loss = smooth_loss.sum()\n",
      "        # 計算cross-entropy時 加入分配給其他label的loss\n",
      "        eps_i = self.smoothing / lprobs.size(-1)\n",
      "        loss = (1.0 - self.smoothing) * nll_loss + eps_i * smooth_loss\n",
      "        return loss\n",
      "\n"
     ]
    }
   ],
   "source": [
    "from loss import LabelSmoothedCrossEntropyCriterion\n",
    "lines = inspect.getsource(LabelSmoothedCrossEntropyCriterion)\n",
    "print(lines)\n",
    "\n",
    "# 一般都用0.1效果就很好了\n",
    "criterion = LabelSmoothedCrossEntropyCriterion(\n",
    "    smoothing=0.1,\n",
    "    ignore_index=task.target_dictionary.pad(),\n",
    ")"
   ]
  },
  {
   "cell_type": "markdown",
   "id": "fb33bb1e-4c4b-4ba8-ab93-d2f2f0d36106",
   "metadata": {},
   "source": [
    "## Optimizer: Adam + lr scheduling\n",
    "Inverse square root 排程對於訓練 Transformer 時的穩定性很重要，後來也用在 RNN 上。\n",
    "根據底下公式來更新 learning rate，前期線性增長，後期根據更新步數方根的倒數來遞減。\n",
    "$$lrate = d_{\\text{model}}^{-0.5}\\cdot\\min({step\\_num}^{-0.5},{step\\_num}\\cdot{warmup\\_steps}^{-1.5})$$\n",
    "code [source](https://nlp.seas.harvard.edu/2018/04/03/attention.html)"
   ]
  },
  {
   "cell_type": "code",
   "execution_count": 36,
   "id": "5be52351-0464-4794-baaf-52602f6e34c3",
   "metadata": {},
   "outputs": [
    {
     "name": "stdout",
     "output_type": "stream",
     "text": [
      "class NoamOpt:\n",
      "    \"Optim wrapper that implements rate.\"\n",
      "    def __init__(self, model_size, factor, warmup, optimizer):\n",
      "        self.optimizer = optimizer\n",
      "        self._step = 0\n",
      "        self.warmup = warmup\n",
      "        self.factor = factor\n",
      "        self.model_size = model_size\n",
      "        self._rate = 0\n",
      "    \n",
      "    @property\n",
      "    def param_groups(self):\n",
      "        return self.optimizer.param_groups\n",
      "        \n",
      "    def multiply_grads(self, c):\n",
      "        \"\"\"Multiplies grads by a constant *c*.\"\"\"                \n",
      "        for group in self.param_groups:\n",
      "            for p in group['params']:\n",
      "                if p.grad is not None:\n",
      "                    p.grad.data.mul_(c)\n",
      "        \n",
      "    def step(self):\n",
      "        \"Update parameters and rate\"\n",
      "        self._step += 1\n",
      "        rate = self.rate()\n",
      "        for p in self.param_groups:\n",
      "            p['lr'] = rate\n",
      "        self._rate = rate\n",
      "        self.optimizer.step()\n",
      "        \n",
      "    def rate(self, step = None):\n",
      "        \"Implement `lrate` above\"\n",
      "        if step is None:\n",
      "            step = self._step\n",
      "        return 0 if not step else self.factor * \\\n",
      "            (self.model_size ** (-0.5) *\n",
      "            min(step ** (-0.5), step * self.warmup ** (-1.5)))\n",
      "\n"
     ]
    }
   ],
   "source": [
    "from optimizer import NoamOpt\n",
    "lines = inspect.getsource(NoamOpt)\n",
    "print(lines)"
   ]
  },
  {
   "cell_type": "markdown",
   "id": "0ae4f619-3fb7-4f98-b862-623a02ddd3c4",
   "metadata": {},
   "source": [
    "## 排程視覺化"
   ]
  },
  {
   "cell_type": "code",
   "execution_count": 37,
   "id": "dd566d7c-97f7-49b3-b29c-f4924984c657",
   "metadata": {},
   "outputs": [
    {
     "data": {
      "image/png": "[encoded data removed]",
      "text/plain": [
       "<Figure size 640x480 with 1 Axes>"
      ]
     },
     "metadata": {},
     "output_type": "display_data"
    }
   ],
   "source": [
    "optimizer = NoamOpt(\n",
    "    model_size=arch_args.encoder_embed_dim, \n",
    "    factor=config.lr_factor, \n",
    "    warmup=config.lr_warmup, \n",
    "    optimizer=torch.optim.AdamW(model.parameters(), lr=0, betas=(0.9, 0.98), eps=1e-9, weight_decay=0.0001))\n",
    "plt.plot(np.arange(1, 100000), [optimizer.rate(i) for i in range(1, 100000)])\n",
    "plt.legend([f\"{optimizer.model_size}:{optimizer.warmup}\"])\n",
    "None"
   ]
  },
  {
   "cell_type": "markdown",
   "id": "59f1ca54-936b-4c4a-b5db-5c0911483bd2",
   "metadata": {},
   "source": [
    "# 訓練步驟"
   ]
  },
  {
   "cell_type": "markdown",
   "id": "13623da5-7492-4d50-b33c-92705490b9e6",
   "metadata": {},
   "source": [
    "## Training 訓練"
   ]
  },
  {
   "cell_type": "code",
   "execution_count": 38,
   "id": "468a21de-5d35-4c42-9228-c00d8b8c46f7",
   "metadata": {},
   "outputs": [
    {
     "name": "stdout",
     "output_type": "stream",
     "text": [
      "def train_one_epoch(epoch_itr, model, task, criterion, optimizer, accum_steps=1, logger=None):\n",
      "    itr = epoch_itr.next_epoch_itr(shuffle=True)\n",
      "    itr = iterators.GroupedIterator(itr, accum_steps) # 梯度累積: 每 accum_steps 個 sample 更新一次\n",
      "    \n",
      "    stats = {\"loss\": []}\n",
      "    scaler = GradScaler() # 混和精度訓練 automatic mixed precision (amp) \n",
      "    \n",
      "    model.train()\n",
      "    progress = tqdm(itr, desc=f\"train epoch {epoch_itr.epoch}\", leave=False)\n",
      "    for samples in progress:\n",
      "        model.zero_grad()\n",
      "        accum_loss = 0\n",
      "        sample_size = 0\n",
      "        # 梯度累積: 每 accum_steps 個 sample 更新一次\n",
      "        for i, sample in enumerate(samples):\n",
      "            if i == 1:\n",
      "                # emptying the CUDA cache after the first step can reduce the chance of OOM\n",
      "                torch.cuda.empty_cache()\n",
      "\n",
      "            sample = utils.move_to_cuda(sample, device=device)\n",
      "            target = sample[\"target\"]\n",
      "            sample_size_i = sample[\"ntokens\"]\n",
      "            sample_size += sample_size_i\n",
      "            \n",
      "            # 混和精度訓練 \n",
      "            with autocast():\n",
      "                net_output = model.forward(**sample[\"net_input\"])\n",
      "                lprobs = F.log_softmax(net_output[0], -1)            \n",
      "                loss = criterion(lprobs.view(-1, lprobs.size(-1)), target.view(-1))\n",
      "                \n",
      "                # logging\n",
      "                accum_loss += loss.item()\n",
      "                # back-prop\n",
      "                scaler.scale(loss).backward()                \n",
      "        \n",
      "        scaler.unscale_(optimizer)\n",
      "        optimizer.multiply_grads(1 / (sample_size or 1.0)) # (sample_size or 1.0) handles the case of a zero gradient\n",
      "        gnorm = nn.utils.clip_grad_norm_(model.parameters(), config.clip_norm) # 梯度裁剪 防止梯度爆炸\n",
      "        \n",
      "        scaler.step(optimizer)\n",
      "        scaler.update()\n",
      "        \n",
      "        # logging\n",
      "        loss_print = accum_loss/sample_size\n",
      "        stats[\"loss\"].append(loss_print)\n",
      "        progress.set_postfix(loss=loss_print)\n",
      "        if config.use_wandb:\n",
      "            wandb.log({\n",
      "                \"train/loss\": loss_print,\n",
      "                \"train/grad_norm\": gnorm.item(),\n",
      "                \"train/lr\": optimizer.rate(),\n",
      "                \"train/sample_size\": sample_size,\n",
      "            })\n",
      "        \n",
      "    loss_print = np.mean(stats[\"loss\"])\n",
      "    logger.info(f\"training loss: {loss_print:.4f}\")\n",
      "    return stats\n",
      "\n"
     ]
    }
   ],
   "source": [
    "from train_script import train_one_epoch\n",
    "\n",
    "from fairseq.data import iterators\n",
    "from torch.cuda.amp import GradScaler, autocast\n",
    "\n",
    "lines = inspect.getsource(train_one_epoch)\n",
    "print(lines)"
   ]
  },
  {
   "cell_type": "markdown",
   "id": "ce01bc63-4e13-482e-842b-270b33f294dc",
   "metadata": {},
   "source": [
    "## Validation & Inference 檢驗和推論\n",
    "為防止訓練發生過度擬合，每過一段時間要做一次檢測，計算模型在未看過的資料上的表現。\n",
    "- 過程基本上和training一樣，另外加上 inference\n",
    "- 檢驗完畢可順便儲存模型參數\n",
    "\n",
    "單看 validation loss，我們很難知道模型真實的效能\n",
    "- 直接用當前模型去生成翻譯結果 (hypothesis)，再和正確答案 (reference) 計算 BLEU score\n",
    "- 也可用肉眼看翻譯結果的好壞\n",
    "- 我們用 fairseq 寫好的 sequence generator 來進行 beam search 生成翻譯結果"
   ]
  },
  {
   "cell_type": "code",
   "execution_count": 39,
   "id": "dca96ab8-8494-4ab9-9c74-5b5f7a59954a",
   "metadata": {},
   "outputs": [
    {
     "name": "stdout",
     "output_type": "stream",
     "text": [
      "def decode(toks, dictionary):\n",
      "    # 從 Tensor 轉成人看得懂的句子\n",
      "    s = dictionary.string(\n",
      "        toks.int().cpu(),\n",
      "        config.post_process,\n",
      "    )\n",
      "    return s if s else \"<unk>\"\n",
      "\n",
      "def inference_step(sample, model, sequence_generator=None, task=None):\n",
      "    gen_out = sequence_generator.generate([model], sample)\n",
      "    srcs = []\n",
      "    hyps = []\n",
      "    refs = []\n",
      "    for i in range(len(gen_out)):\n",
      "        # 對於每個 sample, 收集輸入，輸出和參考答案，稍後計算 BLEU\n",
      "        srcs.append(decode(\n",
      "            utils.strip_pad(sample[\"net_input\"][\"src_tokens\"][i], task.source_dictionary.pad()), \n",
      "            task.source_dictionary,\n",
      "        ))\n",
      "        hyps.append(decode(\n",
      "            gen_out[i][0][\"tokens\"], # 0 代表取出 beam 內分數第一的輸出結果\n",
      "            task.target_dictionary,\n",
      "        ))\n",
      "        refs.append(decode(\n",
      "            utils.strip_pad(sample[\"target\"][i], task.target_dictionary.pad()), \n",
      "            task.target_dictionary,\n",
      "        ))\n",
      "    return srcs, hyps, refs\n",
      "\n"
     ]
    }
   ],
   "source": [
    "# fairseq 的 beam search generator\n",
    "# 給定模型和輸入序列，用 beam search 生成翻譯結果\n",
    "sequence_generator = task.build_generator([model], config)\n",
    "\n",
    "from inference_script import decode, inference_step\n",
    "\n",
    "lines = inspect.getsource(decode)\n",
    "print(lines)\n",
    "\n",
    "lines = inspect.getsource(inference_step)\n",
    "print(lines)"
   ]
  },
  {
   "attachments": {
    "883ca69e-65f8-4072-b9ae-ac74e2acadf4.png": {
     "image/png": "[encoded data removed]"
    }
   },
   "cell_type": "markdown",
   "id": "e090e0ce-1c0e-4625-8e53-793d585eda4b",
   "metadata": {},
   "source": [
    "![image.png](attachment:883ca69e-65f8-4072-b9ae-ac74e2acadf4.png)"
   ]
  },
  {
   "cell_type": "code",
   "execution_count": 40,
   "id": "0b233167-0808-4dfe-9978-02aba04a3b29",
   "metadata": {},
   "outputs": [
    {
     "name": "stdout",
     "output_type": "stream",
     "text": [
      "def validate(model, task, criterion, sequence_generator=None, logger=None, log_to_wandb=True):\n",
      "    logger.info('begin validation')\n",
      "    itr = load_data_iterator(task, \"valid\", 1, config.max_tokens, config.num_workers).next_epoch_itr(shuffle=False)\n",
      "    \n",
      "    stats = {\"loss\":[], \"bleu\": 0, \"srcs\":[], \"hyps\":[], \"refs\":[]}\n",
      "    srcs = []\n",
      "    hyps = []\n",
      "    refs = []\n",
      "    \n",
      "    model.eval()\n",
      "    progress = tqdm(itr, desc=f\"validation\", leave=False)\n",
      "    with torch.no_grad():\n",
      "        for i, sample in enumerate(progress):\n",
      "            # validation loss\n",
      "            sample = utils.move_to_cuda(sample, device=device)\n",
      "            net_output = model.forward(**sample[\"net_input\"])\n",
      "\n",
      "            lprobs = F.log_softmax(net_output[0], -1)\n",
      "            target = sample[\"target\"]\n",
      "            sample_size = sample[\"ntokens\"]\n",
      "            loss = criterion(lprobs.view(-1, lprobs.size(-1)), target.view(-1)) / sample_size\n",
      "            progress.set_postfix(valid_loss=loss.item())\n",
      "            stats[\"loss\"].append(loss)\n",
      "            \n",
      "            # 進行推論\n",
      "            s, h, r = inference_step(sample, model, sequence_generator, task)\n",
      "            srcs.extend(s)\n",
      "            hyps.extend(h)\n",
      "            refs.extend(r)\n",
      "            \n",
      "    tok = 'zh' if task.cfg.target_lang == 'zh' else '13a'\n",
      "    stats[\"loss\"] = torch.stack(stats[\"loss\"]).mean().item()\n",
      "    stats[\"bleu\"] = sacrebleu.corpus_bleu(hyps, [refs], tokenize=tok) # 計算BLEU score\n",
      "    stats[\"srcs\"] = srcs\n",
      "    stats[\"hyps\"] = hyps\n",
      "    stats[\"refs\"] = refs\n",
      "    \n",
      "    if config.use_wandb and log_to_wandb:\n",
      "        wandb.log({\n",
      "            \"valid/loss\": stats[\"loss\"],\n",
      "            \"valid/bleu\": stats[\"bleu\"].score,\n",
      "        }, commit=False)\n",
      "    \n",
      "    showid = np.random.randint(len(hyps))\n",
      "    logger.info(\"example source: \" + srcs[showid])\n",
      "    logger.info(\"example hypothesis: \" + hyps[showid])\n",
      "    logger.info(\"example reference: \" + refs[showid])\n",
      "    \n",
      "    # show bleu results\n",
      "    logger.info(f\"validation loss:\\t{stats['loss']:.4f}\")\n",
      "    logger.info(stats[\"bleu\"].format())\n",
      "    return stats\n",
      "\n"
     ]
    }
   ],
   "source": [
    "import shutil\n",
    "import sacrebleu\n",
    "\n",
    "from valid_script import validate\n",
    "\n",
    "lines = inspect.getsource(validate)\n",
    "print(lines)"
   ]
  },
  {
   "cell_type": "markdown",
   "id": "ab8e5a1b-24f3-46d2-b655-85f2a5f8d753",
   "metadata": {},
   "source": [
    "# 儲存及載入模型參數"
   ]
  },
  {
   "cell_type": "code",
   "execution_count": 41,
   "id": "3a8929df-1875-4dad-8e44-88b79ff94af2",
   "metadata": {},
   "outputs": [
    {
     "name": "stdout",
     "output_type": "stream",
     "text": [
      "def validate_and_save(model, task, criterion, optimizer, epoch, save=True, sequence_generator=None, logger=None):   \n",
      "    stats = validate(model, task, criterion, sequence_generator, logger)\n",
      "    bleu = stats['bleu']\n",
      "    loss = stats['loss']\n",
      "    if save:\n",
      "        # save epoch checkpoints\n",
      "        savedir = Path(config.savedir).absolute()\n",
      "        savedir.mkdir(parents=True, exist_ok=True)\n",
      "        \n",
      "        check = {\n",
      "            \"model\": model.state_dict(),\n",
      "            \"stats\": {\"bleu\": bleu.score, \"loss\": loss},\n",
      "            \"optim\": {\"step\": optimizer._step}\n",
      "        }\n",
      "        torch.save(check, savedir/f\"checkpoint{epoch}.pt\")\n",
      "        shutil.copy(savedir/f\"checkpoint{epoch}.pt\", savedir/f\"checkpoint_last.pt\")\n",
      "        logger.info(f\"saved epoch checkpoint: {savedir}/checkpoint{epoch}.pt\")\n",
      "    \n",
      "        # save epoch samples\n",
      "        with open(savedir/f\"samples{epoch}.{config.source_lang}-{config.target_lang}.txt\", \"w\") as f:\n",
      "            for s, h in zip(stats[\"srcs\"], stats[\"hyps\"]):\n",
      "                f.write(f\"{s}\\t{h}\\n\")\n",
      "\n",
      "        # get best valid bleu    \n",
      "        if getattr(validate_and_save, \"best_bleu\", 0) < bleu.score:\n",
      "            validate_and_save.best_bleu = bleu.score\n",
      "            torch.save(check, savedir/f\"checkpoint_best.pt\")\n",
      "            \n",
      "        del_file = savedir / f\"checkpoint{epoch - config.keep_last_epochs}.pt\"\n",
      "        if del_file.exists():\n",
      "            del_file.unlink()\n",
      "    \n",
      "    return stats\n",
      "\n",
      "def try_load_checkpoint(model, optimizer=None, name=None, logger=None):\n",
      "    name = name if name else \"checkpoint_last.pt\"\n",
      "    checkpath = Path(config.savedir)/name\n",
      "    if checkpath.exists():\n",
      "        check = torch.load(checkpath)\n",
      "        model.load_state_dict(check[\"model\"])\n",
      "        stats = check[\"stats\"]\n",
      "        step = \"unknown\"\n",
      "        if optimizer != None:\n",
      "            optimizer._step = step = check[\"optim\"][\"step\"]\n",
      "        logger.info(f\"loaded checkpoint {checkpath}: step={step} loss={stats['loss']} bleu={stats['bleu']}\")\n",
      "    else:\n",
      "        logger.info(f\"no checkpoints found at {checkpath}!\")\n",
      "\n"
     ]
    }
   ],
   "source": [
    "from utils import validate_and_save, try_load_checkpoint\n",
    "\n",
    "lines = inspect.getsource(validate_and_save)\n",
    "print(lines)\n",
    "\n",
    "lines = inspect.getsource(try_load_checkpoint)\n",
    "print(lines)"
   ]
  },
  {
   "cell_type": "markdown",
   "id": "0b6a5372-52ae-4989-8686-a948a33ecc8a",
   "metadata": {},
   "source": [
    "# 主程式 (main.py)\n",
    "## 訓練迴圈"
   ]
  },
  {
   "cell_type": "code",
   "execution_count": 42,
   "id": "0e4c5452-8a9d-4cf2-92f9-d44304f9968d",
   "metadata": {},
   "outputs": [],
   "source": [
    "model = model.to(device=device)\n",
    "criterion = criterion.to(device=device)"
   ]
  },
  {
   "cell_type": "code",
   "execution_count": 43,
   "id": "a6a2cc8a-f27f-4e6d-8dde-cf2c96628fb3",
   "metadata": {},
   "outputs": [
    {
     "name": "stdout",
     "output_type": "stream",
     "text": [
      "Tue Sep 27 12:02:41 2022       \n",
      "+-----------------------------------------------------------------------------+\n",
      "| NVIDIA-SMI 470.141.03   Driver Version: 470.141.03   CUDA Version: 11.4     |\n",
      "|-------------------------------+----------------------+----------------------+\n",
      "| GPU  Name        Persistence-M| Bus-Id        Disp.A | Volatile Uncorr. ECC |\n",
      "| Fan  Temp  Perf  Pwr:Usage/Cap|         Memory-Usage | GPU-Util  Compute M. |\n",
      "|                               |                      |               MIG M. |\n",
      "|===============================+======================+======================|\n",
      "|   0  NVIDIA GeForce ...  Off  | 00000000:01:00.0  On |                  N/A |\n",
      "| 50%   60C    P2    56W / 250W |   1478MiB /  7981MiB |     22%      Default |\n",
      "|                               |                      |                  N/A |\n",
      "+-------------------------------+----------------------+----------------------+\n",
      "                                                                               \n",
      "+-----------------------------------------------------------------------------+\n",
      "| Processes:                                                                  |\n",
      "|  GPU   GI   CI        PID   Type   Process name                  GPU Memory |\n",
      "|        ID   ID                                                   Usage      |\n",
      "|=============================================================================|\n",
      "|    0   N/A  N/A      1251      G   /usr/lib/xorg/Xorg                 26MiB |\n",
      "|    0   N/A  N/A      2162      G   /usr/bin/gnome-shell               92MiB |\n",
      "|    0   N/A  N/A      2264      G   ...RendererForSitePerProcess       10MiB |\n",
      "|    0   N/A  N/A      2599      G   /usr/lib/xorg/Xorg                524MiB |\n",
      "|    0   N/A  N/A      2723      G   /usr/bin/gnome-shell               63MiB |\n",
      "|    0   N/A  N/A      3664      G   ...RendererForSitePerProcess       10MiB |\n",
      "|    0   N/A  N/A     10142      G   ...RendererForSitePerProcess       10MiB |\n",
      "|    0   N/A  N/A     16721      G   ...847143083936866869,131072       93MiB |\n",
      "|    0   N/A  N/A     21412      G   ...RendererForSitePerProcess       84MiB |\n",
      "|    0   N/A  N/A     22522      G   ...RendererForSitePerProcess       10MiB |\n",
      "|    0   N/A  N/A     24902      G   ...mviewer/tv_bin/TeamViewer        9MiB |\n",
      "|    0   N/A  N/A     26292      C   ...nvs/torch_1_21/bin/python      531MiB |\n",
      "+-----------------------------------------------------------------------------+\n"
     ]
    }
   ],
   "source": [
    "!nvidia-smi"
   ]
  },
  {
   "cell_type": "code",
   "execution_count": 44,
   "id": "8266af6e-69c7-4263-b3ed-4e1c4a5fd553",
   "metadata": {},
   "outputs": [
    {
     "name": "stdout",
     "output_type": "stream",
     "text": [
      "2022-09-27 12:02:42 | INFO | hw5.seq2seq | task: TranslationTask\n",
      "2022-09-27 12:02:42 | INFO | hw5.seq2seq | encoder: TransformerEncoder\n",
      "2022-09-27 12:02:42 | INFO | hw5.seq2seq | decoder: TransformerDecoder\n",
      "2022-09-27 12:02:42 | INFO | hw5.seq2seq | criterion: LabelSmoothedCrossEntropyCriterion\n",
      "2022-09-27 12:02:42 | INFO | hw5.seq2seq | optimizer: NoamOpt\n",
      "2022-09-27 12:02:42 | INFO | hw5.seq2seq | num. model params: 11,469,824 (num. trained: 11,469,824)\n",
      "2022-09-27 12:02:42 | INFO | hw5.seq2seq | max tokens per batch = 8192, accumulate steps = 2\n"
     ]
    }
   ],
   "source": [
    "logger.info(\"task: {}\".format(task.__class__.__name__))\n",
    "logger.info(\"encoder: {}\".format(model.encoder.__class__.__name__))\n",
    "logger.info(\"decoder: {}\".format(model.decoder.__class__.__name__))\n",
    "logger.info(\"criterion: {}\".format(criterion.__class__.__name__))\n",
    "logger.info(\"optimizer: {}\".format(optimizer.__class__.__name__))\n",
    "logger.info(\n",
    "    \"num. model params: {:,} (num. trained: {:,})\".format(\n",
    "        sum(p.numel() for p in model.parameters()),\n",
    "        sum(p.numel() for p in model.parameters() if p.requires_grad),\n",
    "    )\n",
    ")\n",
    "logger.info(f\"max tokens per batch = {config.max_tokens}, accumulate steps = {config.accum_steps}\")"
   ]
  },
  {
   "cell_type": "code",
   "execution_count": 45,
   "id": "2e6bc502-29b7-46f1-9fdf-7ab9b1d02ce2",
   "metadata": {},
   "outputs": [
    {
     "name": "stdout",
     "output_type": "stream",
     "text": [
      "2022-09-27 12:02:42 | WARNING | fairseq.tasks.fairseq_task | 1 samples have invalid sizes and will be skipped, max_positions=(1024, 1024), first few sample ids=[326651]\n",
      "2022-09-27 12:02:42 | INFO | hw5.seq2seq | loaded checkpoint checkpoints/transformer/checkpoint_last.pt: step=778 loss=5.9944257736206055 bleu=0.8617376660763251\n"
     ]
    },
    {
     "name": "stderr",
     "output_type": "stream",
     "text": [
      "                                                                                    "
     ]
    },
    {
     "name": "stdout",
     "output_type": "stream",
     "text": [
      "2022-09-27 12:04:38 | INFO | hw5.seq2seq | training loss: 5.5349\n",
      "2022-09-27 12:04:38 | INFO | hw5.seq2seq | begin validation\n"
     ]
    },
    {
     "name": "stderr",
     "output_type": "stream",
     "text": [
      "validation:   0%|                            | 0/23 [00:00<?, ?it/s, valid_loss=4.1]/home/leyan/anaconda3/envs/torch_1_21/lib/python3.8/site-packages/fairseq/search.py:140: UserWarning: __floordiv__ is deprecated, and its behavior will change in a future version of pytorch. It currently rounds toward 0 (like the 'trunc' function NOT 'floor'). This results in incorrect rounding for negative values. To keep the current behavior, use torch.div(a, b, rounding_mode='trunc'), or for actual floor division, use torch.div(a, b, rounding_mode='floor').\n",
      "  beams_buf = indices_buf // vocab_size\n",
      "/home/leyan/anaconda3/envs/torch_1_21/lib/python3.8/site-packages/fairseq/sequence_generator.py:657: UserWarning: __floordiv__ is deprecated, and its behavior will change in a future version of pytorch. It currently rounds toward 0 (like the 'trunc' function NOT 'floor'). This results in incorrect rounding for negative values. To keep the current behavior, use torch.div(a, b, rounding_mode='trunc'), or for actual floor division, use torch.div(a, b, rounding_mode='floor').\n",
      "  unfin_idx = idx // beam_size\n",
      "                                                                                    \r"
     ]
    },
    {
     "name": "stdout",
     "output_type": "stream",
     "text": [
      "2022-09-27 12:04:56 | INFO | hw5.seq2seq | example source: we shouldn't overvalue stem .\n",
      "2022-09-27 12:04:56 | INFO | hw5.seq2seq | example hypothesis: 我們應該在大麻麻麻麻麻煩 。\n",
      "2022-09-27 12:04:56 | INFO | hw5.seq2seq | example reference: 我們不應該過度重視stem 。\n",
      "2022-09-27 12:04:56 | INFO | hw5.seq2seq | validation loss:\t4.9911\n",
      "2022-09-27 12:04:56 | INFO | hw5.seq2seq | BLEU = 7.90 35.4/13.3/5.4/2.2 (BP = 0.916 ratio = 0.919 hyp_len = 102994 ref_len = 112023)\n",
      "2022-09-27 12:04:56 | INFO | hw5.seq2seq | saved epoch checkpoint: /home/leyan/Documents/Hung-yi-Lee/hw6_transformer/checkpoints/transformer/checkpoint1.pt\n",
      "2022-09-27 12:04:56 | INFO | hw5.seq2seq | end of epoch 1\n"
     ]
    },
    {
     "name": "stderr",
     "output_type": "stream",
     "text": [
      "                                                                                    "
     ]
    },
    {
     "name": "stdout",
     "output_type": "stream",
     "text": [
      "2022-09-27 12:06:50 | INFO | hw5.seq2seq | training loss: 4.9193\n",
      "2022-09-27 12:06:50 | INFO | hw5.seq2seq | begin validation\n"
     ]
    },
    {
     "name": "stderr",
     "output_type": "stream",
     "text": [
      "                                                                                    \r"
     ]
    },
    {
     "name": "stdout",
     "output_type": "stream",
     "text": [
      "2022-09-27 12:07:08 | INFO | hw5.seq2seq | example source: well she was back all right .\n",
      "2022-09-27 12:07:08 | INFO | hw5.seq2seq | example hypothesis: 她回來了 。\n",
      "2022-09-27 12:07:08 | INFO | hw5.seq2seq | example reference: 好吧 , 她回來了\n",
      "2022-09-27 12:07:08 | INFO | hw5.seq2seq | validation loss:\t4.5440\n",
      "2022-09-27 12:07:08 | INFO | hw5.seq2seq | BLEU = 11.70 44.7/19.7/9.3/4.6 (BP = 0.838 ratio = 0.850 hyp_len = 95176 ref_len = 112023)\n",
      "2022-09-27 12:07:09 | INFO | hw5.seq2seq | saved epoch checkpoint: /home/leyan/Documents/Hung-yi-Lee/hw6_transformer/checkpoints/transformer/checkpoint2.pt\n",
      "2022-09-27 12:07:09 | INFO | hw5.seq2seq | end of epoch 2\n"
     ]
    },
    {
     "name": "stderr",
     "output_type": "stream",
     "text": [
      "                                                                                    "
     ]
    },
    {
     "name": "stdout",
     "output_type": "stream",
     "text": [
      "2022-09-27 12:09:02 | INFO | hw5.seq2seq | training loss: 4.5959\n",
      "2022-09-27 12:09:02 | INFO | hw5.seq2seq | begin validation\n"
     ]
    },
    {
     "name": "stderr",
     "output_type": "stream",
     "text": [
      "                                                                                    \r"
     ]
    },
    {
     "name": "stdout",
     "output_type": "stream",
     "text": [
      "2022-09-27 12:09:23 | INFO | hw5.seq2seq | example source: we had basically three requirements .\n",
      "2022-09-27 12:09:23 | INFO | hw5.seq2seq | example hypothesis: 我們基本上有三個需要 。\n",
      "2022-09-27 12:09:23 | INFO | hw5.seq2seq | example reference: 基本上我們有三個需求\n",
      "2022-09-27 12:09:23 | INFO | hw5.seq2seq | validation loss:\t4.2640\n",
      "2022-09-27 12:09:23 | INFO | hw5.seq2seq | BLEU = 14.32 48.4/23.0/11.7/6.2 (BP = 0.849 ratio = 0.860 hyp_len = 96308 ref_len = 112023)\n",
      "2022-09-27 12:09:23 | INFO | hw5.seq2seq | saved epoch checkpoint: /home/leyan/Documents/Hung-yi-Lee/hw6_transformer/checkpoints/transformer/checkpoint3.pt\n",
      "2022-09-27 12:09:23 | INFO | hw5.seq2seq | end of epoch 3\n"
     ]
    },
    {
     "name": "stderr",
     "output_type": "stream",
     "text": [
      "                                                                                    "
     ]
    },
    {
     "name": "stdout",
     "output_type": "stream",
     "text": [
      "2022-09-27 12:11:16 | INFO | hw5.seq2seq | training loss: 4.3878\n",
      "2022-09-27 12:11:16 | INFO | hw5.seq2seq | begin validation\n"
     ]
    },
    {
     "name": "stderr",
     "output_type": "stream",
     "text": [
      "                                                                                    \r"
     ]
    },
    {
     "name": "stdout",
     "output_type": "stream",
     "text": [
      "2022-09-27 12:11:37 | INFO | hw5.seq2seq | example source: and while a more recent study did show that reaction times and errors increase for some bilingual students in crosslanguage tests , it also showed that the effort and attention needed to switch between languages triggered more activity in , and potentially strengthened , the dorsolateral prefrontal cortex .\n",
      "2022-09-27 12:11:37 | INFO | hw5.seq2seq | example hypothesis: 雖然更近期的研究顯示 , 報告顯示 , 報導越來越多的學生 , 同時也顯示 , 值得更開心的語言 , 更可能是有能力的學生 。\n",
      "2022-09-27 12:11:37 | INFO | hw5.seq2seq | example reference: 最新的硏究顯示 , 在跨語言測驗當中 , 使用雙語學生的反應時間與錯誤次數增加了這個結果顯示 , 學生需要更努力與專注於轉換語言 , 這也使得前額葉腦區不僅更加活躍 , 而且能強化它的功能 。\n",
      "2022-09-27 12:11:37 | INFO | hw5.seq2seq | validation loss:\t4.1236\n",
      "2022-09-27 12:11:37 | INFO | hw5.seq2seq | BLEU = 16.46 50.1/24.6/12.8/7.0 (BP = 0.903 ratio = 0.907 hyp_len = 101648 ref_len = 112023)\n",
      "2022-09-27 12:11:37 | INFO | hw5.seq2seq | saved epoch checkpoint: /home/leyan/Documents/Hung-yi-Lee/hw6_transformer/checkpoints/transformer/checkpoint4.pt\n",
      "2022-09-27 12:11:37 | INFO | hw5.seq2seq | end of epoch 4\n"
     ]
    },
    {
     "name": "stderr",
     "output_type": "stream",
     "text": [
      "                                                                                    "
     ]
    },
    {
     "name": "stdout",
     "output_type": "stream",
     "text": [
      "2022-09-27 12:13:31 | INFO | hw5.seq2seq | training loss: 4.2407\n",
      "2022-09-27 12:13:31 | INFO | hw5.seq2seq | begin validation\n"
     ]
    },
    {
     "name": "stderr",
     "output_type": "stream",
     "text": [
      "                                                                                    \r"
     ]
    },
    {
     "name": "stdout",
     "output_type": "stream",
     "text": [
      "2022-09-27 12:13:50 | INFO | hw5.seq2seq | example source: he was a wonderful inventor , a maverick creator .\n",
      "2022-09-27 12:13:50 | INFO | hw5.seq2seq | example hypothesis: 他是個很棒的發明家 , 一個很棒的創作家 。\n",
      "2022-09-27 12:13:50 | INFO | hw5.seq2seq | example reference: 他是位很棒的發明家 , 獨排眾議的創造家 。\n",
      "2022-09-27 12:13:50 | INFO | hw5.seq2seq | validation loss:\t3.9971\n",
      "2022-09-27 12:13:50 | INFO | hw5.seq2seq | BLEU = 17.02 53.7/27.1/14.5/8.2 (BP = 0.834 ratio = 0.846 hyp_len = 94784 ref_len = 112023)\n",
      "2022-09-27 12:13:50 | INFO | hw5.seq2seq | saved epoch checkpoint: /home/leyan/Documents/Hung-yi-Lee/hw6_transformer/checkpoints/transformer/checkpoint5.pt\n",
      "2022-09-27 12:13:50 | INFO | hw5.seq2seq | end of epoch 5\n"
     ]
    },
    {
     "name": "stderr",
     "output_type": "stream",
     "text": [
      "                                                                                    "
     ]
    },
    {
     "name": "stdout",
     "output_type": "stream",
     "text": [
      "2022-09-27 12:15:43 | INFO | hw5.seq2seq | training loss: 4.1116\n",
      "2022-09-27 12:15:43 | INFO | hw5.seq2seq | begin validation\n"
     ]
    },
    {
     "name": "stderr",
     "output_type": "stream",
     "text": [
      "                                                                                    \r"
     ]
    },
    {
     "name": "stdout",
     "output_type": "stream",
     "text": [
      "2022-09-27 12:16:04 | INFO | hw5.seq2seq | example source: just saying .\n",
      "2022-09-27 12:16:04 | INFO | hw5.seq2seq | example hypothesis: 只是說 。\n",
      "2022-09-27 12:16:04 | INFO | hw5.seq2seq | example reference: 說說而已 。\n",
      "2022-09-27 12:16:04 | INFO | hw5.seq2seq | validation loss:\t3.8852\n",
      "2022-09-27 12:16:04 | INFO | hw5.seq2seq | BLEU = 19.02 52.3/26.8/14.5/8.2 (BP = 0.943 ratio = 0.945 hyp_len = 105824 ref_len = 112023)\n",
      "2022-09-27 12:16:04 | INFO | hw5.seq2seq | saved epoch checkpoint: /home/leyan/Documents/Hung-yi-Lee/hw6_transformer/checkpoints/transformer/checkpoint6.pt\n",
      "2022-09-27 12:16:04 | INFO | hw5.seq2seq | end of epoch 6\n"
     ]
    },
    {
     "name": "stderr",
     "output_type": "stream",
     "text": [
      "                                                                                    "
     ]
    },
    {
     "name": "stdout",
     "output_type": "stream",
     "text": [
      "2022-09-27 12:17:58 | INFO | hw5.seq2seq | training loss: 4.0215\n",
      "2022-09-27 12:17:58 | INFO | hw5.seq2seq | begin validation\n"
     ]
    },
    {
     "name": "stderr",
     "output_type": "stream",
     "text": [
      "                                                                                    \r"
     ]
    },
    {
     "name": "stdout",
     "output_type": "stream",
     "text": [
      "2022-09-27 12:18:15 | INFO | hw5.seq2seq | example source: thank you .\n",
      "2022-09-27 12:18:15 | INFO | hw5.seq2seq | example hypothesis: 感謝 。\n",
      "2022-09-27 12:18:15 | INFO | hw5.seq2seq | example reference: 謝謝\n",
      "2022-09-27 12:18:15 | INFO | hw5.seq2seq | validation loss:\t3.8283\n",
      "2022-09-27 12:18:15 | INFO | hw5.seq2seq | BLEU = 18.89 56.2/29.4/16.2/9.3 (BP = 0.845 ratio = 0.856 hyp_len = 95921 ref_len = 112023)\n",
      "2022-09-27 12:18:15 | INFO | hw5.seq2seq | saved epoch checkpoint: /home/leyan/Documents/Hung-yi-Lee/hw6_transformer/checkpoints/transformer/checkpoint7.pt\n",
      "2022-09-27 12:18:15 | INFO | hw5.seq2seq | end of epoch 7\n"
     ]
    },
    {
     "name": "stderr",
     "output_type": "stream",
     "text": [
      "                                                                                    "
     ]
    },
    {
     "name": "stdout",
     "output_type": "stream",
     "text": [
      "2022-09-27 12:20:09 | INFO | hw5.seq2seq | training loss: 3.9483\n",
      "2022-09-27 12:20:09 | INFO | hw5.seq2seq | begin validation\n"
     ]
    },
    {
     "name": "stderr",
     "output_type": "stream",
     "text": [
      "                                                                                    \r"
     ]
    },
    {
     "name": "stdout",
     "output_type": "stream",
     "text": [
      "2022-09-27 12:20:28 | INFO | hw5.seq2seq | example source: i climbed higher , higher , higher , and i jumped .\n",
      "2022-09-27 12:20:28 | INFO | hw5.seq2seq | example hypothesis: 我爬得更高 , 更高 , 我跳下去 。\n",
      "2022-09-27 12:20:28 | INFO | hw5.seq2seq | example reference: 我越爬越高 , 越爬越高 , 然後我跳了 。\n",
      "2022-09-27 12:20:28 | INFO | hw5.seq2seq | validation loss:\t3.7574\n",
      "2022-09-27 12:20:28 | INFO | hw5.seq2seq | BLEU = 19.95 56.2/29.8/16.6/9.7 (BP = 0.874 ratio = 0.882 hyp_len = 98764 ref_len = 112023)\n",
      "2022-09-27 12:20:28 | INFO | hw5.seq2seq | saved epoch checkpoint: /home/leyan/Documents/Hung-yi-Lee/hw6_transformer/checkpoints/transformer/checkpoint8.pt\n",
      "2022-09-27 12:20:29 | INFO | hw5.seq2seq | end of epoch 8\n"
     ]
    },
    {
     "name": "stderr",
     "output_type": "stream",
     "text": [
      "                                                                                    "
     ]
    },
    {
     "name": "stdout",
     "output_type": "stream",
     "text": [
      "2022-09-27 12:22:22 | INFO | hw5.seq2seq | training loss: 3.8935\n",
      "2022-09-27 12:22:22 | INFO | hw5.seq2seq | begin validation\n"
     ]
    },
    {
     "name": "stderr",
     "output_type": "stream",
     "text": [
      "                                                                                    \r"
     ]
    },
    {
     "name": "stdout",
     "output_type": "stream",
     "text": [
      "2022-09-27 12:22:42 | INFO | hw5.seq2seq | example source: but i also loved the arts and sciences .\n",
      "2022-09-27 12:22:42 | INFO | hw5.seq2seq | example hypothesis: 但我也喜歡藝術和科學 。\n",
      "2022-09-27 12:22:42 | INFO | hw5.seq2seq | example reference: 當我還是個小女孩\n",
      "2022-09-27 12:22:42 | INFO | hw5.seq2seq | validation loss:\t3.7324\n",
      "2022-09-27 12:22:42 | INFO | hw5.seq2seq | BLEU = 20.71 54.8/29.1/16.1/9.4 (BP = 0.935 ratio = 0.937 hyp_len = 104956 ref_len = 112023)\n",
      "2022-09-27 12:22:42 | INFO | hw5.seq2seq | saved epoch checkpoint: /home/leyan/Documents/Hung-yi-Lee/hw6_transformer/checkpoints/transformer/checkpoint9.pt\n",
      "2022-09-27 12:22:42 | INFO | hw5.seq2seq | end of epoch 9\n"
     ]
    },
    {
     "name": "stderr",
     "output_type": "stream",
     "text": [
      "                                                                                    "
     ]
    },
    {
     "name": "stdout",
     "output_type": "stream",
     "text": [
      "2022-09-27 12:24:36 | INFO | hw5.seq2seq | training loss: 3.8512\n",
      "2022-09-27 12:24:36 | INFO | hw5.seq2seq | begin validation\n"
     ]
    },
    {
     "name": "stderr",
     "output_type": "stream",
     "text": [
      "                                                                                    \r"
     ]
    },
    {
     "name": "stdout",
     "output_type": "stream",
     "text": [
      "2022-09-27 12:24:56 | INFO | hw5.seq2seq | example source: in one of the joints between over 9 , 000 magnets in lhc , there was a manufacturing defect .\n",
      "2022-09-27 12:24:56 | INFO | hw5.seq2seq | example hypothesis: 在lhc中 , 有超過9 , 000個磁鐵之間 , 有一種製造性的偵測 。\n",
      "2022-09-27 12:24:56 | INFO | hw5.seq2seq | example reference: 在lhc里九千多個磁鐵的其中一個結合處會有製成不良\n",
      "2022-09-27 12:24:56 | INFO | hw5.seq2seq | validation loss:\t3.6997\n",
      "2022-09-27 12:24:56 | INFO | hw5.seq2seq | BLEU = 20.98 56.1/30.1/16.8/9.9 (BP = 0.910 ratio = 0.914 hyp_len = 102406 ref_len = 112023)\n",
      "2022-09-27 12:24:56 | INFO | hw5.seq2seq | saved epoch checkpoint: /home/leyan/Documents/Hung-yi-Lee/hw6_transformer/checkpoints/transformer/checkpoint10.pt\n",
      "2022-09-27 12:24:56 | INFO | hw5.seq2seq | end of epoch 10\n"
     ]
    },
    {
     "name": "stderr",
     "output_type": "stream",
     "text": [
      "                                                                                    "
     ]
    },
    {
     "name": "stdout",
     "output_type": "stream",
     "text": [
      "2022-09-27 12:26:50 | INFO | hw5.seq2seq | training loss: 3.8182\n",
      "2022-09-27 12:26:50 | INFO | hw5.seq2seq | begin validation\n"
     ]
    },
    {
     "name": "stderr",
     "output_type": "stream",
     "text": [
      "                                                                                    \r"
     ]
    },
    {
     "name": "stdout",
     "output_type": "stream",
     "text": [
      "2022-09-27 12:27:10 | INFO | hw5.seq2seq | example source: the passengers on the second bus are assigned powers of the next prime , 5 .\n",
      "2022-09-27 12:27:10 | INFO | hw5.seq2seq | example hypothesis: 第二個公車的乘客被移除了下一個主要的權力 , 5 。\n",
      "2022-09-27 12:27:10 | INFO | hw5.seq2seq | example reference: 第二輛巴士上的客人所各自入住的房號則是下一個質數5的座號次方\n",
      "2022-09-27 12:27:10 | INFO | hw5.seq2seq | validation loss:\t3.6697\n",
      "2022-09-27 12:27:10 | INFO | hw5.seq2seq | BLEU = 21.61 55.0/29.4/16.4/9.6 (BP = 0.962 ratio = 0.962 hyp_len = 107805 ref_len = 112023)\n",
      "2022-09-27 12:27:10 | INFO | hw5.seq2seq | saved epoch checkpoint: /home/leyan/Documents/Hung-yi-Lee/hw6_transformer/checkpoints/transformer/checkpoint11.pt\n",
      "2022-09-27 12:27:10 | INFO | hw5.seq2seq | end of epoch 11\n"
     ]
    },
    {
     "name": "stderr",
     "output_type": "stream",
     "text": [
      "                                                                                    "
     ]
    },
    {
     "name": "stdout",
     "output_type": "stream",
     "text": [
      "2022-09-27 12:29:04 | INFO | hw5.seq2seq | training loss: 3.7877\n",
      "2022-09-27 12:29:04 | INFO | hw5.seq2seq | begin validation\n"
     ]
    },
    {
     "name": "stderr",
     "output_type": "stream",
     "text": [
      "                                                                                    \r"
     ]
    },
    {
     "name": "stdout",
     "output_type": "stream",
     "text": [
      "2022-09-27 12:29:24 | INFO | hw5.seq2seq | example source: for instance , you see the spectral line of the gold is the only spectral line in the spectrum of the sun .\n",
      "2022-09-27 12:29:24 | INFO | hw5.seq2seq | example hypothesis: 舉例來說 , 你可以看到黃色的光譜是太陽光譜中唯一的光譜線 。\n",
      "2022-09-27 12:29:24 | INFO | hw5.seq2seq | example reference: 譬如說你看到金的光譜線是太陽光譜裡面唯一的一條線 。\n",
      "2022-09-27 12:29:24 | INFO | hw5.seq2seq | validation loss:\t3.6357\n",
      "2022-09-27 12:29:24 | INFO | hw5.seq2seq | BLEU = 21.82 56.0/30.3/17.1/10.1 (BP = 0.937 ratio = 0.939 hyp_len = 105206 ref_len = 112023)\n",
      "2022-09-27 12:29:24 | INFO | hw5.seq2seq | saved epoch checkpoint: /home/leyan/Documents/Hung-yi-Lee/hw6_transformer/checkpoints/transformer/checkpoint12.pt\n",
      "2022-09-27 12:29:24 | INFO | hw5.seq2seq | end of epoch 12\n"
     ]
    },
    {
     "name": "stderr",
     "output_type": "stream",
     "text": [
      "                                                                                    "
     ]
    },
    {
     "name": "stdout",
     "output_type": "stream",
     "text": [
      "2022-09-27 12:31:17 | INFO | hw5.seq2seq | training loss: 3.7608\n",
      "2022-09-27 12:31:17 | INFO | hw5.seq2seq | begin validation\n"
     ]
    },
    {
     "name": "stderr",
     "output_type": "stream",
     "text": [
      "                                                                                    \r"
     ]
    },
    {
     "name": "stdout",
     "output_type": "stream",
     "text": [
      "2022-09-27 12:31:37 | INFO | hw5.seq2seq | example source: as i said , the inflection point where this has become really possible very embarrassing , my thesis was about machine learning .\n",
      "2022-09-27 12:31:37 | INFO | hw5.seq2seq | example hypothesis: 如我所說的 , 感染的重點是機器學習 。\n",
      "2022-09-27 12:31:37 | INFO | hw5.seq2seq | example reference: 如我所言 , 這件事的反轉點在於──很慚愧 , 我的論文主題是機器學習 ,\n",
      "2022-09-27 12:31:37 | INFO | hw5.seq2seq | validation loss:\t3.6395\n",
      "2022-09-27 12:31:37 | INFO | hw5.seq2seq | BLEU = 20.95 58.5/31.8/18.0/10.6 (BP = 0.859 ratio = 0.868 hyp_len = 97203 ref_len = 112023)\n",
      "2022-09-27 12:31:37 | INFO | hw5.seq2seq | saved epoch checkpoint: /home/leyan/Documents/Hung-yi-Lee/hw6_transformer/checkpoints/transformer/checkpoint13.pt\n",
      "2022-09-27 12:31:37 | INFO | hw5.seq2seq | end of epoch 13\n"
     ]
    },
    {
     "name": "stderr",
     "output_type": "stream",
     "text": [
      "                                                                                    "
     ]
    },
    {
     "name": "stdout",
     "output_type": "stream",
     "text": [
      "2022-09-27 12:33:30 | INFO | hw5.seq2seq | training loss: 3.7393\n",
      "2022-09-27 12:33:30 | INFO | hw5.seq2seq | begin validation\n"
     ]
    },
    {
     "name": "stderr",
     "output_type": "stream",
     "text": [
      "                                                                                    \r"
     ]
    },
    {
     "name": "stdout",
     "output_type": "stream",
     "text": [
      "2022-09-27 12:33:49 | INFO | hw5.seq2seq | example source: and when i went to the refugee camp in pakistan , there were 7 . 5 million refugees .\n",
      "2022-09-27 12:33:49 | INFO | hw5.seq2seq | example hypothesis: 當我去巴基斯坦的難民營時 , 有750萬難民 。\n",
      "2022-09-27 12:33:49 | INFO | hw5.seq2seq | example reference: 我跑去在巴基斯坦的難民營 , 那裡有750萬難民 。\n",
      "2022-09-27 12:33:49 | INFO | hw5.seq2seq | validation loss:\t3.6118\n",
      "2022-09-27 12:33:49 | INFO | hw5.seq2seq | BLEU = 21.47 58.3/31.8/18.1/10.8 (BP = 0.875 ratio = 0.882 hyp_len = 98799 ref_len = 112023)\n",
      "2022-09-27 12:33:49 | INFO | hw5.seq2seq | saved epoch checkpoint: /home/leyan/Documents/Hung-yi-Lee/hw6_transformer/checkpoints/transformer/checkpoint14.pt\n",
      "2022-09-27 12:33:49 | INFO | hw5.seq2seq | end of epoch 14\n"
     ]
    },
    {
     "name": "stderr",
     "output_type": "stream",
     "text": [
      "                                                                                    "
     ]
    },
    {
     "name": "stdout",
     "output_type": "stream",
     "text": [
      "2022-09-27 12:35:42 | INFO | hw5.seq2seq | training loss: 3.7201\n",
      "2022-09-27 12:35:42 | INFO | hw5.seq2seq | begin validation\n"
     ]
    },
    {
     "name": "stderr",
     "output_type": "stream",
     "text": [
      "                                                                                    \r"
     ]
    },
    {
     "name": "stdout",
     "output_type": "stream",
     "text": [
      "2022-09-27 12:36:00 | INFO | hw5.seq2seq | example source: below the skin's surface , the roots that give rise to our hair actually remain alive .\n",
      "2022-09-27 12:36:00 | INFO | hw5.seq2seq | example hypothesis: 在皮膚的表面下 , 造成頭髮的根部還活著 。\n",
      "2022-09-27 12:36:00 | INFO | hw5.seq2seq | example reference: 在皮膚表皮下方長出頭髮的髮根事實上還持續活著\n",
      "2022-09-27 12:36:00 | INFO | hw5.seq2seq | validation loss:\t3.5998\n",
      "2022-09-27 12:36:00 | INFO | hw5.seq2seq | BLEU = 21.67 58.6/32.1/18.4/11.0 (BP = 0.873 ratio = 0.880 hyp_len = 98592 ref_len = 112023)\n",
      "2022-09-27 12:36:00 | INFO | hw5.seq2seq | saved epoch checkpoint: /home/leyan/Documents/Hung-yi-Lee/hw6_transformer/checkpoints/transformer/checkpoint15.pt\n",
      "2022-09-27 12:36:00 | INFO | hw5.seq2seq | end of epoch 15\n"
     ]
    },
    {
     "name": "stderr",
     "output_type": "stream",
     "text": [
      "                                                                                    "
     ]
    },
    {
     "name": "stdout",
     "output_type": "stream",
     "text": [
      "2022-09-27 12:37:54 | INFO | hw5.seq2seq | training loss: 3.7035\n",
      "2022-09-27 12:37:54 | INFO | hw5.seq2seq | begin validation\n"
     ]
    },
    {
     "name": "stderr",
     "output_type": "stream",
     "text": [
      "                                                                                    \r"
     ]
    },
    {
     "name": "stdout",
     "output_type": "stream",
     "text": [
      "2022-09-27 12:38:11 | INFO | hw5.seq2seq | example source: but they get the information that causes them to stop , causes them to internalize that they need to make all of the various parts that will cause them to change their shape , and try to get out of this capillary and find out what's going on .\n",
      "2022-09-27 12:38:11 | INFO | hw5.seq2seq | example hypothesis: 但他們得到這些導致他們停止的資訊 , 導致他們內在化 , 使他們能改變他們的形狀 , 試著找出發生了什麼事 。\n",
      "2022-09-27 12:38:11 | INFO | hw5.seq2seq | example reference: 這個訊息讓它們停了下來 , 它們開始進行內化反應 , 它們必須製造許多不同的物件 , 因此它們必須改變外型 , 離開微血管 , 並搞清楚到底發生什麼事 。\n",
      "2022-09-27 12:38:11 | INFO | hw5.seq2seq | validation loss:\t3.5897\n",
      "2022-09-27 12:38:11 | INFO | hw5.seq2seq | BLEU = 22.41 58.2/32.0/18.4/11.0 (BP = 0.903 ratio = 0.908 hyp_len = 101698 ref_len = 112023)\n",
      "2022-09-27 12:38:11 | INFO | hw5.seq2seq | saved epoch checkpoint: /home/leyan/Documents/Hung-yi-Lee/hw6_transformer/checkpoints/transformer/checkpoint16.pt\n",
      "2022-09-27 12:38:11 | INFO | hw5.seq2seq | end of epoch 16\n"
     ]
    },
    {
     "name": "stderr",
     "output_type": "stream",
     "text": [
      "                                                                                    "
     ]
    },
    {
     "name": "stdout",
     "output_type": "stream",
     "text": [
      "2022-09-27 12:40:04 | INFO | hw5.seq2seq | training loss: 3.6869\n",
      "2022-09-27 12:40:04 | INFO | hw5.seq2seq | begin validation\n"
     ]
    },
    {
     "name": "stderr",
     "output_type": "stream",
     "text": [
      "                                                                                    \r"
     ]
    },
    {
     "name": "stdout",
     "output_type": "stream",
     "text": [
      "2022-09-27 12:40:25 | INFO | hw5.seq2seq | example source: it rose up . it sat there for five days .\n",
      "2022-09-27 12:40:25 | INFO | hw5.seq2seq | example hypothesis: 牠爬上去 , 坐在那裡五天 。\n",
      "2022-09-27 12:40:25 | INFO | hw5.seq2seq | example reference: 神廟建起來的五天後 ,\n",
      "2022-09-27 12:40:25 | INFO | hw5.seq2seq | validation loss:\t3.5713\n",
      "2022-09-27 12:40:25 | INFO | hw5.seq2seq | BLEU = 22.81 56.3/30.8/17.6/10.6 (BP = 0.957 ratio = 0.957 hyp_len = 107253 ref_len = 112023)\n",
      "2022-09-27 12:40:25 | INFO | hw5.seq2seq | saved epoch checkpoint: /home/leyan/Documents/Hung-yi-Lee/hw6_transformer/checkpoints/transformer/checkpoint17.pt\n",
      "2022-09-27 12:40:25 | INFO | hw5.seq2seq | end of epoch 17\n"
     ]
    },
    {
     "name": "stderr",
     "output_type": "stream",
     "text": [
      "                                                                                    "
     ]
    },
    {
     "name": "stdout",
     "output_type": "stream",
     "text": [
      "2022-09-27 12:42:19 | INFO | hw5.seq2seq | training loss: 3.6707\n",
      "2022-09-27 12:42:19 | INFO | hw5.seq2seq | begin validation\n"
     ]
    },
    {
     "name": "stderr",
     "output_type": "stream",
     "text": [
      "                                                                                    \r"
     ]
    },
    {
     "name": "stdout",
     "output_type": "stream",
     "text": [
      "2022-09-27 12:42:38 | INFO | hw5.seq2seq | example source: isn't that what we all need ?\n",
      "2022-09-27 12:42:38 | INFO | hw5.seq2seq | example hypothesis: 我們都需要的不是嗎 ?\n",
      "2022-09-27 12:42:38 | INFO | hw5.seq2seq | example reference: 那不是我們所有人都需要的嗎 ?\n",
      "2022-09-27 12:42:38 | INFO | hw5.seq2seq | validation loss:\t3.5768\n",
      "2022-09-27 12:42:38 | INFO | hw5.seq2seq | BLEU = 22.20 57.8/31.6/18.1/10.8 (BP = 0.907 ratio = 0.911 hyp_len = 102044 ref_len = 112023)\n",
      "2022-09-27 12:42:38 | INFO | hw5.seq2seq | saved epoch checkpoint: /home/leyan/Documents/Hung-yi-Lee/hw6_transformer/checkpoints/transformer/checkpoint18.pt\n",
      "2022-09-27 12:42:38 | INFO | hw5.seq2seq | end of epoch 18\n"
     ]
    },
    {
     "name": "stderr",
     "output_type": "stream",
     "text": [
      "                                                                                    "
     ]
    },
    {
     "name": "stdout",
     "output_type": "stream",
     "text": [
      "2022-09-27 12:44:32 | INFO | hw5.seq2seq | training loss: 3.6581\n",
      "2022-09-27 12:44:32 | INFO | hw5.seq2seq | begin validation\n"
     ]
    },
    {
     "name": "stderr",
     "output_type": "stream",
     "text": [
      "                                                                                    \r"
     ]
    },
    {
     "name": "stdout",
     "output_type": "stream",
     "text": [
      "2022-09-27 12:44:50 | INFO | hw5.seq2seq | example source: if you stimulate the spinal cord of a cat , you can switch between walk , trot and gallop .\n",
      "2022-09-27 12:44:50 | INFO | hw5.seq2seq | example hypothesis: 如果你刺激一隻貓的脊髓 , 你可以轉換步行、特律和加坡 。\n",
      "2022-09-27 12:44:50 | INFO | hw5.seq2seq | example reference: 如果你刺激一隻貓的脊髓 , 你能夠在其間切換模式:行走、緩跑和急步跑 。\n",
      "2022-09-27 12:44:50 | INFO | hw5.seq2seq | validation loss:\t3.5492\n",
      "2022-09-27 12:44:50 | INFO | hw5.seq2seq | BLEU = 22.81 57.8/31.8/18.3/11.0 (BP = 0.923 ratio = 0.926 hyp_len = 103715 ref_len = 112023)\n",
      "2022-09-27 12:44:50 | INFO | hw5.seq2seq | saved epoch checkpoint: /home/leyan/Documents/Hung-yi-Lee/hw6_transformer/checkpoints/transformer/checkpoint19.pt\n",
      "2022-09-27 12:44:50 | INFO | hw5.seq2seq | end of epoch 19\n"
     ]
    },
    {
     "name": "stderr",
     "output_type": "stream",
     "text": [
      "                                                                                    "
     ]
    },
    {
     "name": "stdout",
     "output_type": "stream",
     "text": [
      "2022-09-27 12:46:46 | INFO | hw5.seq2seq | training loss: 3.6454\n",
      "2022-09-27 12:46:46 | INFO | hw5.seq2seq | begin validation\n"
     ]
    },
    {
     "name": "stderr",
     "output_type": "stream",
     "text": [
      "                                                                                    \r"
     ]
    },
    {
     "name": "stdout",
     "output_type": "stream",
     "text": [
      "2022-09-27 12:47:06 | INFO | hw5.seq2seq | example source: experimental measurements show kolmogorov was remarkably close to the way turbulent flow works , although a complete description of turbulence remains one of the unsolved problems in physics .\n",
      "2022-09-27 12:47:06 | INFO | hw5.seq2seq | example hypothesis: 實驗測量顯示科羅哥夫與土耳其流動的方式非常接近 , 雖然完全描述土耳其的混亂仍然是物理學中未解決的問題之一 。\n",
      "2022-09-27 12:47:06 | INFO | hw5.seq2seq | example reference: 實驗數據證實柯爾莫哥洛夫的模型非常接近紊流的流動方式雖然紊流完整的解釋仍是物理學中一項待解的難題\n",
      "2022-09-27 12:47:06 | INFO | hw5.seq2seq | validation loss:\t3.5455\n",
      "2022-09-27 12:47:06 | INFO | hw5.seq2seq | BLEU = 22.77 57.9/32.0/18.5/11.1 (BP = 0.917 ratio = 0.920 hyp_len = 103051 ref_len = 112023)\n",
      "2022-09-27 12:47:06 | INFO | hw5.seq2seq | saved epoch checkpoint: /home/leyan/Documents/Hung-yi-Lee/hw6_transformer/checkpoints/transformer/checkpoint20.pt\n",
      "2022-09-27 12:47:06 | INFO | hw5.seq2seq | end of epoch 20\n"
     ]
    },
    {
     "name": "stderr",
     "output_type": "stream",
     "text": [
      "                                                                                    "
     ]
    },
    {
     "name": "stdout",
     "output_type": "stream",
     "text": [
      "2022-09-27 12:49:06 | INFO | hw5.seq2seq | training loss: 3.6375\n",
      "2022-09-27 12:49:06 | INFO | hw5.seq2seq | begin validation\n"
     ]
    },
    {
     "name": "stderr",
     "output_type": "stream",
     "text": [
      "                                                                                    \r"
     ]
    },
    {
     "name": "stdout",
     "output_type": "stream",
     "text": [
      "2022-09-27 12:49:24 | INFO | hw5.seq2seq | example source: i talked before about the use of devices to dramatically change the way we treat disease .\n",
      "2022-09-27 12:49:24 | INFO | hw5.seq2seq | example hypothesis: 我之前談到裝置的使用 , 大幅改變我們治療疾病的方式 。\n",
      "2022-09-27 12:49:24 | INFO | hw5.seq2seq | example reference: 我也提到過用精密儀器顛覆治療疾病的方式\n",
      "2022-09-27 12:49:24 | INFO | hw5.seq2seq | validation loss:\t3.5362\n",
      "2022-09-27 12:49:24 | INFO | hw5.seq2seq | BLEU = 23.08 58.1/32.2/18.6/11.3 (BP = 0.922 ratio = 0.925 hyp_len = 103585 ref_len = 112023)\n",
      "2022-09-27 12:49:24 | INFO | hw5.seq2seq | saved epoch checkpoint: /home/leyan/Documents/Hung-yi-Lee/hw6_transformer/checkpoints/transformer/checkpoint21.pt\n",
      "2022-09-27 12:49:24 | INFO | hw5.seq2seq | end of epoch 21\n"
     ]
    },
    {
     "name": "stderr",
     "output_type": "stream",
     "text": [
      "                                                                                    "
     ]
    },
    {
     "name": "stdout",
     "output_type": "stream",
     "text": [
      "2022-09-27 12:51:22 | INFO | hw5.seq2seq | training loss: 3.6253\n",
      "2022-09-27 12:51:22 | INFO | hw5.seq2seq | begin validation\n"
     ]
    },
    {
     "name": "stderr",
     "output_type": "stream",
     "text": [
      "                                                                                    \r"
     ]
    },
    {
     "name": "stdout",
     "output_type": "stream",
     "text": [
      "2022-09-27 12:51:41 | INFO | hw5.seq2seq | example source: and there's bomb threats .\n",
      "2022-09-27 12:51:41 | INFO | hw5.seq2seq | example hypothesis: 還有炸彈威脅 。\n",
      "2022-09-27 12:51:41 | INFO | hw5.seq2seq | example reference: 還有炸彈威脅 。\n",
      "2022-09-27 12:51:41 | INFO | hw5.seq2seq | validation loss:\t3.5402\n",
      "2022-09-27 12:51:41 | INFO | hw5.seq2seq | BLEU = 23.14 57.7/31.9/18.4/11.2 (BP = 0.933 ratio = 0.935 hyp_len = 104735 ref_len = 112023)\n",
      "2022-09-27 12:51:41 | INFO | hw5.seq2seq | saved epoch checkpoint: /home/leyan/Documents/Hung-yi-Lee/hw6_transformer/checkpoints/transformer/checkpoint22.pt\n",
      "2022-09-27 12:51:41 | INFO | hw5.seq2seq | end of epoch 22\n"
     ]
    },
    {
     "name": "stderr",
     "output_type": "stream",
     "text": [
      "                                                                                    "
     ]
    },
    {
     "name": "stdout",
     "output_type": "stream",
     "text": [
      "2022-09-27 12:53:38 | INFO | hw5.seq2seq | training loss: 3.6147\n",
      "2022-09-27 12:53:38 | INFO | hw5.seq2seq | begin validation\n"
     ]
    },
    {
     "name": "stderr",
     "output_type": "stream",
     "text": [
      "                                                                                    \r"
     ]
    },
    {
     "name": "stdout",
     "output_type": "stream",
     "text": [
      "2022-09-27 12:53:58 | INFO | hw5.seq2seq | example source: em: there actually are far more charging stations than people realize , and at tesla we developed something called a supercharging technology , and we're offering that if you buy a model s for free , forever .\n",
      "2022-09-27 12:53:58 | INFO | hw5.seq2seq | example hypothesis: e........事實上 , 比人們意識到的還要多 , 在特斯拉 , 我們開發了一種叫做超級搜索科技的東西 , 我們推薦 , 如果你能自由 , 永遠買一個模型 。\n",
      "2022-09-27 12:53:58 | INFO | hw5.seq2seq | example reference: e..事實上充電站比人們意識到的還要多得多 , e..事實上充電站比人們意識到的還要多得多 , 我們也為tesla設計了一項名為 「 超級充電科技 」 。 我們也為tesla設計了一項名為 「 超級充電科技 」 。 如果你買了一臺models , 我們將終身免費提供給你 。 如果你買了一臺models , 我們將終身免費提供給你 。\n",
      "2022-09-27 12:53:58 | INFO | hw5.seq2seq | validation loss:\t3.5310\n",
      "2022-09-27 12:53:58 | INFO | hw5.seq2seq | BLEU = 22.83 58.1/32.0/18.4/11.2 (BP = 0.918 ratio = 0.921 hyp_len = 103192 ref_len = 112023)\n",
      "2022-09-27 12:53:58 | INFO | hw5.seq2seq | saved epoch checkpoint: /home/leyan/Documents/Hung-yi-Lee/hw6_transformer/checkpoints/transformer/checkpoint23.pt\n",
      "2022-09-27 12:53:58 | INFO | hw5.seq2seq | end of epoch 23\n"
     ]
    },
    {
     "name": "stderr",
     "output_type": "stream",
     "text": [
      "                                                                                    "
     ]
    },
    {
     "name": "stdout",
     "output_type": "stream",
     "text": [
      "2022-09-27 12:55:52 | INFO | hw5.seq2seq | training loss: 3.6060\n",
      "2022-09-27 12:55:52 | INFO | hw5.seq2seq | begin validation\n"
     ]
    },
    {
     "name": "stderr",
     "output_type": "stream",
     "text": [
      "                                                                                    \r"
     ]
    },
    {
     "name": "stdout",
     "output_type": "stream",
     "text": [
      "2022-09-27 12:56:12 | INFO | hw5.seq2seq | example source: i wasn't worried about the material i would teach because i was wellprepared , and i was going to teach what i enjoy teaching .\n",
      "2022-09-27 12:56:12 | INFO | hw5.seq2seq | example hypothesis: 我不擔心我會教的材料 , 因為我已經準備好了 , 我將會教我享受的教學 。\n",
      "2022-09-27 12:56:12 | INFO | hw5.seq2seq | example reference: 但不是擔心教材的問題 , 因為我的教材準備得很充分 , 而且我非常喜歡教書的工作 。\n",
      "2022-09-27 12:56:12 | INFO | hw5.seq2seq | validation loss:\t3.5525\n",
      "2022-09-27 12:56:12 | INFO | hw5.seq2seq | BLEU = 23.54 57.0/31.5/18.3/11.0 (BP = 0.959 ratio = 0.960 hyp_len = 107568 ref_len = 112023)\n",
      "2022-09-27 12:56:12 | INFO | hw5.seq2seq | saved epoch checkpoint: /home/leyan/Documents/Hung-yi-Lee/hw6_transformer/checkpoints/transformer/checkpoint24.pt\n",
      "2022-09-27 12:56:12 | INFO | hw5.seq2seq | end of epoch 24\n"
     ]
    },
    {
     "name": "stderr",
     "output_type": "stream",
     "text": [
      "                                                                                    "
     ]
    },
    {
     "name": "stdout",
     "output_type": "stream",
     "text": [
      "2022-09-27 12:58:06 | INFO | hw5.seq2seq | training loss: 3.5976\n",
      "2022-09-27 12:58:06 | INFO | hw5.seq2seq | begin validation\n"
     ]
    },
    {
     "name": "stderr",
     "output_type": "stream",
     "text": [
      "                                                                                    \r"
     ]
    },
    {
     "name": "stdout",
     "output_type": "stream",
     "text": [
      "2022-09-27 12:58:25 | INFO | hw5.seq2seq | example source: when we think of mud , we think of dirt it's ugly , it's nondurable and this is the image i want to change .\n",
      "2022-09-27 12:58:25 | INFO | hw5.seq2seq | example hypothesis: 當我們想到泥巴時 , 我們會想到泥土 , 很醜陋 , 這是我想要改變的圖片 。\n",
      "2022-09-27 12:58:25 | INFO | hw5.seq2seq | example reference: 當我們想到泥巴時 , 我們會想到汙物──它很醜陋 , 它不耐久──我想要改變我們對泥巴的印象 。\n",
      "2022-09-27 12:58:25 | INFO | hw5.seq2seq | validation loss:\t3.5121\n",
      "2022-09-27 12:58:25 | INFO | hw5.seq2seq | BLEU = 23.06 58.5/32.4/18.8/11.4 (BP = 0.913 ratio = 0.917 hyp_len = 102714 ref_len = 112023)\n",
      "2022-09-27 12:58:26 | INFO | hw5.seq2seq | saved epoch checkpoint: /home/leyan/Documents/Hung-yi-Lee/hw6_transformer/checkpoints/transformer/checkpoint25.pt\n",
      "2022-09-27 12:58:26 | INFO | hw5.seq2seq | end of epoch 25\n"
     ]
    },
    {
     "name": "stderr",
     "output_type": "stream",
     "text": [
      "                                                                                    "
     ]
    },
    {
     "name": "stdout",
     "output_type": "stream",
     "text": [
      "2022-09-27 13:00:19 | INFO | hw5.seq2seq | training loss: 3.5896\n",
      "2022-09-27 13:00:19 | INFO | hw5.seq2seq | begin validation\n"
     ]
    },
    {
     "name": "stderr",
     "output_type": "stream",
     "text": [
      "                                                                                    \r"
     ]
    },
    {
     "name": "stdout",
     "output_type": "stream",
     "text": [
      "2022-09-27 13:00:39 | INFO | hw5.seq2seq | example source: i have xy chromosomes .\n",
      "2022-09-27 13:00:39 | INFO | hw5.seq2seq | example hypothesis: 我有xy染色體 。\n",
      "2022-09-27 13:00:39 | INFO | hw5.seq2seq | example reference: 我有xy染色體 。\n",
      "2022-09-27 13:00:39 | INFO | hw5.seq2seq | validation loss:\t3.5165\n",
      "2022-09-27 13:00:39 | INFO | hw5.seq2seq | BLEU = 22.72 59.0/32.7/18.9/11.4 (BP = 0.895 ratio = 0.900 hyp_len = 100816 ref_len = 112023)\n",
      "2022-09-27 13:00:39 | INFO | hw5.seq2seq | saved epoch checkpoint: /home/leyan/Documents/Hung-yi-Lee/hw6_transformer/checkpoints/transformer/checkpoint26.pt\n",
      "2022-09-27 13:00:39 | INFO | hw5.seq2seq | end of epoch 26\n"
     ]
    },
    {
     "name": "stderr",
     "output_type": "stream",
     "text": [
      "                                                                                    "
     ]
    },
    {
     "name": "stdout",
     "output_type": "stream",
     "text": [
      "2022-09-27 13:02:33 | INFO | hw5.seq2seq | training loss: 3.5829\n",
      "2022-09-27 13:02:33 | INFO | hw5.seq2seq | begin validation\n"
     ]
    },
    {
     "name": "stderr",
     "output_type": "stream",
     "text": [
      "                                                                                    \r"
     ]
    },
    {
     "name": "stdout",
     "output_type": "stream",
     "text": [
      "2022-09-27 13:02:52 | INFO | hw5.seq2seq | example source: but i also learned very soon thereafter that jesus also said , and i'm paraphrasing , the poor would always be with us .\n",
      "2022-09-27 13:02:52 | INFO | hw5.seq2seq | example hypothesis: 但是我很快就學到耶穌也說過 , 我癱瘓了 , 窮人總是跟我們一起 。\n",
      "2022-09-27 13:02:52 | INFO | hw5.seq2seq | example reference: 但我不久後就得知耶穌又說了 , 我重述貧窮會永遠伴隨我們\n",
      "2022-09-27 13:02:52 | INFO | hw5.seq2seq | validation loss:\t3.5035\n",
      "2022-09-27 13:02:52 | INFO | hw5.seq2seq | BLEU = 23.41 58.6/32.7/19.1/11.6 (BP = 0.918 ratio = 0.921 hyp_len = 103187 ref_len = 112023)\n",
      "2022-09-27 13:02:52 | INFO | hw5.seq2seq | saved epoch checkpoint: /home/leyan/Documents/Hung-yi-Lee/hw6_transformer/checkpoints/transformer/checkpoint27.pt\n",
      "2022-09-27 13:02:52 | INFO | hw5.seq2seq | end of epoch 27\n"
     ]
    },
    {
     "name": "stderr",
     "output_type": "stream",
     "text": [
      "                                                                                    "
     ]
    },
    {
     "name": "stdout",
     "output_type": "stream",
     "text": [
      "2022-09-27 13:04:46 | INFO | hw5.seq2seq | training loss: 3.5774\n",
      "2022-09-27 13:04:46 | INFO | hw5.seq2seq | begin validation\n"
     ]
    },
    {
     "name": "stderr",
     "output_type": "stream",
     "text": [
      "                                                                                    \r"
     ]
    },
    {
     "name": "stdout",
     "output_type": "stream",
     "text": [
      "2022-09-27 13:05:06 | INFO | hw5.seq2seq | example source: they will mostly survive long enough to receive improved treatments that will give them a further 30 or maybe 50 years .\n",
      "2022-09-27 13:05:06 | INFO | hw5.seq2seq | example hypothesis: 他們大多會存活得夠久 , 才能接受改善治療 , 給他們更進一步的30到50年 。\n",
      "2022-09-27 13:05:06 | INFO | hw5.seq2seq | example reference: 他們大多會活得足夠久以接受更進步的治療而可額外延續30或也許50年的壽命 。\n",
      "2022-09-27 13:05:06 | INFO | hw5.seq2seq | validation loss:\t3.4894\n",
      "2022-09-27 13:05:06 | INFO | hw5.seq2seq | BLEU = 23.68 57.6/31.9/18.6/11.3 (BP = 0.951 ratio = 0.952 hyp_len = 106675 ref_len = 112023)\n",
      "2022-09-27 13:05:06 | INFO | hw5.seq2seq | saved epoch checkpoint: /home/leyan/Documents/Hung-yi-Lee/hw6_transformer/checkpoints/transformer/checkpoint28.pt\n",
      "2022-09-27 13:05:06 | INFO | hw5.seq2seq | end of epoch 28\n"
     ]
    },
    {
     "name": "stderr",
     "output_type": "stream",
     "text": [
      "                                                                                    "
     ]
    },
    {
     "name": "stdout",
     "output_type": "stream",
     "text": [
      "2022-09-27 13:07:00 | INFO | hw5.seq2seq | training loss: 3.5687\n",
      "2022-09-27 13:07:00 | INFO | hw5.seq2seq | begin validation\n"
     ]
    },
    {
     "name": "stderr",
     "output_type": "stream",
     "text": [
      "                                                                                    \r"
     ]
    },
    {
     "name": "stdout",
     "output_type": "stream",
     "text": [
      "2022-09-27 13:07:19 | INFO | hw5.seq2seq | example source: something that five years ago would have seemed impossible we can now do efficiently and free of corruption .\n",
      "2022-09-27 13:07:19 | INFO | hw5.seq2seq | example hypothesis: 五年前 , 看似不可能的 , 我們現在可以有效率、免費腐敗 。\n",
      "2022-09-27 13:07:19 | INFO | hw5.seq2seq | example reference: 五年前 , 這件事看似天方夜譚 , 現在 , 我們可以有效率地執行 , 而且免受貪汙之苦 。\n",
      "2022-09-27 13:07:19 | INFO | hw5.seq2seq | validation loss:\t3.4945\n",
      "2022-09-27 13:07:19 | INFO | hw5.seq2seq | BLEU = 23.64 57.5/31.9/18.5/11.2 (BP = 0.953 ratio = 0.954 hyp_len = 106855 ref_len = 112023)\n",
      "2022-09-27 13:07:19 | INFO | hw5.seq2seq | saved epoch checkpoint: /home/leyan/Documents/Hung-yi-Lee/hw6_transformer/checkpoints/transformer/checkpoint29.pt\n",
      "2022-09-27 13:07:19 | INFO | hw5.seq2seq | end of epoch 29\n"
     ]
    },
    {
     "name": "stderr",
     "output_type": "stream",
     "text": [
      "                                                                                    "
     ]
    },
    {
     "name": "stdout",
     "output_type": "stream",
     "text": [
      "2022-09-27 13:09:14 | INFO | hw5.seq2seq | training loss: 3.5630\n",
      "2022-09-27 13:09:14 | INFO | hw5.seq2seq | begin validation\n"
     ]
    },
    {
     "name": "stderr",
     "output_type": "stream",
     "text": [
      "                                                                                    \r"
     ]
    },
    {
     "name": "stdout",
     "output_type": "stream",
     "text": [
      "2022-09-27 13:09:33 | INFO | hw5.seq2seq | example source: because it was only by not being able to prove that she was wrong , that george could give alice the confidence she needed to know that she was right .\n",
      "2022-09-27 13:09:33 | INFO | hw5.seq2seq | example hypothesis: 因為只有無法證明她錯了 , 喬治可以給予她所需要的信心 , 她才知道她是對的 。\n",
      "2022-09-27 13:09:33 | INFO | hw5.seq2seq | example reference: 因為只有當他無法證明alice是錯的時候 , george就可以給alice所需要的自信讓她知道她是正確的 。\n",
      "2022-09-27 13:09:33 | INFO | hw5.seq2seq | validation loss:\t3.4875\n",
      "2022-09-27 13:09:33 | INFO | hw5.seq2seq | BLEU = 23.66 58.4/32.6/19.0/11.6 (BP = 0.930 ratio = 0.932 hyp_len = 104399 ref_len = 112023)\n",
      "2022-09-27 13:09:33 | INFO | hw5.seq2seq | saved epoch checkpoint: /home/leyan/Documents/Hung-yi-Lee/hw6_transformer/checkpoints/transformer/checkpoint30.pt\n",
      "2022-09-27 13:09:33 | INFO | hw5.seq2seq | end of epoch 30\n"
     ]
    }
   ],
   "source": [
    "epoch_itr = load_data_iterator(task, \"train\", config.start_epoch, config.max_tokens, config.num_workers)\n",
    "try_load_checkpoint(model, optimizer, name=config.resume, logger=logger)\n",
    "while epoch_itr.next_epoch_idx <= config.max_epoch:\n",
    "    # train for one epoch\n",
    "    train_one_epoch(epoch_itr, model, task, criterion, optimizer, config.accum_steps, logger=logger)\n",
    "    stats = validate_and_save(model, task, criterion, optimizer, epoch=epoch_itr.epoch, sequence_generator=sequence_generator, logger=logger)\n",
    "    logger.info(\"end of epoch {}\".format(epoch_itr.epoch))    \n",
    "    epoch_itr = load_data_iterator(task, \"train\", epoch_itr.next_epoch_idx, config.max_tokens, config.num_workers)"
   ]
  },
  {
   "cell_type": "markdown",
   "id": "cd28f11b-1def-4d6d-abfc-31140eb53f61",
   "metadata": {},
   "source": [
    "# Submission 繳交檔案"
   ]
  },
  {
   "cell_type": "code",
   "execution_count": 46,
   "id": "0efde7d5-2c67-4fea-af5c-b55b63643c6a",
   "metadata": {},
   "outputs": [
    {
     "name": "stdout",
     "output_type": "stream",
     "text": [
      "python: can't open file './fairseq/scripts/average_checkpoints.py': [Errno 2] No such file or directory\n"
     ]
    }
   ],
   "source": [
    "# 把幾個 checkpoint 平均起來可以達到 ensemble 的效果\n",
    "checkdir=config.savedir\n",
    "!python ./fairseq/scripts/average_checkpoints.py \\\n",
    "--inputs {checkdir} \\\n",
    "--num-epoch-checkpoints 5 \\\n",
    "--output {checkdir}/avg_last_5_checkpoint.pt"
   ]
  },
  {
   "cell_type": "markdown",
   "id": "e21e220c-e499-4385-9c7d-ec5219f178c6",
   "metadata": {},
   "source": [
    "## 確認生成繳交檔案的模型參數"
   ]
  },
  {
   "cell_type": "code",
   "execution_count": 47,
   "id": "8a45ddff-aeaa-48ad-a375-7b0640a64bc2",
   "metadata": {},
   "outputs": [
    {
     "name": "stdout",
     "output_type": "stream",
     "text": [
      "2022-09-27 13:09:34 | INFO | hw5.seq2seq | no checkpoints found at checkpoints/transformer/avg_last_5_checkpoint.pt!\n",
      "2022-09-27 13:09:34 | INFO | hw5.seq2seq | begin validation\n"
     ]
    },
    {
     "name": "stderr",
     "output_type": "stream",
     "text": [
      "                                                                                    \r"
     ]
    },
    {
     "name": "stdout",
     "output_type": "stream",
     "text": [
      "2022-09-27 13:09:53 | INFO | hw5.seq2seq | example source: it felt like i had finally arrived .\n",
      "2022-09-27 13:09:53 | INFO | hw5.seq2seq | example hypothesis: 感覺我終於抵達了 。\n",
      "2022-09-27 13:09:53 | INFO | hw5.seq2seq | example reference: 這讓我覺得我終於做到了 !\n",
      "2022-09-27 13:09:53 | INFO | hw5.seq2seq | validation loss:\t3.4875\n",
      "2022-09-27 13:09:53 | INFO | hw5.seq2seq | BLEU = 23.66 58.4/32.6/19.0/11.6 (BP = 0.930 ratio = 0.932 hyp_len = 104399 ref_len = 112023)\n"
     ]
    }
   ],
   "source": [
    "# checkpoint_last.pt : 最後一次檢驗的檔案\n",
    "# checkpoint_best.pt : 檢驗 BLEU 最高的檔案\n",
    "# avg_last_5_checkpoint.pt:　最5後個檔案平均\n",
    "try_load_checkpoint(model, name=\"avg_last_5_checkpoint.pt\", logger=logger)\n",
    "validate(model, task, criterion, sequence_generator, logger, log_to_wandb=False)\n",
    "None"
   ]
  },
  {
   "cell_type": "markdown",
   "id": "65dbc1ad-d3b8-412b-a23f-e91027a9ab72",
   "metadata": {},
   "source": [
    "## 進行預測"
   ]
  },
  {
   "cell_type": "code",
   "execution_count": 48,
   "id": "618bab45-8450-4832-a5bc-84d6230de436",
   "metadata": {},
   "outputs": [
    {
     "name": "stdout",
     "output_type": "stream",
     "text": [
      "2022-09-27 13:09:53 | INFO | fairseq.utils | ***********************CUDA enviroments for all 1 workers***********************\n",
      "2022-09-27 13:09:53 | INFO | fairseq.utils | rank   0: capabilities =  7.5  ; total memory = 7.794 GB ; name = NVIDIA GeForce RTX 2080 SUPER           \n",
      "2022-09-27 13:09:53 | INFO | fairseq.utils | ***********************CUDA enviroments for all 1 workers***********************\n",
      "def generate_prediction(model, task, split=\"test\", outfile=\"./prediction.txt\", sequence_generator=None):    \n",
      "    task.load_dataset(split=split, epoch=1)\n",
      "    itr = load_data_iterator(task, split, 1, config.max_tokens, config.num_workers).next_epoch_itr(shuffle=False)\n",
      "    \n",
      "    idxs = []\n",
      "    hyps = []\n",
      "\n",
      "    model.eval()\n",
      "    progress = tqdm(itr, desc=f\"prediction\")\n",
      "    with torch.no_grad():\n",
      "        for i, sample in enumerate(progress):\n",
      "            # validation loss\n",
      "            sample = utils.move_to_cuda(sample, device=device)\n",
      "\n",
      "            # 進行推論\n",
      "            s, h, r = inference_step(sample, model, sequence_generator, task)\n",
      "            \n",
      "            hyps.extend(h)\n",
      "            idxs.extend(list(sample['id']))\n",
      "            \n",
      "    # 根據 preprocess 時的順序排列\n",
      "    hyps = [x for _,x in sorted(zip(idxs,hyps))]\n",
      "    \n",
      "    with open(outfile, \"w\") as f:\n",
      "        for h in hyps:\n",
      "            f.write(h+\"\\n\")\n",
      "\n"
     ]
    }
   ],
   "source": [
    "from submission import generate_prediction\n",
    "lines = inspect.getsource(generate_prediction)\n",
    "print(lines)"
   ]
  },
  {
   "cell_type": "code",
   "execution_count": 49,
   "id": "ed7aa490-2599-4a0a-a33d-df98b85fc9ee",
   "metadata": {},
   "outputs": [
    {
     "name": "stdout",
     "output_type": "stream",
     "text": [
      "2022-09-27 13:09:53 | INFO | fairseq.data.data_utils | loaded 4,000 examples from: ./DATA/data-bin/ted2020/test.en-zh.en\n",
      "2022-09-27 13:09:53 | INFO | fairseq.data.data_utils | loaded 4,000 examples from: ./DATA/data-bin/ted2020/test.en-zh.zh\n",
      "2022-09-27 13:09:53 | INFO | fairseq.tasks.translation | ./DATA/data-bin/ted2020 test en-zh 4000 examples\n"
     ]
    },
    {
     "name": "stderr",
     "output_type": "stream",
     "text": [
      "prediction: 100%|███████████████████████████████████| 17/17 [00:12<00:00,  1.33it/s]\n"
     ]
    }
   ],
   "source": [
    "generate_prediction(model, task, sequence_generator=sequence_generator)"
   ]
  },
  {
   "attachments": {
    "9ae3a75c-1321-4f12-97f3-8d5eaac994d1.png": {
     "image/png": "[encoded data removed]"
    }
   },
   "cell_type": "markdown",
   "id": "063615a8-3be1-4004-8a8f-dcb05e414be9",
   "metadata": {},
   "source": [
    "# Back-translation\n",
    "## 訓練一個反向的翻譯模型\n",
    "1. 將實驗的參數設定表中(config)的source_lang與target_lang互相交換\n",
    "2. 將實驗的參數設定表中(config)的savedir更改(ex. \"./checkpoints/rnn-back\")\n",
    "3. 訓練一個反向模型\n",
    "\n",
    "![image.png](attachment:9ae3a75c-1321-4f12-97f3-8d5eaac994d1.png)"
   ]
  },
  {
   "cell_type": "markdown",
   "id": "994db5c3-4fd7-4181-ad02-84a8aec58294",
   "metadata": {},
   "source": [
    "## 利用反向模型生成額外資料 (prepare_back_data.py)\n",
    "### 下載 monolingual data"
   ]
  },
  {
   "cell_type": "code",
   "execution_count": 4,
   "id": "ca384cee-03ed-4ddb-9e8b-d3157d5321fb",
   "metadata": {},
   "outputs": [
    {
     "name": "stdout",
     "output_type": "stream",
     "text": [
      "def download_data(): \n",
      "    mono_prefix = Path(data_dir).absolute() / mono_dataset_name\n",
      "    mono_prefix.mkdir(parents=True, exist_ok=True)\n",
      "\n",
      "    urls = (\n",
      "        # '\"https://onedrive.live.com/download?cid=3E549F3B24B238B4&resid=3E549F3B24B238B4%214986&authkey=AANUKbGfZx0kM80\"',\n",
      "    # If the above links die, use the following instead. \n",
      "        \"https://www.csie.ntu.edu.tw/~r09922057/ML2021-hw5/ted_zh_corpus.deduped.gz\",\n",
      "    # # If the above links die, use the following instead. \n",
      "    #     \"https://mega.nz/#!vMNnDShR!4eHDxzlpzIpdpeQTD-htatU_C7QwcBTwGDaSeBqH534\",\n",
      "    )\n",
      "    file_names = (\n",
      "        'ted_zh_corpus.deduped.gz',\n",
      "    )\n",
      "\n",
      "    for u, f in zip(urls, file_names):\n",
      "        path = mono_prefix/f\n",
      "        if not path.exists():\n",
      "            if 'mega' in u:\n",
      "                os.system(f\"megadl {u} --path {path}\")\n",
      "            else:\n",
      "                os.system(f\"wget {u} -O {path}\")\n",
      "        else:\n",
      "            print(f'{f} is exist, skip downloading')\n",
      "        if path.suffix == \".tgz\":\n",
      "            os.system(f\"tar -xvf {path} -C {mono_prefix}\")\n",
      "        elif path.suffix == \".zip\":\n",
      "            os.system(f\"unzip -o {path} -d {mono_prefix}\")\n",
      "        elif path.suffix == \".gz\":\n",
      "            os.system(f\"gzip -fkd {path}\")\n",
      "\n",
      "    return mono_prefix\n",
      "\n"
     ]
    }
   ],
   "source": [
    "from prepare_back_data import download_data, clean_corpus, subword_units, binarize, \\\n",
    "                                generate_reverse_data, generate_dataset\n",
    "\n",
    "lines = inspect.getsource(download_data)\n",
    "print(lines)"
   ]
  },
  {
   "cell_type": "markdown",
   "id": "7da43712-a60c-4f1f-80d7-98a7acf065de",
   "metadata": {},
   "source": [
    "### TODO: 清理資料集\n",
    "\n",
    "1. 將太長、太短的句子移除\n",
    "2. 統一標點符號\n",
    "\n",
    "hint: 可以使用clean_s()來協助"
   ]
  },
  {
   "cell_type": "code",
   "execution_count": 5,
   "id": "3f8d0b91-4d03-4f3a-b0bf-52bed35a6c93",
   "metadata": {},
   "outputs": [
    {
     "name": "stdout",
     "output_type": "stream",
     "text": [
      "def clean_corpus(mono_prefix, src_lang, ratio=9, max_len=1000, min_len=1):\n",
      "    with open(f'{mono_prefix}/ted_zh_corpus.clean', 'w') as out_f:\n",
      "        with open(f'{mono_prefix}/ted_zh_corpus.deduped', 'r') as f:\n",
      "            for line in f.readlines():\n",
      "                line = line.strip()       \n",
      "                s1 = clean_s(line, src_lang)\n",
      "                s1_len = len_s(s1, src_lang)\n",
      "                if min_len > 0: # remove short sentence\n",
      "                    if s1_len < min_len:\n",
      "                        continue\n",
      "                if max_len > 0: # remove long sentence\n",
      "                    if s1_len > max_len:\n",
      "                        continue                   \n",
      "                print(s1, file=out_f)\n",
      "\n"
     ]
    }
   ],
   "source": [
    "lines = inspect.getsource(clean_corpus)\n",
    "print(lines)"
   ]
  },
  {
   "cell_type": "markdown",
   "id": "4645df54-a9f5-4432-82ed-22bab0ae5171",
   "metadata": {},
   "source": [
    "### TODO: Subword Units\n",
    "\n",
    "用反向模型的 spm model 將資料切成 subword units\n",
    "\n",
    "hint: spm model 的路徑為 DATA/raw-data/\\[dataset\\]/spm\\[vocab_num\\].model"
   ]
  },
  {
   "cell_type": "code",
   "execution_count": 6,
   "id": "36b41b70-19c8-444a-b7d6-4ebb0d2f08e8",
   "metadata": {},
   "outputs": [
    {
     "name": "stdout",
     "output_type": "stream",
     "text": [
      "def subword_units(mono_prefix, src_lang, tgt_lang):\n",
      "    vocab_size = 8000\n",
      "\n",
      "    data_dir = \"/home/leyan/Documents/Hung-yi-Lee/hw6_transformer/DATA/rawdata/\"\n",
      "    prefix = Path(data_dir).absolute() / \"ted2020\"\n",
      "\n",
      "    spm_model = spm.SentencePieceProcessor(model_file=str(prefix/f'spm{vocab_size}.model'))\n",
      "\n",
      "    # already process \n",
      "    for lang in [src_lang]:\n",
      "        out_path = mono_prefix/f'mono.tok.{lang}'\n",
      "        # os.system(f\"rm {out_path}\")\n",
      "        if out_path.exists():\n",
      "            print(f\"{out_path} exists. skipping spm_encode.\")\n",
      "        else:\n",
      "            with open(mono_prefix/f'mono.tok.{lang}', 'w') as out_f:\n",
      "                with open(mono_prefix/f'ted_zh_corpus.clean', 'r') as in_f:     \n",
      "                    lines = in_f.readlines()             \n",
      "                    for line in lines:\n",
      "                        line = line.strip()\n",
      "                        tok = spm_model.encode(line, out_type=str)\n",
      "                        print(' '.join(tok), file=out_f)\n",
      "                    line_counts = len(lines)\n",
      "\n",
      "                with open(f'{mono_prefix}/mono.tok.{tgt_lang}', 'w') as f:\n",
      "                    for i in range(line_counts):\n",
      "                        f.write('{}\\n'.format('。'))\n",
      "\n",
      "    os.system(f\"head {mono_prefix._str +'/'}mono.tok.{lang} -n 5\")\n",
      "\n"
     ]
    }
   ],
   "source": [
    "lines = inspect.getsource(subword_units)\n",
    "print(lines)"
   ]
  },
  {
   "cell_type": "markdown",
   "id": "924de67c-6897-4541-9f4b-d3d48c92ecba",
   "metadata": {},
   "source": [
    "### Binarize\n",
    "\n",
    "使用fairseq將資料轉為binary"
   ]
  },
  {
   "cell_type": "code",
   "execution_count": 7,
   "id": "00e92b8d-1371-4be2-bc65-fa524f24831d",
   "metadata": {},
   "outputs": [
    {
     "name": "stdout",
     "output_type": "stream",
     "text": [
      "def binarize(mono_prefix):\n",
      "    binpath = Path('./DATA/data-bin', mono_dataset_name)\n",
      "    src_dict_file = './DATA/data-bin/ted2020/dict.en.txt'\n",
      "    tgt_dict_file = src_dict_file\n",
      "    monopref = str(mono_prefix/\"mono.tok\") # whatever filepath you get after applying subword tokenization\n",
      "    if binpath.exists():\n",
      "        print(binpath, \"exists, will not overwrite!\")\n",
      "    else:\n",
      "        os.system(f\"{config.python_path} -m fairseq_cli.preprocess \\\n",
      "            --source-lang 'zh'\\\n",
      "            --target-lang 'en'\\\n",
      "            --trainpref {monopref}\\\n",
      "            --destdir {binpath}\\\n",
      "            --srcdict {src_dict_file}\\\n",
      "            --tgtdict {tgt_dict_file}\\\n",
      "            --workers 2\")\n",
      "\n"
     ]
    }
   ],
   "source": [
    "lines = inspect.getsource(binarize)\n",
    "print(lines)"
   ]
  },
  {
   "cell_type": "markdown",
   "id": "b77caf86-c847-4667-8f87-89749efa17fb",
   "metadata": {},
   "source": [
    "### TODO: 生成反向翻譯資料\n",
    "\n",
    "將 binarized data 加入原本的資料夾中並用一個 split_name 取名\n",
    "\n",
    "ex. ./DATA/data-bin/ted2020/\\[split_name\\].zh-en.\\[\"en\", \"zh\"\\].\\[\"bin\", \"idx\"\\]\n",
    "\n",
    "便可以使用 generate_prediction(model, task, split=\"split_name\")來產生翻譯資料"
   ]
  },
  {
   "cell_type": "code",
   "execution_count": 8,
   "id": "c420d747-c7c4-4a61-8670-7d2cc02d7090",
   "metadata": {},
   "outputs": [
    {
     "name": "stdout",
     "output_type": "stream",
     "text": [
      "def generate_reverse_data():    \n",
      "    # 將 binarized data 加入原本的資料夾中並用一個 split_name 取名\n",
      "    # ex. ./DATA/data-bin/ted2020/\\[split_name\\].zh-en.\\[\"en\", \"zh\"\\].\\[\"bin\", \"idx\"\\]\n",
      "    os.system(f\"cp ./DATA/data-bin/mono/train.zh-en.zh.bin ./DATA/data-bin/ted2020/mono.zh-en.zh.bin\")\n",
      "    os.system(f\"cp ./DATA/data-bin/mono/train.zh-en.zh.idx ./DATA/data-bin/ted2020/mono.zh-en.zh.idx\")\n",
      "    os.system(f\"cp ./DATA/data-bin/mono/train.zh-en.en.bin ./DATA/data-bin/ted2020/mono.zh-en.en.bin\")\n",
      "    os.system(f\"cp ./DATA/data-bin/mono/train.zh-en.en.idx ./DATA/data-bin/ted2020/mono.zh-en.en.idx\")\n",
      "\n",
      "    proj = \"hw5.seq2seq\"\n",
      "    logger = logging.getLogger(proj)\n",
      "\n",
      "    task = load_task(logger)\n",
      "\n",
      "    model = build_model(arch_args, task)\n",
      "    model = model.to(device=device)\n",
      "\n",
      "    sequence_generator = task.build_generator([model], config)\n",
      "\n",
      "    generate_prediction(model, task ,split=\"mono\" ,outfile=\"./mono.en.txt\", sequence_generator=sequence_generator)\n",
      "\n"
     ]
    }
   ],
   "source": [
    "lines = inspect.getsource(generate_reverse_data)\n",
    "print(lines)"
   ]
  },
  {
   "cell_type": "markdown",
   "id": "a1ffebe6-7c20-424b-9a74-a77344527385",
   "metadata": {},
   "source": [
    "### TODO: 產生新的dataset\n",
    "\n",
    "1. 將翻譯出來的資料與原先的訓練資料結合\n",
    "2. 使用之前的spm model切出成Subword Units\n",
    "3. 重新使用fairseq將資料轉為binary"
   ]
  },
  {
   "cell_type": "code",
   "execution_count": 9,
   "id": "6019d121-78f8-48a5-bdd5-0e9854522746",
   "metadata": {},
   "outputs": [
    {
     "name": "stdout",
     "output_type": "stream",
     "text": [
      "def generate_dataset(mono_prefix):\n",
      "    # 合併剛剛生成的 prediction_file (.en) 以及中文 mono.zh (.zh)\n",
      "    # \n",
      "    # hint: 在此用剛剛的 spm model 對 prediction_file 進行切斷詞\n",
      "    vocab_size = 8000\n",
      "\n",
      "    data_dir = \"/home/leyan/Documents/Hung-yi-Lee/hw6_transformer/DATA/rawdata/\"\n",
      "    prefix = Path(data_dir).absolute() / \"ted2020\"\n",
      "\n",
      "    # spm_model.encode(line, out_type=str)\n",
      "    # output: ./DATA/rawdata/mono/mono.tok.en & mono.tok.zh\n",
      "\n",
      "    spm_model = spm.SentencePieceProcessor(model_file=str(prefix/f'spm{vocab_size}.model'))\n",
      "    with open(f'{mono_prefix}/mono.finaltok.en', 'w') as out_f:\n",
      "        with open('./mono.en.txt', 'r') as in_f:\n",
      "            for line in in_f:\n",
      "                line = line.strip()\n",
      "                tok = spm_model.encode(line, out_type=str)\n",
      "                print(' '.join(tok), file=out_f)\n",
      "\n",
      "    os.system(f\"cp {mono_prefix}/mono.tok.zh {mono_prefix}/mono.finaltok.zh\")\n",
      "\n",
      "    \n",
      "    # hint: 在此用 fairseq 把這些檔案再 binarize\n",
      "    binpath = Path('./DATA/data-bin/synthetic')\n",
      "    src_dict_file = './DATA/data-bin/ted2020/dict.en.txt'\n",
      "    tgt_dict_file = src_dict_file\n",
      "    monopref = \"./DATA/rawdata/mono/mono.tok\" # or whatever path after applying subword tokenization, w/o the suffix (.zh/.en)\n",
      "    if binpath.exists():\n",
      "        print(binpath, \"exists, will not overwrite!\")\n",
      "    else:\n",
      "        os.system(f\"{config.python_path} -m fairseq_cli.preprocess \\\n",
      "            --source-lang 'zh'\\\n",
      "            --target-lang 'en'\\\n",
      "            --trainpref {monopref}\\\n",
      "            --destdir {binpath}\\\n",
      "            --srcdict {src_dict_file}\\\n",
      "            --tgtdict {tgt_dict_file}\\\n",
      "            --workers 2\")\n",
      "\n",
      "    # 這裡用剛剛準備的檔案合併原先 ted2020 來生成最終 back-translation 的資料\n",
      "    os.system(f\"cp -r ./DATA/data-bin/ted2020/ ./DATA/data-bin/ted2020_with_mono/\")\n",
      "\n",
      "    os.system(f\"cp ./DATA/data-bin/synthetic/train.zh-en.zh.bin ./DATA/data-bin/ted2020_with_mono/train1.en-zh.zh.bin\")\n",
      "    os.system(f\"cp ./DATA/data-bin/synthetic/train.zh-en.zh.idx ./DATA/data-bin/ted2020_with_mono/train1.en-zh.zh.idx\")\n",
      "    os.system(f\"cp ./DATA/data-bin/synthetic/train.zh-en.en.bin ./DATA/data-bin/ted2020_with_mono/train1.en-zh.en.bin\")\n",
      "    os.system(f\"cp ./DATA/data-bin/synthetic/train.zh-en.en.idx ./DATA/data-bin/ted2020_with_mono/train1.en-zh.en.idx\")\n",
      "\n"
     ]
    }
   ],
   "source": [
    "lines = inspect.getsource(generate_dataset)\n",
    "print(lines)"
   ]
  },
  {
   "cell_type": "markdown",
   "id": "729f36ee-3051-4443-90a2-7260f1f6b62b",
   "metadata": {},
   "source": [
    "### TODO: 重新訓練 (back_translation_main.py)\n",
    "\n",
    "當已經產生新的資料集\n",
    "\n",
    "1. 將實驗的參數設定表(config)中的datadir改為新的資料集(\"./DATA/data-bin/ted2020_with_mono\")\n",
    "2. 將實驗的參數設定表(config)中的source_lang與target_lang設定還原(\"en\", \"zh\")\n",
    "3. 將實驗的參數設定表(config)中的savedir更改(ex. \"./checkpoints/rnn-bt\")\n",
    "4. 重新訓練"
   ]
  },
  {
   "cell_type": "code",
   "execution_count": 10,
   "id": "d92879c2-890b-4810-baa9-5a317adf374d",
   "metadata": {},
   "outputs": [],
   "source": [
    "# For Strong(Back-translation)\n",
    "config = Namespace(\n",
    "    python_path = \"/home/leyan/anaconda3/envs/torch_1_21/bin/python\",\n",
    "    datadir = \"./DATA/data-bin/ted2020_with_mono\",\n",
    "    savedir = \"./checkpoints/rnn-bt\",  # strong\n",
    "    source_lang = \"en\",\n",
    "    target_lang = \"zh\",\n",
    "    \n",
    "    # cpu threads when fetching & processing data.\n",
    "    num_workers=2,  \n",
    "    # batch size in terms of tokens. gradient accumulation increases the effective batchsize.\n",
    "    max_tokens=8192,\n",
    "    accum_steps=2,\n",
    "    \n",
    "    # the lr s calculated from Noam lr scheduler. you can tune the maximum lr by this factor.\n",
    "    lr_factor=2.,\n",
    "    lr_warmup=4000,\n",
    "    \n",
    "    # clipping gradient norm helps alleviate gradient exploding\n",
    "    clip_norm=1.0,\n",
    "    \n",
    "    # maximum epochs for training\n",
    "    max_epoch=30,\n",
    "    start_epoch=1,\n",
    "    \n",
    "    # beam size for beam search\n",
    "    beam=5, \n",
    "    # generate sequences of maximum length ax + b, where x is the source length\n",
    "    max_len_a=1.2, \n",
    "    max_len_b=10,\n",
    "    # when decoding, post process sentence by removing sentencepiece symbols.\n",
    "    post_process = \"sentencepiece\",\n",
    "    \n",
    "    # checkpoints\n",
    "    keep_last_epochs=5,\n",
    "    resume=None, # if resume from checkpoint name (under config.savedir)\n",
    "    \n",
    "    # logging\n",
    "    use_wandb=False,\n",
    ")"
   ]
  },
  {
   "cell_type": "code",
   "execution_count": 11,
   "id": "c78a3014-4b99-4569-8573-5739f36a475a",
   "metadata": {},
   "outputs": [
    {
     "name": "stdout",
     "output_type": "stream",
     "text": [
      "2022-09-27 19:09:25 | INFO | fairseq.tasks.translation | [en] dictionary: 8000 types\n",
      "2022-09-27 19:09:25 | INFO | fairseq.tasks.translation | [zh] dictionary: 8000 types\n",
      "2022-09-27 19:09:25 | INFO | hw5.seq2seq-bt | loading data for epoch 1\n",
      "2022-09-27 19:09:25 | INFO | fairseq.data.data_utils | loaded 390,041 examples from: ./DATA/data-bin/ted2020_with_mono/train.en-zh.en\n",
      "2022-09-27 19:09:25 | INFO | fairseq.data.data_utils | loaded 390,041 examples from: ./DATA/data-bin/ted2020_with_mono/train.en-zh.zh\n",
      "2022-09-27 19:09:25 | INFO | fairseq.tasks.translation | ./DATA/data-bin/ted2020_with_mono train en-zh 390041 examples\n",
      "2022-09-27 19:09:25 | INFO | fairseq.data.data_utils | loaded 781,713 examples from: ./DATA/data-bin/ted2020_with_mono/train1.en-zh.en\n",
      "2022-09-27 19:09:25 | INFO | fairseq.data.data_utils | loaded 781,713 examples from: ./DATA/data-bin/ted2020_with_mono/train1.en-zh.zh\n",
      "2022-09-27 19:09:25 | INFO | fairseq.tasks.translation | ./DATA/data-bin/ted2020_with_mono train1 en-zh 781713 examples\n",
      "2022-09-27 19:09:25 | INFO | fairseq.data.data_utils | loaded 3,939 examples from: ./DATA/data-bin/ted2020_with_mono/valid.en-zh.en\n",
      "2022-09-27 19:09:25 | INFO | fairseq.data.data_utils | loaded 3,939 examples from: ./DATA/data-bin/ted2020_with_mono/valid.en-zh.zh\n",
      "2022-09-27 19:09:25 | INFO | fairseq.tasks.translation | ./DATA/data-bin/ted2020_with_mono valid en-zh 3939 examples\n",
      "{'id': 1,\n",
      " 'source': tensor([  24,   63,    5,  179,  435,  217,    6,   29,   41,    5, 1881,   52,\n",
      "         252,  166,   60,  173,  132,  495,  605,  422,    6,  146,    6,   48,\n",
      "           4,   11,  236,   24,  242,   54, 2671,    5,  257,  316,    6,   12,\n",
      "        1351,  143,  103,    7,    2]),\n",
      " 'target': tensor([ 161,  118,  297, 1528,  563,  129, 2997,  380,  612, 1159, 2710,  329,\n",
      "        2529, 1406,  475,    4,    5,  650, 3835,  239,  303,   93, 2790, 1406,\n",
      "         475,    9, 1192,   10,    2])}\n",
      "('Source: you can very precisely calculate what your co2 emissions are , and '\n",
      " 'then you will be given options to reduce .')\n",
      "'Target: 你能非常精確地計算什麼你的二氧化碳排放 , 然后將給你減少排放的選擇 。'\n",
      "2022-09-27 19:09:25 | WARNING | fairseq.tasks.fairseq_task | 2,542 samples have invalid sizes and will be skipped, max_positions=(20, 20), first few sample ids=[815, 1267, 751, 349, 1996, 2330, 1750, 3867, 2838, 3747]\n",
      "{'id': tensor([3586]), 'nsentences': 1, 'ntokens': 10, 'net_input': {'src_tokens': tensor([[  1,   1, 126, 285,  77,   8,  13,  23, 272, 491,   6,  29, 203,   6,\n",
      "           7,   2]]), 'src_lengths': tensor([14]), 'prev_output_tokens': tensor([[   2,    5, 1745, 4205, 4205,  445, 1664, 1636,  139,  315,    1,    1,\n",
      "            1,    1,    1,    1]])}, 'target': tensor([[   5, 1745, 4205, 4205,  445, 1664, 1636,  139,  315,    2,    1,    1,\n",
      "            1,    1,    1,    1]])}\n",
      "2022-09-27 19:09:30 | INFO | hw5.seq2seq-bt | Seq2Seq(\n",
      "  (encoder): TransformerEncoder(\n",
      "    (dropout_module): FairseqDropout()\n",
      "    (embed_tokens): Embedding(8000, 256, padding_idx=1)\n",
      "    (embed_positions): SinusoidalPositionalEmbedding()\n",
      "    (layers): ModuleList(\n",
      "      (0): TransformerEncoderLayer(\n",
      "        (self_attn): MultiheadAttention(\n",
      "          (dropout_module): FairseqDropout()\n",
      "          (k_proj): Linear(in_features=256, out_features=256, bias=True)\n",
      "          (v_proj): Linear(in_features=256, out_features=256, bias=True)\n",
      "          (q_proj): Linear(in_features=256, out_features=256, bias=True)\n",
      "          (out_proj): Linear(in_features=256, out_features=256, bias=True)\n",
      "        )\n",
      "        (self_attn_layer_norm): LayerNorm((256,), eps=1e-05, elementwise_affine=True)\n",
      "        (dropout_module): FairseqDropout()\n",
      "        (activation_dropout_module): FairseqDropout()\n",
      "        (fc1): Linear(in_features=256, out_features=1024, bias=True)\n",
      "        (fc2): Linear(in_features=1024, out_features=256, bias=True)\n",
      "        (final_layer_norm): LayerNorm((256,), eps=1e-05, elementwise_affine=True)\n",
      "      )\n",
      "      (1): TransformerEncoderLayer(\n",
      "        (self_attn): MultiheadAttention(\n",
      "          (dropout_module): FairseqDropout()\n",
      "          (k_proj): Linear(in_features=256, out_features=256, bias=True)\n",
      "          (v_proj): Linear(in_features=256, out_features=256, bias=True)\n",
      "          (q_proj): Linear(in_features=256, out_features=256, bias=True)\n",
      "          (out_proj): Linear(in_features=256, out_features=256, bias=True)\n",
      "        )\n",
      "        (self_attn_layer_norm): LayerNorm((256,), eps=1e-05, elementwise_affine=True)\n",
      "        (dropout_module): FairseqDropout()\n",
      "        (activation_dropout_module): FairseqDropout()\n",
      "        (fc1): Linear(in_features=256, out_features=1024, bias=True)\n",
      "        (fc2): Linear(in_features=1024, out_features=256, bias=True)\n",
      "        (final_layer_norm): LayerNorm((256,), eps=1e-05, elementwise_affine=True)\n",
      "      )\n",
      "      (2): TransformerEncoderLayer(\n",
      "        (self_attn): MultiheadAttention(\n",
      "          (dropout_module): FairseqDropout()\n",
      "          (k_proj): Linear(in_features=256, out_features=256, bias=True)\n",
      "          (v_proj): Linear(in_features=256, out_features=256, bias=True)\n",
      "          (q_proj): Linear(in_features=256, out_features=256, bias=True)\n",
      "          (out_proj): Linear(in_features=256, out_features=256, bias=True)\n",
      "        )\n",
      "        (self_attn_layer_norm): LayerNorm((256,), eps=1e-05, elementwise_affine=True)\n",
      "        (dropout_module): FairseqDropout()\n",
      "        (activation_dropout_module): FairseqDropout()\n",
      "        (fc1): Linear(in_features=256, out_features=1024, bias=True)\n",
      "        (fc2): Linear(in_features=1024, out_features=256, bias=True)\n",
      "        (final_layer_norm): LayerNorm((256,), eps=1e-05, elementwise_affine=True)\n",
      "      )\n",
      "      (3): TransformerEncoderLayer(\n",
      "        (self_attn): MultiheadAttention(\n",
      "          (dropout_module): FairseqDropout()\n",
      "          (k_proj): Linear(in_features=256, out_features=256, bias=True)\n",
      "          (v_proj): Linear(in_features=256, out_features=256, bias=True)\n",
      "          (q_proj): Linear(in_features=256, out_features=256, bias=True)\n",
      "          (out_proj): Linear(in_features=256, out_features=256, bias=True)\n",
      "        )\n",
      "        (self_attn_layer_norm): LayerNorm((256,), eps=1e-05, elementwise_affine=True)\n",
      "        (dropout_module): FairseqDropout()\n",
      "        (activation_dropout_module): FairseqDropout()\n",
      "        (fc1): Linear(in_features=256, out_features=1024, bias=True)\n",
      "        (fc2): Linear(in_features=1024, out_features=256, bias=True)\n",
      "        (final_layer_norm): LayerNorm((256,), eps=1e-05, elementwise_affine=True)\n",
      "      )\n",
      "    )\n",
      "    (layer_norm): LayerNorm((256,), eps=1e-05, elementwise_affine=True)\n",
      "  )\n",
      "  (decoder): TransformerDecoder(\n",
      "    (dropout_module): FairseqDropout()\n",
      "    (embed_tokens): Embedding(8000, 256, padding_idx=1)\n",
      "    (embed_positions): SinusoidalPositionalEmbedding()\n",
      "    (layers): ModuleList(\n",
      "      (0): TransformerDecoderLayer(\n",
      "        (dropout_module): FairseqDropout()\n",
      "        (self_attn): MultiheadAttention(\n",
      "          (dropout_module): FairseqDropout()\n",
      "          (k_proj): Linear(in_features=256, out_features=256, bias=True)\n",
      "          (v_proj): Linear(in_features=256, out_features=256, bias=True)\n",
      "          (q_proj): Linear(in_features=256, out_features=256, bias=True)\n",
      "          (out_proj): Linear(in_features=256, out_features=256, bias=True)\n",
      "        )\n",
      "        (activation_dropout_module): FairseqDropout()\n",
      "        (self_attn_layer_norm): LayerNorm((256,), eps=1e-05, elementwise_affine=True)\n",
      "        (encoder_attn): MultiheadAttention(\n",
      "          (dropout_module): FairseqDropout()\n",
      "          (k_proj): Linear(in_features=256, out_features=256, bias=True)\n",
      "          (v_proj): Linear(in_features=256, out_features=256, bias=True)\n",
      "          (q_proj): Linear(in_features=256, out_features=256, bias=True)\n",
      "          (out_proj): Linear(in_features=256, out_features=256, bias=True)\n",
      "        )\n",
      "        (encoder_attn_layer_norm): LayerNorm((256,), eps=1e-05, elementwise_affine=True)\n",
      "        (fc1): Linear(in_features=256, out_features=1024, bias=True)\n",
      "        (fc2): Linear(in_features=1024, out_features=256, bias=True)\n",
      "        (final_layer_norm): LayerNorm((256,), eps=1e-05, elementwise_affine=True)\n",
      "      )\n",
      "      (1): TransformerDecoderLayer(\n",
      "        (dropout_module): FairseqDropout()\n",
      "        (self_attn): MultiheadAttention(\n",
      "          (dropout_module): FairseqDropout()\n",
      "          (k_proj): Linear(in_features=256, out_features=256, bias=True)\n",
      "          (v_proj): Linear(in_features=256, out_features=256, bias=True)\n",
      "          (q_proj): Linear(in_features=256, out_features=256, bias=True)\n",
      "          (out_proj): Linear(in_features=256, out_features=256, bias=True)\n",
      "        )\n",
      "        (activation_dropout_module): FairseqDropout()\n",
      "        (self_attn_layer_norm): LayerNorm((256,), eps=1e-05, elementwise_affine=True)\n",
      "        (encoder_attn): MultiheadAttention(\n",
      "          (dropout_module): FairseqDropout()\n",
      "          (k_proj): Linear(in_features=256, out_features=256, bias=True)\n",
      "          (v_proj): Linear(in_features=256, out_features=256, bias=True)\n",
      "          (q_proj): Linear(in_features=256, out_features=256, bias=True)\n",
      "          (out_proj): Linear(in_features=256, out_features=256, bias=True)\n",
      "        )\n",
      "        (encoder_attn_layer_norm): LayerNorm((256,), eps=1e-05, elementwise_affine=True)\n",
      "        (fc1): Linear(in_features=256, out_features=1024, bias=True)\n",
      "        (fc2): Linear(in_features=1024, out_features=256, bias=True)\n",
      "        (final_layer_norm): LayerNorm((256,), eps=1e-05, elementwise_affine=True)\n",
      "      )\n",
      "      (2): TransformerDecoderLayer(\n",
      "        (dropout_module): FairseqDropout()\n",
      "        (self_attn): MultiheadAttention(\n",
      "          (dropout_module): FairseqDropout()\n",
      "          (k_proj): Linear(in_features=256, out_features=256, bias=True)\n",
      "          (v_proj): Linear(in_features=256, out_features=256, bias=True)\n",
      "          (q_proj): Linear(in_features=256, out_features=256, bias=True)\n",
      "          (out_proj): Linear(in_features=256, out_features=256, bias=True)\n",
      "        )\n",
      "        (activation_dropout_module): FairseqDropout()\n",
      "        (self_attn_layer_norm): LayerNorm((256,), eps=1e-05, elementwise_affine=True)\n",
      "        (encoder_attn): MultiheadAttention(\n",
      "          (dropout_module): FairseqDropout()\n",
      "          (k_proj): Linear(in_features=256, out_features=256, bias=True)\n",
      "          (v_proj): Linear(in_features=256, out_features=256, bias=True)\n",
      "          (q_proj): Linear(in_features=256, out_features=256, bias=True)\n",
      "          (out_proj): Linear(in_features=256, out_features=256, bias=True)\n",
      "        )\n",
      "        (encoder_attn_layer_norm): LayerNorm((256,), eps=1e-05, elementwise_affine=True)\n",
      "        (fc1): Linear(in_features=256, out_features=1024, bias=True)\n",
      "        (fc2): Linear(in_features=1024, out_features=256, bias=True)\n",
      "        (final_layer_norm): LayerNorm((256,), eps=1e-05, elementwise_affine=True)\n",
      "      )\n",
      "      (3): TransformerDecoderLayer(\n",
      "        (dropout_module): FairseqDropout()\n",
      "        (self_attn): MultiheadAttention(\n",
      "          (dropout_module): FairseqDropout()\n",
      "          (k_proj): Linear(in_features=256, out_features=256, bias=True)\n",
      "          (v_proj): Linear(in_features=256, out_features=256, bias=True)\n",
      "          (q_proj): Linear(in_features=256, out_features=256, bias=True)\n",
      "          (out_proj): Linear(in_features=256, out_features=256, bias=True)\n",
      "        )\n",
      "        (activation_dropout_module): FairseqDropout()\n",
      "        (self_attn_layer_norm): LayerNorm((256,), eps=1e-05, elementwise_affine=True)\n",
      "        (encoder_attn): MultiheadAttention(\n",
      "          (dropout_module): FairseqDropout()\n",
      "          (k_proj): Linear(in_features=256, out_features=256, bias=True)\n",
      "          (v_proj): Linear(in_features=256, out_features=256, bias=True)\n",
      "          (q_proj): Linear(in_features=256, out_features=256, bias=True)\n",
      "          (out_proj): Linear(in_features=256, out_features=256, bias=True)\n",
      "        )\n",
      "        (encoder_attn_layer_norm): LayerNorm((256,), eps=1e-05, elementwise_affine=True)\n",
      "        (fc1): Linear(in_features=256, out_features=1024, bias=True)\n",
      "        (fc2): Linear(in_features=1024, out_features=256, bias=True)\n",
      "        (final_layer_norm): LayerNorm((256,), eps=1e-05, elementwise_affine=True)\n",
      "      )\n",
      "    )\n",
      "    (layer_norm): LayerNorm((256,), eps=1e-05, elementwise_affine=True)\n",
      "    (output_projection): Linear(in_features=256, out_features=8000, bias=False)\n",
      "  )\n",
      ")\n",
      "2022-09-27 19:09:31 | INFO | hw5.seq2seq-bt | task: TranslationTask\n",
      "2022-09-27 19:09:31 | INFO | hw5.seq2seq-bt | encoder: TransformerEncoder\n",
      "2022-09-27 19:09:31 | INFO | hw5.seq2seq-bt | decoder: TransformerDecoder\n",
      "2022-09-27 19:09:31 | INFO | hw5.seq2seq-bt | criterion: LabelSmoothedCrossEntropyCriterion\n",
      "2022-09-27 19:09:31 | INFO | hw5.seq2seq-bt | optimizer: NoamOpt\n",
      "2022-09-27 19:09:31 | INFO | hw5.seq2seq-bt | num. model params: 11,469,824 (num. trained: 11,469,824)\n",
      "2022-09-27 19:09:31 | INFO | hw5.seq2seq-bt | max tokens per batch = 8192, accumulate steps = 2\n",
      "2022-09-27 19:09:31 | WARNING | fairseq.tasks.fairseq_task | 1 samples have invalid sizes and will be skipped, max_positions=(1024, 1024), first few sample ids=[326651]\n",
      "2022-09-27 19:09:31 | INFO | hw5.seq2seq-bt | loaded checkpoint checkpoints/rnn-bt/checkpoint_last.pt: step=8170 loss=3.90596342086792 bleu=16.825067571466537\n",
      "2022-09-27 19:13:43 | INFO | hw5.seq2seq-bt | training loss: 4.6202             \n",
      "2022-09-27 19:13:43 | INFO | hw5.seq2seq-bt | begin validation\n",
      "validation:   0%|                        | 0/23 [00:00<?, ?it/s, valid_loss=3.2]/home/leyan/anaconda3/envs/torch_1_21/lib/python3.8/site-packages/fairseq/search.py:140: UserWarning: __floordiv__ is deprecated, and its behavior will change in a future version of pytorch. It currently rounds toward 0 (like the 'trunc' function NOT 'floor'). This results in incorrect rounding for negative values. To keep the current behavior, use torch.div(a, b, rounding_mode='trunc'), or for actual floor division, use torch.div(a, b, rounding_mode='floor').\n",
      "  beams_buf = indices_buf // vocab_size\n",
      "/home/leyan/anaconda3/envs/torch_1_21/lib/python3.8/site-packages/fairseq/sequence_generator.py:657: UserWarning: __floordiv__ is deprecated, and its behavior will change in a future version of pytorch. It currently rounds toward 0 (like the 'trunc' function NOT 'floor'). This results in incorrect rounding for negative values. To keep the current behavior, use torch.div(a, b, rounding_mode='trunc'), or for actual floor division, use torch.div(a, b, rounding_mode='floor').\n",
      "  unfin_idx = idx // beam_size\n",
      "2022-09-27 19:14:04 | INFO | hw5.seq2seq-bt | example source: we shouldn't overvalue stem .\n",
      "2022-09-27 19:14:04 | INFO | hw5.seq2seq-bt | example hypothesis: 我們不該被評估的幹嘛 。\n",
      "2022-09-27 19:14:04 | INFO | hw5.seq2seq-bt | example reference: 我們不應該過度重視stem 。\n",
      "2022-09-27 19:14:04 | INFO | hw5.seq2seq-bt | validation loss:\t3.8372\n",
      "2022-09-27 19:14:04 | INFO | hw5.seq2seq-bt | BLEU = 17.72 52.8/27.0/14.6/8.3 (BP = 0.869 ratio = 0.877 hyp_len = 98233 ref_len = 112023)\n",
      "2022-09-27 19:14:05 | INFO | hw5.seq2seq-bt | saved epoch checkpoint: /home/leyan/Documents/Hung-yi-Lee/hw6_transformer/checkpoints/rnn-bt/checkpoint1.pt\n",
      "2022-09-27 19:14:05 | INFO | hw5.seq2seq-bt | end of epoch 1\n",
      "2022-09-27 19:18:14 | INFO | hw5.seq2seq-bt | training loss: 4.5754             \n",
      "2022-09-27 19:18:14 | INFO | hw5.seq2seq-bt | begin validation\n",
      "2022-09-27 19:18:34 | INFO | hw5.seq2seq-bt | example source: well she was back all right .\n",
      "2022-09-27 19:18:34 | INFO | hw5.seq2seq-bt | example hypothesis: 她回來了 。\n",
      "2022-09-27 19:18:34 | INFO | hw5.seq2seq-bt | example reference: 好吧 , 她回來了\n",
      "2022-09-27 19:18:34 | INFO | hw5.seq2seq-bt | validation loss:\t3.7872\n",
      "2022-09-27 19:18:34 | INFO | hw5.seq2seq-bt | BLEU = 18.56 52.1/26.9/14.7/8.4 (BP = 0.911 ratio = 0.915 hyp_len = 102492 ref_len = 112023)\n",
      "2022-09-27 19:18:34 | INFO | hw5.seq2seq-bt | saved epoch checkpoint: /home/leyan/Documents/Hung-yi-Lee/hw6_transformer/checkpoints/rnn-bt/checkpoint2.pt\n",
      "2022-09-27 19:18:34 | INFO | hw5.seq2seq-bt | end of epoch 2\n",
      "2022-09-27 19:22:42 | INFO | hw5.seq2seq-bt | training loss: 4.5425             \n",
      "2022-09-27 19:22:42 | INFO | hw5.seq2seq-bt | begin validation\n",
      "2022-09-27 19:23:03 | INFO | hw5.seq2seq-bt | example source: we had basically three requirements .\n",
      "2022-09-27 19:23:03 | INFO | hw5.seq2seq-bt | example hypothesis: 基本上 , 我們有三個需要 。\n",
      "2022-09-27 19:23:03 | INFO | hw5.seq2seq-bt | example reference: 基本上我們有三個需求\n",
      "2022-09-27 19:23:03 | INFO | hw5.seq2seq-bt | validation loss:\t3.7407\n",
      "2022-09-27 19:23:03 | INFO | hw5.seq2seq-bt | BLEU = 19.25 51.5/26.7/14.7/8.4 (BP = 0.949 ratio = 0.950 hyp_len = 106457 ref_len = 112023)\n",
      "2022-09-27 19:23:03 | INFO | hw5.seq2seq-bt | saved epoch checkpoint: /home/leyan/Documents/Hung-yi-Lee/hw6_transformer/checkpoints/rnn-bt/checkpoint3.pt\n",
      "2022-09-27 19:23:03 | INFO | hw5.seq2seq-bt | end of epoch 3\n",
      "2022-09-27 19:27:17 | INFO | hw5.seq2seq-bt | training loss: 4.5138             \n",
      "2022-09-27 19:27:17 | INFO | hw5.seq2seq-bt | begin validation\n",
      "2022-09-27 19:27:37 | INFO | hw5.seq2seq-bt | example source: and while a more recent study did show that reaction times and errors increase for some bilingual students in crosslanguage tests , it also showed that the effort and attention needed to switch between languages triggered more activity in , and potentially strengthened , the dorsolateral prefrontal cortex .\n",
      "2022-09-27 19:27:37 | INFO | hw5.seq2seq-bt | example hypothesis: 雖然最近的研究顯示 , 許多研究顯示 , 反應時間和恐怖分子的反應 , 增加了在跨越奴隸的學生 , 同時也顯示 , 努力和注意力在語言之間 , 需要更多的活動 , 潛在的力量 , 更強大 , 更強大的力量 , 更加強大 , 更具侵入性 。\n",
      "2022-09-27 19:27:37 | INFO | hw5.seq2seq-bt | example reference: 最新的硏究顯示 , 在跨語言測驗當中 , 使用雙語學生的反應時間與錯誤次數增加了這個結果顯示 , 學生需要更努力與專注於轉換語言 , 這也使得前額葉腦區不僅更加活躍 , 而且能強化它的功能 。\n",
      "2022-09-27 19:27:37 | INFO | hw5.seq2seq-bt | validation loss:\t3.7090\n",
      "2022-09-27 19:27:37 | INFO | hw5.seq2seq-bt | BLEU = 19.81 52.1/27.3/15.2/8.9 (BP = 0.947 ratio = 0.948 hyp_len = 106202 ref_len = 112023)\n",
      "2022-09-27 19:27:37 | INFO | hw5.seq2seq-bt | saved epoch checkpoint: /home/leyan/Documents/Hung-yi-Lee/hw6_transformer/checkpoints/rnn-bt/checkpoint4.pt\n",
      "2022-09-27 19:27:37 | INFO | hw5.seq2seq-bt | end of epoch 4\n",
      "2022-09-27 19:31:40 | INFO | hw5.seq2seq-bt | training loss: 4.4924             \n",
      "2022-09-27 19:31:40 | INFO | hw5.seq2seq-bt | begin validation\n",
      "2022-09-27 19:32:00 | INFO | hw5.seq2seq-bt | example source: he was a wonderful inventor , a maverick creator .\n",
      "2022-09-27 19:32:00 | INFO | hw5.seq2seq-bt | example hypothesis: 他是個很棒的發明家 , 一位傑出的發明家 。\n",
      "2022-09-27 19:32:00 | INFO | hw5.seq2seq-bt | example reference: 他是位很棒的發明家 , 獨排眾議的創造家 。\n",
      "2022-09-27 19:32:00 | INFO | hw5.seq2seq-bt | validation loss:\t3.6963\n",
      "2022-09-27 19:32:00 | INFO | hw5.seq2seq-bt | BLEU = 19.74 53.1/28.1/15.7/9.1 (BP = 0.920 ratio = 0.923 hyp_len = 103358 ref_len = 112023)\n",
      "2022-09-27 19:32:01 | INFO | hw5.seq2seq-bt | saved epoch checkpoint: /home/leyan/Documents/Hung-yi-Lee/hw6_transformer/checkpoints/rnn-bt/checkpoint5.pt\n",
      "2022-09-27 19:32:01 | INFO | hw5.seq2seq-bt | end of epoch 5\n",
      "2022-09-27 19:36:06 | INFO | hw5.seq2seq-bt | training loss: 4.4872             \n",
      "2022-09-27 19:36:06 | INFO | hw5.seq2seq-bt | begin validation\n",
      "2022-09-27 19:36:23 | INFO | hw5.seq2seq-bt | example source: just saying .     \n",
      "2022-09-27 19:36:23 | INFO | hw5.seq2seq-bt | example hypothesis: 只是說 。\n",
      "2022-09-27 19:36:23 | INFO | hw5.seq2seq-bt | example reference: 說說而已 。\n",
      "2022-09-27 19:36:23 | INFO | hw5.seq2seq-bt | validation loss:\t3.6652\n",
      "2022-09-27 19:36:23 | INFO | hw5.seq2seq-bt | BLEU = 20.37 54.3/28.8/16.2/9.5 (BP = 0.918 ratio = 0.921 hyp_len = 103213 ref_len = 112023)\n",
      "2022-09-27 19:36:24 | INFO | hw5.seq2seq-bt | saved epoch checkpoint: /home/leyan/Documents/Hung-yi-Lee/hw6_transformer/checkpoints/rnn-bt/checkpoint6.pt\n",
      "2022-09-27 19:36:24 | INFO | hw5.seq2seq-bt | end of epoch 6\n",
      "2022-09-27 19:40:28 | INFO | hw5.seq2seq-bt | training loss: 4.4697             \n",
      "2022-09-27 19:40:28 | INFO | hw5.seq2seq-bt | begin validation\n",
      "2022-09-27 19:40:48 | INFO | hw5.seq2seq-bt | example source: thank you .       \n",
      "2022-09-27 19:40:48 | INFO | hw5.seq2seq-bt | example hypothesis: 感謝各位 。\n",
      "2022-09-27 19:40:48 | INFO | hw5.seq2seq-bt | example reference: 謝謝\n",
      "2022-09-27 19:40:48 | INFO | hw5.seq2seq-bt | validation loss:\t3.6370\n",
      "2022-09-27 19:40:48 | INFO | hw5.seq2seq-bt | BLEU = 20.65 53.4/28.4/16.0/9.4 (BP = 0.945 ratio = 0.947 hyp_len = 106048 ref_len = 112023)\n",
      "2022-09-27 19:40:48 | INFO | hw5.seq2seq-bt | saved epoch checkpoint: /home/leyan/Documents/Hung-yi-Lee/hw6_transformer/checkpoints/rnn-bt/checkpoint7.pt\n",
      "2022-09-27 19:40:48 | INFO | hw5.seq2seq-bt | end of epoch 7\n",
      "2022-09-27 19:44:54 | INFO | hw5.seq2seq-bt | training loss: 4.4593             \n",
      "2022-09-27 19:44:54 | INFO | hw5.seq2seq-bt | begin validation\n",
      "2022-09-27 19:45:15 | INFO | hw5.seq2seq-bt | example source: i climbed higher , higher , higher , and i jumped .\n",
      "2022-09-27 19:45:15 | INFO | hw5.seq2seq-bt | example hypothesis: 我爬到更高、更高、更高、更高、更高 , 我跳過 。\n",
      "2022-09-27 19:45:15 | INFO | hw5.seq2seq-bt | example reference: 我越爬越高 , 越爬越高 , 然後我跳了 。\n",
      "2022-09-27 19:45:15 | INFO | hw5.seq2seq-bt | validation loss:\t3.6299\n",
      "2022-09-27 19:45:15 | INFO | hw5.seq2seq-bt | BLEU = 20.67 54.6/29.3/16.6/9.8 (BP = 0.916 ratio = 0.919 hyp_len = 102950 ref_len = 112023)\n",
      "2022-09-27 19:45:15 | INFO | hw5.seq2seq-bt | saved epoch checkpoint: /home/leyan/Documents/Hung-yi-Lee/hw6_transformer/checkpoints/rnn-bt/checkpoint8.pt\n",
      "2022-09-27 19:45:15 | INFO | hw5.seq2seq-bt | end of epoch 8\n",
      "2022-09-27 19:49:20 | INFO | hw5.seq2seq-bt | training loss: 4.4458             \n",
      "2022-09-27 19:49:20 | INFO | hw5.seq2seq-bt | begin validation\n",
      "2022-09-27 19:49:39 | INFO | hw5.seq2seq-bt | example source: but i also loved the arts and sciences .\n",
      "2022-09-27 19:49:39 | INFO | hw5.seq2seq-bt | example hypothesis: 但我也喜歡藝術和科學 。\n",
      "2022-09-27 19:49:39 | INFO | hw5.seq2seq-bt | example reference: 當我還是個小女孩\n",
      "2022-09-27 19:49:39 | INFO | hw5.seq2seq-bt | validation loss:\t3.6148\n",
      "2022-09-27 19:49:39 | INFO | hw5.seq2seq-bt | BLEU = 20.39 55.8/30.0/17.0/10.0 (BP = 0.882 ratio = 0.889 hyp_len = 99535 ref_len = 112023)\n",
      "2022-09-27 19:49:39 | INFO | hw5.seq2seq-bt | saved epoch checkpoint: /home/leyan/Documents/Hung-yi-Lee/hw6_transformer/checkpoints/rnn-bt/checkpoint9.pt\n",
      "2022-09-27 19:49:39 | INFO | hw5.seq2seq-bt | end of epoch 9\n",
      "2022-09-27 19:53:46 | INFO | hw5.seq2seq-bt | training loss: 4.4343             \n",
      "2022-09-27 19:53:46 | INFO | hw5.seq2seq-bt | begin validation\n",
      "2022-09-27 19:54:06 | INFO | hw5.seq2seq-bt | example source: in one of the joints between over 9 , 000 magnets in lhc , there was a manufacturing defect .\n",
      "2022-09-27 19:54:06 | INFO | hw5.seq2seq-bt | example hypothesis: 在lhc有超過九千個磁鐵之間 , 有一個製造的偵測器 。\n",
      "2022-09-27 19:54:06 | INFO | hw5.seq2seq-bt | example reference: 在lhc里九千多個磁鐵的其中一個結合處會有製成不良\n",
      "2022-09-27 19:54:06 | INFO | hw5.seq2seq-bt | validation loss:\t3.6059\n",
      "2022-09-27 19:54:06 | INFO | hw5.seq2seq-bt | BLEU = 21.37 54.2/29.2/16.7/9.9 (BP = 0.944 ratio = 0.946 hyp_len = 105951 ref_len = 112023)\n",
      "2022-09-27 19:54:06 | INFO | hw5.seq2seq-bt | saved epoch checkpoint: /home/leyan/Documents/Hung-yi-Lee/hw6_transformer/checkpoints/rnn-bt/checkpoint10.pt\n",
      "2022-09-27 19:54:06 | INFO | hw5.seq2seq-bt | end of epoch 10\n",
      "2022-09-27 19:58:11 | INFO | hw5.seq2seq-bt | training loss: 4.4284             \n",
      "2022-09-27 19:58:11 | INFO | hw5.seq2seq-bt | begin validation\n",
      "2022-09-27 19:58:32 | INFO | hw5.seq2seq-bt | example source: the passengers on the second bus are assigned powers of the next prime , 5 .\n",
      "2022-09-27 19:58:32 | INFO | hw5.seq2seq-bt | example hypothesis: 第二個公車的乘客被指定為下一個原子的力量 , 5 。\n",
      "2022-09-27 19:58:32 | INFO | hw5.seq2seq-bt | example reference: 第二輛巴士上的客人所各自入住的房號則是下一個質數5的座號次方\n",
      "2022-09-27 19:58:32 | INFO | hw5.seq2seq-bt | validation loss:\t3.5909\n",
      "2022-09-27 19:58:32 | INFO | hw5.seq2seq-bt | BLEU = 21.21 55.2/29.7/16.9/10.0 (BP = 0.925 ratio = 0.927 hyp_len = 103899 ref_len = 112023)\n",
      "2022-09-27 19:58:32 | INFO | hw5.seq2seq-bt | saved epoch checkpoint: /home/leyan/Documents/Hung-yi-Lee/hw6_transformer/checkpoints/rnn-bt/checkpoint11.pt\n",
      "2022-09-27 19:58:32 | INFO | hw5.seq2seq-bt | end of epoch 11\n",
      "2022-09-27 20:02:36 | INFO | hw5.seq2seq-bt | training loss: 4.4180             \n",
      "2022-09-27 20:02:36 | INFO | hw5.seq2seq-bt | begin validation\n",
      "2022-09-27 20:02:57 | INFO | hw5.seq2seq-bt | example source: for instance , you see the spectral line of the gold is the only spectral line in the spectrum of the sun .\n",
      "2022-09-27 20:02:57 | INFO | hw5.seq2seq-bt | example hypothesis: 舉例來說 , 黃金的光譜是太陽光譜唯一的光譜線 。\n",
      "2022-09-27 20:02:57 | INFO | hw5.seq2seq-bt | example reference: 譬如說你看到金的光譜線是太陽光譜裡面唯一的一條線 。\n",
      "2022-09-27 20:02:57 | INFO | hw5.seq2seq-bt | validation loss:\t3.5783\n",
      "2022-09-27 20:02:57 | INFO | hw5.seq2seq-bt | BLEU = 21.62 54.4/29.3/16.7/10.0 (BP = 0.952 ratio = 0.953 hyp_len = 106770 ref_len = 112023)\n",
      "2022-09-27 20:02:57 | INFO | hw5.seq2seq-bt | saved epoch checkpoint: /home/leyan/Documents/Hung-yi-Lee/hw6_transformer/checkpoints/rnn-bt/checkpoint12.pt\n",
      "2022-09-27 20:02:57 | INFO | hw5.seq2seq-bt | end of epoch 12\n",
      "2022-09-27 20:07:03 | INFO | hw5.seq2seq-bt | training loss: 4.4133             \n",
      "2022-09-27 20:07:03 | INFO | hw5.seq2seq-bt | begin validation\n",
      "2022-09-27 20:07:23 | INFO | hw5.seq2seq-bt | example source: as i said , the inflection point where this has become really possible very embarrassing , my thesis was about machine learning .\n",
      "2022-09-27 20:07:23 | INFO | hw5.seq2seq-bt | example hypothesis: 正如我所說的 , 反射點在於 , 這真的很令人驚訝 , 我的焦點是機器學習 。\n",
      "2022-09-27 20:07:23 | INFO | hw5.seq2seq-bt | example reference: 如我所言 , 這件事的反轉點在於──很慚愧 , 我的論文主題是機器學習 ,\n",
      "2022-09-27 20:07:23 | INFO | hw5.seq2seq-bt | validation loss:\t3.5732\n",
      "2022-09-27 20:07:23 | INFO | hw5.seq2seq-bt | BLEU = 21.58 55.7/30.2/17.3/10.3 (BP = 0.922 ratio = 0.925 hyp_len = 103641 ref_len = 112023)\n",
      "2022-09-27 20:07:23 | INFO | hw5.seq2seq-bt | saved epoch checkpoint: /home/leyan/Documents/Hung-yi-Lee/hw6_transformer/checkpoints/rnn-bt/checkpoint13.pt\n",
      "2022-09-27 20:07:23 | INFO | hw5.seq2seq-bt | end of epoch 13\n",
      "2022-09-27 20:11:29 | INFO | hw5.seq2seq-bt | training loss: 4.4030             \n",
      "2022-09-27 20:11:29 | INFO | hw5.seq2seq-bt | begin validation\n",
      "2022-09-27 20:11:48 | INFO | hw5.seq2seq-bt | example source: and when i went to the refugee camp in pakistan , there were 7 . 5 million refugees .\n",
      "2022-09-27 20:11:48 | INFO | hw5.seq2seq-bt | example hypothesis: 當我去巴基斯坦的難民營時 , 那裡有750萬名難民 。\n",
      "2022-09-27 20:11:48 | INFO | hw5.seq2seq-bt | example reference: 我跑去在巴基斯坦的難民營 , 那裡有750萬難民 。\n",
      "2022-09-27 20:11:48 | INFO | hw5.seq2seq-bt | validation loss:\t3.5573\n",
      "2022-09-27 20:11:48 | INFO | hw5.seq2seq-bt | BLEU = 21.67 54.9/29.7/17.0/10.1 (BP = 0.942 ratio = 0.944 hyp_len = 105705 ref_len = 112023)\n",
      "2022-09-27 20:11:48 | INFO | hw5.seq2seq-bt | saved epoch checkpoint: /home/leyan/Documents/Hung-yi-Lee/hw6_transformer/checkpoints/rnn-bt/checkpoint14.pt\n",
      "2022-09-27 20:11:48 | INFO | hw5.seq2seq-bt | end of epoch 14\n",
      "2022-09-27 20:15:54 | INFO | hw5.seq2seq-bt | training loss: 4.3979             \n",
      "2022-09-27 20:15:54 | INFO | hw5.seq2seq-bt | begin validation\n",
      "2022-09-27 20:16:13 | INFO | hw5.seq2seq-bt | example source: below the skin's surface , the roots that give rise to our hair actually remain alive .\n",
      "2022-09-27 20:16:13 | INFO | hw5.seq2seq-bt | example hypothesis: 在皮膚的表面下 , 皮膚的根其實還活著 。\n",
      "2022-09-27 20:16:13 | INFO | hw5.seq2seq-bt | example reference: 在皮膚表皮下方長出頭髮的髮根事實上還持續活著\n",
      "2022-09-27 20:16:13 | INFO | hw5.seq2seq-bt | validation loss:\t3.5598\n",
      "2022-09-27 20:16:13 | INFO | hw5.seq2seq-bt | BLEU = 21.10 56.6/30.7/17.5/10.4 (BP = 0.891 ratio = 0.896 hyp_len = 100422 ref_len = 112023)\n",
      "2022-09-27 20:16:13 | INFO | hw5.seq2seq-bt | saved epoch checkpoint: /home/leyan/Documents/Hung-yi-Lee/hw6_transformer/checkpoints/rnn-bt/checkpoint15.pt\n",
      "2022-09-27 20:16:13 | INFO | hw5.seq2seq-bt | end of epoch 15\n",
      "2022-09-27 20:20:18 | INFO | hw5.seq2seq-bt | training loss: 4.3953             \n",
      "2022-09-27 20:20:18 | INFO | hw5.seq2seq-bt | begin validation\n",
      "2022-09-27 20:20:37 | INFO | hw5.seq2seq-bt | example source: but they get the information that causes them to stop , causes them to internalize that they need to make all of the various parts that will cause them to change their shape , and try to get out of this capillary and find out what's going on .\n",
      "2022-09-27 20:20:37 | INFO | hw5.seq2seq-bt | example hypothesis: 但他們得到這些資訊會阻止它們 , 導致它們內化 , 使它們能讓它們改變它們的形狀 , 試著從這張紙上取出 , 找出到底發生了什麼事 。\n",
      "2022-09-27 20:20:37 | INFO | hw5.seq2seq-bt | example reference: 這個訊息讓它們停了下來 , 它們開始進行內化反應 , 它們必須製造許多不同的物件 , 因此它們必須改變外型 , 離開微血管 , 並搞清楚到底發生什麼事 。\n",
      "2022-09-27 20:20:37 | INFO | hw5.seq2seq-bt | validation loss:\t3.5572\n",
      "2022-09-27 20:20:37 | INFO | hw5.seq2seq-bt | BLEU = 21.66 56.8/31.0/17.8/10.7 (BP = 0.900 ratio = 0.905 hyp_len = 101355 ref_len = 112023)\n",
      "2022-09-27 20:20:37 | INFO | hw5.seq2seq-bt | saved epoch checkpoint: /home/leyan/Documents/Hung-yi-Lee/hw6_transformer/checkpoints/rnn-bt/checkpoint16.pt\n",
      "2022-09-27 20:20:37 | INFO | hw5.seq2seq-bt | end of epoch 16\n",
      "2022-09-27 20:24:40 | INFO | hw5.seq2seq-bt | training loss: 4.3907             \n",
      "2022-09-27 20:24:40 | INFO | hw5.seq2seq-bt | begin validation\n",
      "2022-09-27 20:24:59 | INFO | hw5.seq2seq-bt | example source: it rose up . it sat there for five days .\n",
      "2022-09-27 20:24:59 | INFO | hw5.seq2seq-bt | example hypothesis: 它會旋轉 , 坐在那裡五天 。\n",
      "2022-09-27 20:24:59 | INFO | hw5.seq2seq-bt | example reference: 神廟建起來的五天後 ,\n",
      "2022-09-27 20:24:59 | INFO | hw5.seq2seq-bt | validation loss:\t3.5547\n",
      "2022-09-27 20:24:59 | INFO | hw5.seq2seq-bt | BLEU = 21.95 56.3/30.8/17.8/10.7 (BP = 0.916 ratio = 0.919 hyp_len = 102986 ref_len = 112023)\n",
      "2022-09-27 20:24:59 | INFO | hw5.seq2seq-bt | saved epoch checkpoint: /home/leyan/Documents/Hung-yi-Lee/hw6_transformer/checkpoints/rnn-bt/checkpoint17.pt\n",
      "2022-09-27 20:24:59 | INFO | hw5.seq2seq-bt | end of epoch 17\n",
      "2022-09-27 20:29:04 | INFO | hw5.seq2seq-bt | training loss: 4.3846             \n",
      "2022-09-27 20:29:04 | INFO | hw5.seq2seq-bt | begin validation\n",
      "2022-09-27 20:29:23 | INFO | hw5.seq2seq-bt | example source: isn't that what we all need ?\n",
      "2022-09-27 20:29:23 | INFO | hw5.seq2seq-bt | example hypothesis: 我們都需要嗎 ?\n",
      "2022-09-27 20:29:23 | INFO | hw5.seq2seq-bt | example reference: 那不是我們所有人都需要的嗎 ?\n",
      "2022-09-27 20:29:23 | INFO | hw5.seq2seq-bt | validation loss:\t3.5287\n",
      "2022-09-27 20:29:23 | INFO | hw5.seq2seq-bt | BLEU = 22.15 55.7/30.4/17.5/10.5 (BP = 0.939 ratio = 0.941 hyp_len = 105378 ref_len = 112023)\n",
      "2022-09-27 20:29:24 | INFO | hw5.seq2seq-bt | saved epoch checkpoint: /home/leyan/Documents/Hung-yi-Lee/hw6_transformer/checkpoints/rnn-bt/checkpoint18.pt\n",
      "2022-09-27 20:29:24 | INFO | hw5.seq2seq-bt | end of epoch 18\n",
      "2022-09-27 20:33:28 | INFO | hw5.seq2seq-bt | training loss: 4.3790             \n",
      "2022-09-27 20:33:28 | INFO | hw5.seq2seq-bt | begin validation\n",
      "2022-09-27 20:33:48 | INFO | hw5.seq2seq-bt | example source: if you stimulate the spinal cord of a cat , you can switch between walk , trot and gallop .\n",
      "2022-09-27 20:33:48 | INFO | hw5.seq2seq-bt | example hypothesis: 如果你刺激一隻貓的脊髓 , 你就可以在走路、底特律和畫廊之間移動 。\n",
      "2022-09-27 20:33:48 | INFO | hw5.seq2seq-bt | example reference: 如果你刺激一隻貓的脊髓 , 你能夠在其間切換模式:行走、緩跑和急步跑 。\n",
      "2022-09-27 20:33:48 | INFO | hw5.seq2seq-bt | validation loss:\t3.5257\n",
      "2022-09-27 20:33:48 | INFO | hw5.seq2seq-bt | BLEU = 22.12 56.2/30.8/17.7/10.7 (BP = 0.925 ratio = 0.928 hyp_len = 103965 ref_len = 112023)\n",
      "2022-09-27 20:33:48 | INFO | hw5.seq2seq-bt | saved epoch checkpoint: /home/leyan/Documents/Hung-yi-Lee/hw6_transformer/checkpoints/rnn-bt/checkpoint19.pt\n",
      "2022-09-27 20:33:48 | INFO | hw5.seq2seq-bt | end of epoch 19\n",
      "2022-09-27 20:37:53 | INFO | hw5.seq2seq-bt | training loss: 4.3744             \n",
      "2022-09-27 20:37:53 | INFO | hw5.seq2seq-bt | begin validation\n",
      "2022-09-27 20:38:11 | INFO | hw5.seq2seq-bt | example source: experimental measurements show kolmogorov was remarkably close to the way turbulent flow works , although a complete description of turbulence remains one of the unsolved problems in physics .\n",
      "2022-09-27 20:38:11 | INFO | hw5.seq2seq-bt | example hypothesis: 實驗性測量顯示科羅拉多多多多夫與土耳其流行很相似雖然它完全描述了土耳其的土耳其仍是物理學中未解決的問題之一\n",
      "2022-09-27 20:38:11 | INFO | hw5.seq2seq-bt | example reference: 實驗數據證實柯爾莫哥洛夫的模型非常接近紊流的流動方式雖然紊流完整的解釋仍是物理學中一項待解的難題\n",
      "2022-09-27 20:38:11 | INFO | hw5.seq2seq-bt | validation loss:\t3.5323\n",
      "2022-09-27 20:38:11 | INFO | hw5.seq2seq-bt | BLEU = 21.82 57.0/31.2/18.0/10.7 (BP = 0.901 ratio = 0.906 hyp_len = 101451 ref_len = 112023)\n",
      "2022-09-27 20:38:11 | INFO | hw5.seq2seq-bt | saved epoch checkpoint: /home/leyan/Documents/Hung-yi-Lee/hw6_transformer/checkpoints/rnn-bt/checkpoint20.pt\n",
      "2022-09-27 20:38:11 | INFO | hw5.seq2seq-bt | end of epoch 20\n",
      "2022-09-27 20:42:15 | INFO | hw5.seq2seq-bt | training loss: 4.3709             \n",
      "2022-09-27 20:42:15 | INFO | hw5.seq2seq-bt | begin validation\n",
      "2022-09-27 20:42:34 | INFO | hw5.seq2seq-bt | example source: i talked before about the use of devices to dramatically change the way we treat disease .\n",
      "2022-09-27 20:42:34 | INFO | hw5.seq2seq-bt | example hypothesis: 我之前談過裝置的使用 , 來徹底改變我們治療疾病的方式 。\n",
      "2022-09-27 20:42:34 | INFO | hw5.seq2seq-bt | example reference: 我也提到過用精密儀器顛覆治療疾病的方式\n",
      "2022-09-27 20:42:34 | INFO | hw5.seq2seq-bt | validation loss:\t3.5168\n",
      "2022-09-27 20:42:34 | INFO | hw5.seq2seq-bt | BLEU = 22.61 55.2/30.2/17.4/10.4 (BP = 0.964 ratio = 0.964 hyp_len = 108029 ref_len = 112023)\n",
      "2022-09-27 20:42:35 | INFO | hw5.seq2seq-bt | saved epoch checkpoint: /home/leyan/Documents/Hung-yi-Lee/hw6_transformer/checkpoints/rnn-bt/checkpoint21.pt\n",
      "2022-09-27 20:42:35 | INFO | hw5.seq2seq-bt | end of epoch 21\n",
      "2022-09-27 20:46:40 | INFO | hw5.seq2seq-bt | training loss: 4.3677             \n",
      "2022-09-27 20:46:40 | INFO | hw5.seq2seq-bt | begin validation\n",
      "2022-09-27 20:47:00 | INFO | hw5.seq2seq-bt | example source: and there's bomb threats .\n",
      "2022-09-27 20:47:00 | INFO | hw5.seq2seq-bt | example hypothesis: 還有炸彈威脅 。\n",
      "2022-09-27 20:47:00 | INFO | hw5.seq2seq-bt | example reference: 還有炸彈威脅 。\n",
      "2022-09-27 20:47:00 | INFO | hw5.seq2seq-bt | validation loss:\t3.5150\n",
      "2022-09-27 20:47:00 | INFO | hw5.seq2seq-bt | BLEU = 22.05 57.0/31.4/18.1/10.9 (BP = 0.906 ratio = 0.910 hyp_len = 101927 ref_len = 112023)\n",
      "2022-09-27 20:47:00 | INFO | hw5.seq2seq-bt | saved epoch checkpoint: /home/leyan/Documents/Hung-yi-Lee/hw6_transformer/checkpoints/rnn-bt/checkpoint22.pt\n",
      "2022-09-27 20:47:00 | INFO | hw5.seq2seq-bt | end of epoch 22\n",
      "2022-09-27 20:51:06 | INFO | hw5.seq2seq-bt | training loss: 4.3634             \n",
      "2022-09-27 20:51:06 | INFO | hw5.seq2seq-bt | begin validation\n",
      "2022-09-27 20:51:26 | INFO | hw5.seq2seq-bt | example source: em: there actually are far more charging stations than people realize , and at tesla we developed something called a supercharging technology , and we're offering that if you buy a model s for free , forever .\n",
      "2022-09-27 20:51:26 | INFO | hw5.seq2seq-bt | example hypothesis: 馬:事實上 , 比人們意識到的還要多 , 在德拉 , 我們開發了一種叫做超級科技的東西 , 我們提供了 , 如果你能自由地購買一個模型 。\n",
      "2022-09-27 20:51:26 | INFO | hw5.seq2seq-bt | example reference: e..事實上充電站比人們意識到的還要多得多 , e..事實上充電站比人們意識到的還要多得多 , 我們也為tesla設計了一項名為 「 超級充電科技 」 。 我們也為tesla設計了一項名為 「 超級充電科技 」 。 如果你買了一臺models , 我們將終身免費提供給你 。 如果你買了一臺models , 我們將終身免費提供給你 。\n",
      "2022-09-27 20:51:26 | INFO | hw5.seq2seq-bt | validation loss:\t3.5078\n",
      "2022-09-27 20:51:26 | INFO | hw5.seq2seq-bt | BLEU = 22.29 55.1/30.1/17.3/10.3 (BP = 0.956 ratio = 0.957 hyp_len = 107182 ref_len = 112023)\n",
      "2022-09-27 20:51:26 | INFO | hw5.seq2seq-bt | saved epoch checkpoint: /home/leyan/Documents/Hung-yi-Lee/hw6_transformer/checkpoints/rnn-bt/checkpoint23.pt\n",
      "2022-09-27 20:51:26 | INFO | hw5.seq2seq-bt | end of epoch 23\n",
      "2022-09-27 20:55:31 | INFO | hw5.seq2seq-bt | training loss: 4.3590             \n",
      "2022-09-27 20:55:31 | INFO | hw5.seq2seq-bt | begin validation\n",
      "2022-09-27 20:55:51 | INFO | hw5.seq2seq-bt | example source: i wasn't worried about the material i would teach because i was wellprepared , and i was going to teach what i enjoy teaching .\n",
      "2022-09-27 20:55:51 | INFO | hw5.seq2seq-bt | example hypothesis: 我不擔心我會教的材料因為我很幸運 , 我會教我喜歡的教材 。\n",
      "2022-09-27 20:55:51 | INFO | hw5.seq2seq-bt | example reference: 但不是擔心教材的問題 , 因為我的教材準備得很充分 , 而且我非常喜歡教書的工作 。\n",
      "2022-09-27 20:55:51 | INFO | hw5.seq2seq-bt | validation loss:\t3.5101\n",
      "2022-09-27 20:55:51 | INFO | hw5.seq2seq-bt | BLEU = 22.19 56.9/31.2/18.0/10.9 (BP = 0.914 ratio = 0.918 hyp_len = 102787 ref_len = 112023)\n",
      "2022-09-27 20:55:51 | INFO | hw5.seq2seq-bt | saved epoch checkpoint: /home/leyan/Documents/Hung-yi-Lee/hw6_transformer/checkpoints/rnn-bt/checkpoint24.pt\n",
      "2022-09-27 20:55:51 | INFO | hw5.seq2seq-bt | end of epoch 24\n",
      "2022-09-27 20:59:56 | INFO | hw5.seq2seq-bt | training loss: 4.3562             \n",
      "2022-09-27 20:59:56 | INFO | hw5.seq2seq-bt | begin validation\n",
      "2022-09-27 21:00:15 | INFO | hw5.seq2seq-bt | example source: when we think of mud , we think of dirt it's ugly , it's nondurable and this is the image i want to change .\n",
      "2022-09-27 21:00:15 | INFO | hw5.seq2seq-bt | example hypothesis: 當我們想到泥巴時 , 我們會想到醜陋 , 這是我想要改變的圖片 。\n",
      "2022-09-27 21:00:15 | INFO | hw5.seq2seq-bt | example reference: 當我們想到泥巴時 , 我們會想到汙物──它很醜陋 , 它不耐久──我想要改變我們對泥巴的印象 。\n",
      "2022-09-27 21:00:15 | INFO | hw5.seq2seq-bt | validation loss:\t3.5099\n",
      "2022-09-27 21:00:15 | INFO | hw5.seq2seq-bt | BLEU = 22.19 57.9/32.0/18.5/11.2 (BP = 0.891 ratio = 0.897 hyp_len = 100472 ref_len = 112023)\n",
      "2022-09-27 21:00:15 | INFO | hw5.seq2seq-bt | saved epoch checkpoint: /home/leyan/Documents/Hung-yi-Lee/hw6_transformer/checkpoints/rnn-bt/checkpoint25.pt\n",
      "2022-09-27 21:00:15 | INFO | hw5.seq2seq-bt | end of epoch 25\n",
      "2022-09-27 21:04:20 | INFO | hw5.seq2seq-bt | training loss: 4.3529             \n",
      "2022-09-27 21:04:20 | INFO | hw5.seq2seq-bt | begin validation\n",
      "2022-09-27 21:04:40 | INFO | hw5.seq2seq-bt | example source: i have xy chromosomes .\n",
      "2022-09-27 21:04:40 | INFO | hw5.seq2seq-bt | example hypothesis: 我有xy染色體 。\n",
      "2022-09-27 21:04:40 | INFO | hw5.seq2seq-bt | example reference: 我有xy染色體 。\n",
      "2022-09-27 21:04:40 | INFO | hw5.seq2seq-bt | validation loss:\t3.5015\n",
      "2022-09-27 21:04:40 | INFO | hw5.seq2seq-bt | BLEU = 22.75 57.0/31.6/18.4/11.2 (BP = 0.923 ratio = 0.925 hyp_len = 103671 ref_len = 112023)\n",
      "2022-09-27 21:04:40 | INFO | hw5.seq2seq-bt | saved epoch checkpoint: /home/leyan/Documents/Hung-yi-Lee/hw6_transformer/checkpoints/rnn-bt/checkpoint26.pt\n",
      "2022-09-27 21:04:40 | INFO | hw5.seq2seq-bt | end of epoch 26\n",
      "2022-09-27 21:08:45 | INFO | hw5.seq2seq-bt | training loss: 4.3517             \n",
      "2022-09-27 21:08:45 | INFO | hw5.seq2seq-bt | begin validation\n",
      "2022-09-27 21:09:05 | INFO | hw5.seq2seq-bt | example source: but i also learned very soon thereafter that jesus also said , and i'm paraphrasing , the poor would always be with us .\n",
      "2022-09-27 21:09:05 | INFO | hw5.seq2seq-bt | example hypothesis: 但我也很快就學到了 , 耶穌也說 , 我很矛盾 , 窮人總是跟我們一起 。\n",
      "2022-09-27 21:09:05 | INFO | hw5.seq2seq-bt | example reference: 但我不久後就得知耶穌又說了 , 我重述貧窮會永遠伴隨我們\n",
      "2022-09-27 21:09:05 | INFO | hw5.seq2seq-bt | validation loss:\t3.4906\n",
      "2022-09-27 21:09:05 | INFO | hw5.seq2seq-bt | BLEU = 22.54 56.1/30.9/17.9/10.8 (BP = 0.936 ratio = 0.938 hyp_len = 105120 ref_len = 112023)\n",
      "2022-09-27 21:09:05 | INFO | hw5.seq2seq-bt | saved epoch checkpoint: /home/leyan/Documents/Hung-yi-Lee/hw6_transformer/checkpoints/rnn-bt/checkpoint27.pt\n",
      "2022-09-27 21:09:05 | INFO | hw5.seq2seq-bt | end of epoch 27\n",
      "2022-09-27 21:13:11 | INFO | hw5.seq2seq-bt | training loss: 4.3501             \n",
      "2022-09-27 21:13:11 | INFO | hw5.seq2seq-bt | begin validation\n",
      "2022-09-27 21:13:31 | INFO | hw5.seq2seq-bt | example source: they will mostly survive long enough to receive improved treatments that will give them a further 30 or maybe 50 years .\n",
      "2022-09-27 21:13:31 | INFO | hw5.seq2seq-bt | example hypothesis: 他們大部分都能存活得夠久 , 才能接受改善治療 , 能讓他們更進一步的30或50年 。\n",
      "2022-09-27 21:13:31 | INFO | hw5.seq2seq-bt | example reference: 他們大多會活得足夠久以接受更進步的治療而可額外延續30或也許50年的壽命 。\n",
      "2022-09-27 21:13:31 | INFO | hw5.seq2seq-bt | validation loss:\t3.4909\n",
      "2022-09-27 21:13:31 | INFO | hw5.seq2seq-bt | BLEU = 22.70 56.2/30.9/17.9/10.9 (BP = 0.942 ratio = 0.943 hyp_len = 105658 ref_len = 112023)\n",
      "2022-09-27 21:13:31 | INFO | hw5.seq2seq-bt | saved epoch checkpoint: /home/leyan/Documents/Hung-yi-Lee/hw6_transformer/checkpoints/rnn-bt/checkpoint28.pt\n",
      "2022-09-27 21:13:31 | INFO | hw5.seq2seq-bt | end of epoch 28\n",
      "2022-09-27 21:17:35 | INFO | hw5.seq2seq-bt | training loss: 4.3430             \n",
      "2022-09-27 21:17:35 | INFO | hw5.seq2seq-bt | begin validation\n",
      "2022-09-27 21:17:55 | INFO | hw5.seq2seq-bt | example source: something that five years ago would have seemed impossible we can now do efficiently and free of corruption .\n",
      "2022-09-27 21:17:55 | INFO | hw5.seq2seq-bt | example hypothesis: 五年前 , 我們現在不可能有效率且免費的腐敗 。\n",
      "2022-09-27 21:17:55 | INFO | hw5.seq2seq-bt | example reference: 五年前 , 這件事看似天方夜譚 , 現在 , 我們可以有效率地執行 , 而且免受貪汙之苦 。\n",
      "2022-09-27 21:17:55 | INFO | hw5.seq2seq-bt | validation loss:\t3.5019\n",
      "2022-09-27 21:17:55 | INFO | hw5.seq2seq-bt | BLEU = 22.45 57.6/31.9/18.5/11.2 (BP = 0.903 ratio = 0.908 hyp_len = 101695 ref_len = 112023)\n",
      "2022-09-27 21:17:55 | INFO | hw5.seq2seq-bt | saved epoch checkpoint: /home/leyan/Documents/Hung-yi-Lee/hw6_transformer/checkpoints/rnn-bt/checkpoint29.pt\n",
      "2022-09-27 21:17:55 | INFO | hw5.seq2seq-bt | end of epoch 29\n",
      "2022-09-27 21:22:00 | INFO | hw5.seq2seq-bt | training loss: 4.3455             \n",
      "2022-09-27 21:22:00 | INFO | hw5.seq2seq-bt | begin validation\n",
      "2022-09-27 21:22:20 | INFO | hw5.seq2seq-bt | example source: because it was only by not being able to prove that she was wrong , that george could give alice the confidence she needed to know that she was right .\n",
      "2022-09-27 21:22:20 | INFO | hw5.seq2seq-bt | example hypothesis: 因為只能證明她是錯的 , 喬治可以給予她信心 , 知道她是對的 。\n",
      "2022-09-27 21:22:20 | INFO | hw5.seq2seq-bt | example reference: 因為只有當他無法證明alice是錯的時候 , george就可以給alice所需要的自信讓她知道她是正確的 。\n",
      "2022-09-27 21:22:20 | INFO | hw5.seq2seq-bt | validation loss:\t3.4924\n",
      "2022-09-27 21:22:20 | INFO | hw5.seq2seq-bt | BLEU = 22.70 57.1/31.6/18.4/11.1 (BP = 0.921 ratio = 0.924 hyp_len = 103490 ref_len = 112023)\n",
      "2022-09-27 21:22:20 | INFO | hw5.seq2seq-bt | saved epoch checkpoint: /home/leyan/Documents/Hung-yi-Lee/hw6_transformer/checkpoints/rnn-bt/checkpoint30.pt\n",
      "2022-09-27 21:22:20 | INFO | hw5.seq2seq-bt | end of epoch 30\n"
     ]
    }
   ],
   "source": [
    "!python back_translation_main.py"
   ]
  },
  {
   "cell_type": "markdown",
   "id": "2988e54b-736f-4b10-a192-c2b979a9f8bc",
   "metadata": {},
   "source": [
    "# References"
   ]
  },
  {
   "cell_type": "markdown",
   "id": "d234840b-d153-49d5-9895-b5f4e64501fd",
   "metadata": {},
   "source": [
    "1. <a name=ott2019fairseq></a>Ott, M., Edunov, S., Baevski, A., Fan, A., Gross, S., Ng, N., ... & Auli, M. (2019, June). fairseq: A Fast, Extensible Toolkit for Sequence Modeling. In Proceedings of the 2019 Conference of the North American Chapter of the Association for Computational Linguistics (Demonstrations) (pp. 48-53).\n",
    "2. <a name=vaswani2017></a>Vaswani, A., Shazeer, N., Parmar, N., Uszkoreit, J., Jones, L., Gomez, A. N., ... & Polosukhin, I. (2017, December). Attention is all you need. In Proceedings of the 31st International Conference on Neural Information Processing Systems (pp. 6000-6010).\n",
    "3. <a name=reimers-2020-multilingual-sentence-bert></a>Reimers, N., & Gurevych, I. (2020, November). Making Monolingual Sentence Embeddings Multilingual Using Knowledge Distillation. In Proceedings of the 2020 Conference on Empirical Methods in Natural Language Processing (EMNLP) (pp. 4512-4525).\n",
    "4. <a name=tiedemann2012parallel></a>Tiedemann, J. (2012, May). Parallel Data, Tools and Interfaces in OPUS. In Lrec (Vol. 2012, pp. 2214-2218).\n",
    "5. <a name=kudo-richardson-2018-sentencepiece></a>Kudo, T., & Richardson, J. (2018, November). SentencePiece: A simple and language independent subword tokenizer and detokenizer for Neural Text Processing. In Proceedings of the 2018 Conference on Empirical Methods in Natural Language Processing: System Demonstrations (pp. 66-71).\n",
    "6. <a name=sennrich-etal-2016-improving></a>Sennrich, R., Haddow, B., & Birch, A. (2016, August). Improving Neural Machine Translation Models with Monolingual Data. In Proceedings of the 54th Annual Meeting of the Association for Computational Linguistics (Volume 1: Long Papers) (pp. 86-96).\n",
    "7. <a name=edunov-etal-2018-understanding></a>Edunov, S., Ott, M., Auli, M., & Grangier, D. (2018). Understanding Back-Translation at Scale. In Proceedings of the 2018 Conference on Empirical Methods in Natural Language Processing (pp. 489-500).\n",
    "8. https://github.com/ajinkyakulkarni14/TED-Multilingual-Parallel-Corpus\n",
    "9. https://ithelp.ithome.com.tw/articles/10233122\n",
    "10. https://nlp.seas.harvard.edu/2018/04/03/attention.html"
   ]
  }
 ],
 "metadata": {
  "kernelspec": {
   "display_name": "torch_1_21",
   "language": "python",
   "name": "myenv"
  },
  "language_info": {
   "codemirror_mode": {
    "name": "ipython",
    "version": 3
   },
   "file_extension": ".py",
   "mimetype": "text/x-python",
   "name": "python",
   "nbconvert_exporter": "python",
   "pygments_lexer": "ipython3",
   "version": "3.8.13"
  }
 },
 "nbformat": 4,
 "nbformat_minor": 5
}
