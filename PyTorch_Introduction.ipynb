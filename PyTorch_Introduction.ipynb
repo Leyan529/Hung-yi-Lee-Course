{
 "cells": [
  {
   "cell_type": "markdown",
   "id": "3c4d639e-fee7-4ea7-a7d0-16a46bb10523",
   "metadata": {
    "tags": []
   },
   "source": [
    "# PyTorch Introduction\n",
    "\n",
    "### TA: Chi-Liang Liu\n",
    "##### This Tutorial is modified from [University of Washington CSE446](https://courses.cs.washington.edu/courses/cse446/19au/section9.html) and [PyTorch Official Tutorials](https://pytorch.org/tutorials/)"
   ]
  },
  {
   "cell_type": "markdown",
   "id": "fc4b25e2-a1b0-40f2-8096-98d32d9dce7d",
   "metadata": {},
   "source": [
    "Today, we will be intoducing PyTorch, \"an open source deep learning platform that provides a seamless path from research prototyping to production deployment\".\n",
    "\n",
    "This notebook is by no means comprehensive. If you have any questions the **documentation** and **Google** are your friends.\n",
    "\n",
    "Goal takeaways:\n",
    "- Automatic differentiation is a powerful tool\n",
    "- PyTorch implements common functions used in deep learning\n",
    "- Data Processing with PyTorch DataSet\n",
    "- Mixed Presision Training in PyTorch"
   ]
  },
  {
   "cell_type": "code",
   "execution_count": 1,
   "id": "0d175e13-4111-4c99-bf52-5f53e221c720",
   "metadata": {},
   "outputs": [],
   "source": [
    "import torch\n",
    "import torch.nn as nn\n",
    "import torch.nn.functional as F\n",
    "\n",
    "from mpl_toolkits.mplot3d import Axes3D # Matplotlib裡面專門用來畫三維圖的工具包\n",
    "import matplotlib.pyplot as plt\n",
    "\n",
    "import numpy as np\n",
    "\n",
    "torch.manual_seed(446)\n",
    "np.random.seed(446)"
   ]
  },
  {
   "cell_type": "markdown",
   "id": "b5967321-e193-4a58-939d-6067ba673192",
   "metadata": {
    "tags": []
   },
   "source": [
    "## Tensors and relation to numpy\n",
    "\n",
    "By this point, we have worked with numpy quite a bit. PyTorch's basic building block, the `tensor` is similar to numpy's `ndarray`"
   ]
  },
  {
   "cell_type": "code",
   "execution_count": 2,
   "id": "da4707e3-ece0-441b-ad2c-340396ee2b44",
   "metadata": {},
   "outputs": [
    {
     "name": "stdout",
     "output_type": "stream",
     "text": [
      "x_numpy:  [0.1 0.2 0.3]\n",
      "x_torch:  tensor([0.1000, 0.2000, 0.3000])\n",
      "\n",
      "to and from numpy and pytorch\n",
      "tensor([0.1000, 0.2000, 0.3000], dtype=torch.float64) [0.1 0.2 0.3]\n",
      "\n",
      "x+y\n",
      "[3.1 4.2 5.3] tensor([3.1000, 4.2000, 5.3000])\n",
      "\n",
      "norm\n",
      "0.37416573867739417 tensor(0.3742)\n",
      "\n",
      "mean along the 0th dimension\n",
      "[2. 3.] tensor([2., 3.])\n"
     ]
    }
   ],
   "source": [
    "# we create tensors in a similar way to numpy nd arrays\n",
    "x_numpy = np.array([0.1, 0.2, 0.3])\n",
    "x_torch = torch.tensor([0.1, 0.2, 0.3])\n",
    "print('x_numpy: ', x_numpy)\n",
    "print('x_torch: ', x_torch)\n",
    "print()\n",
    "\n",
    "# to and from numpy, pytorch\n",
    "print('to and from numpy and pytorch')\n",
    "print(torch.from_numpy(x_numpy), x_torch.numpy())\n",
    "print()\n",
    "\n",
    "# we can do basic operations like +-*/\n",
    "y_numpy = np.array([3,4,5.])\n",
    "y_torch = torch.tensor([3,4,5.])\n",
    "print(\"x+y\")\n",
    "print(x_numpy + y_numpy, x_torch + y_torch)\n",
    "print()\n",
    "\n",
    "# many functions that are in numpy are also in pytorch\n",
    "print(\"norm\")\n",
    "print(np.linalg.norm(x_numpy), torch.norm(x_torch))\n",
    "print()\n",
    "\n",
    "# to apply an operation along a dimension,\n",
    "# we use the dim keyword argument instead of axis\n",
    "print(\"mean along the 0th dimension\")\n",
    "x_numpy = np.array([[1,2],[3,4.]])\n",
    "x_torch = torch.tensor([[1,2],[3,4.]])\n",
    "print(np.mean(x_numpy, axis=0), torch.mean(x_torch, dim=0))\n"
   ]
  },
  {
   "cell_type": "markdown",
   "id": "7a0771e6-f2ac-4a7f-a433-164df6bd8b32",
   "metadata": {},
   "source": [
    "### `Tensor.view`\n",
    "We can use the `Tensor.view()` function to reshape tensors similarly to `numpy.reshape()`\n",
    "\n",
    "It can also automatically calculate the correct dimension if a `-1` is passed in. This is useful if we are working with batches, but the batch size is unknown."
   ]
  },
  {
   "cell_type": "code",
   "execution_count": 3,
   "id": "12beec17-03e9-4c68-9622-836f13542c13",
   "metadata": {},
   "outputs": [
    {
     "name": "stdout",
     "output_type": "stream",
     "text": [
      "torch.Size([10000, 3, 28, 28])\n",
      "torch.Size([10000, 3, 784])\n",
      "torch.Size([10000, 3, 784])\n",
      "numpy: (10000, 3, 28, 28)\n",
      "numpy: (10000, 3, 784)\n",
      "numpy: (10000, 3, 784)\n"
     ]
    }
   ],
   "source": [
    "# \"MNIST\"\n",
    "N, C, W, H = 10000, 3, 28, 28\n",
    "X = torch.randn((N, C, W, H))\n",
    "\n",
    "print(X.shape)\n",
    "print(X.view(N, C, 784).shape)\n",
    "print(X.view(-1, C, 784).shape) # automatically choose the 0th dimension\n",
    "\n",
    "# numpy reshape\n",
    "X_np = np.random.rand(N, C, W, H)\n",
    "print(\"numpy:\", X_np.shape)\n",
    "print(\"numpy:\", X_np.reshape(N, C, 784).shape)\n",
    "print(\"numpy:\", X_np.reshape(-1, C, 784).shape)"
   ]
  },
  {
   "cell_type": "markdown",
   "id": "50992fc7-8277-4a34-91ba-1d77ed9c543f",
   "metadata": {},
   "source": [
    "### `BROADCASTING SEMANTICS`\n",
    "Two tensors are “broadcastable” if the following rules hold:\n",
    "\n",
    "Each tensor has at least one dimension.\n",
    "\n",
    "When iterating over the dimension sizes, starting at the trailing dimension, the dimension sizes must either be equal, one of them is 1, or one of them does not exist."
   ]
  },
  {
   "cell_type": "code",
   "execution_count": 4,
   "id": "e3ad902d-a83a-41a4-8918-ae965d06b094",
   "metadata": {},
   "outputs": [
    {
     "name": "stdout",
     "output_type": "stream",
     "text": [
      "torch.Size([5, 3, 4, 1])\n",
      "torch.Size([5, 3, 4, 1])\n",
      "(5, 3, 4, 1)\n"
     ]
    }
   ],
   "source": [
    "# PyTorch operations support NumPy Broadcasting Semantics.\n",
    "x=torch.empty(5,1,4,1)\n",
    "y=torch.empty(  3,1,1)\n",
    "print((x+y).size())\n",
    "print((x+y).shape)\n",
    "\n",
    "# numpy\n",
    "x=np.random.rand(5,1,4,1)\n",
    "y=np.random.rand(  3,1,1)\n",
    "print(np.add(x, y).shape)"
   ]
  },
  {
   "cell_type": "markdown",
   "id": "903b3ad1-4ee6-4fe7-93e1-30d3c129b5c2",
   "metadata": {
    "tags": []
   },
   "source": [
    "## Computation graphs\n",
    "\n",
    "What's special about PyTorch's `tensor` object is that it implicitly creates a computation graph in the background. A computation graph is a a way of writing a mathematical expression as a graph. There is an algorithm to compute the gradients of all the variables of a computation graph in time on the same order it is to compute the function itself.\n",
    "\n",
    "Consider the expression $e=(a+b)*(b+1)$ with values $a=2, b=1$. We can draw the evaluated computation graph as\n",
    "<br>\n",
    "<br>\n",
    "\n",
    "In PyTorch, we can write this as"
   ]
  },
  {
   "cell_type": "markdown",
   "id": "0a0dfd84-c0e9-4c17-93f3-74b80dfb9bfb",
   "metadata": {},
   "source": [
    "![tree-img](https://colah.github.io/posts/2015-08-Backprop/img/tree-eval.png)\n",
    "\n",
    "[source](https://colah.github.io/posts/2015-08-Backprop/)"
   ]
  },
  {
   "cell_type": "code",
   "execution_count": 5,
   "id": "c28a6689-ccf2-47cc-b95f-25ef6d34d434",
   "metadata": {},
   "outputs": [
    {
     "name": "stdout",
     "output_type": "stream",
     "text": [
      "c tensor(3., grad_fn=<AddBackward0>)\n",
      "d tensor(2., grad_fn=<AddBackward0>)\n",
      "e tensor(6., grad_fn=<MulBackward0>)\n"
     ]
    }
   ],
   "source": [
    "a = torch.tensor(2.0, requires_grad=True) # we set requires_grad=True to let PyTorch know to keep the graph\n",
    "b = torch.tensor(1.0, requires_grad=True)\n",
    "c = a + b\n",
    "d = b + 1\n",
    "e = c * d\n",
    "print('c', c)\n",
    "print('d', d)\n",
    "print('e', e)"
   ]
  },
  {
   "cell_type": "markdown",
   "id": "3b6bd1ad-76cc-4534-9747-3f0cd09ca2e1",
   "metadata": {},
   "source": [
    "\\We can see that PyTorch kept track of the computation graph for us."
   ]
  },
  {
   "cell_type": "markdown",
   "id": "dc566db8-7030-4f18-a464-79c2a3337cc1",
   "metadata": {},
   "source": [
    "## CUDA SEMANTICS\n",
    "It's easy cupy tensor from cpu to gpu or from gpu to cpu."
   ]
  },
  {
   "cell_type": "code",
   "execution_count": 6,
   "id": "4a2f6155-5462-41c8-85bc-ae9ecf4fd148",
   "metadata": {},
   "outputs": [
    {
     "name": "stdout",
     "output_type": "stream",
     "text": [
      "tensor([0.3959, 0.6177, 0.7256, 0.0971, 0.9186, 0.8277, 0.4409, 0.9344, 0.8967,\n",
      "        0.1897])\n",
      "tensor([0.3959, 0.6177, 0.7256, 0.0971, 0.9186, 0.8277, 0.4409, 0.9344, 0.8967,\n",
      "        0.1897], device='cuda:0')\n",
      "tensor([0.3959, 0.6177, 0.7256, 0.0971, 0.9186, 0.8277, 0.4409, 0.9344, 0.8967,\n",
      "        0.1897])\n"
     ]
    }
   ],
   "source": [
    "cpu = torch.device(\"cpu\")\n",
    "gpu = torch.device(\"cuda\")\n",
    "\n",
    "x = torch.rand(10)\n",
    "print(x)\n",
    "x = x.to(gpu)\n",
    "print(x)\n",
    "x = x.to(cpu)\n",
    "print(x)"
   ]
  },
  {
   "cell_type": "markdown",
   "id": "0e0ec68e-c52a-4965-8128-ea6fa7556325",
   "metadata": {},
   "source": [
    "## PyTorch as an auto grad framework\n",
    "\n",
    "Now that we have seen that PyTorch keeps the graph around for us, let's use it to compute some gradients for us.\n",
    "\n",
    "Consider the function $f(x) = (x-2)^2$.\n",
    "\n",
    "Q: Compute $\\frac{d}{dx} f(x)$ and then compute $f'(1)$.\n",
    "\n",
    "We make a `backward()` call on the leaf variable (`y`) in the computation, computing all the gradients of `y` at once."
   ]
  },
  {
   "cell_type": "code",
   "execution_count": 7,
   "id": "0ae7b146-84e3-45ab-b058-7551c5799545",
   "metadata": {},
   "outputs": [
    {
     "name": "stdout",
     "output_type": "stream",
     "text": [
      "Analytical f'(x): tensor([-2.], grad_fn=<MulBackward0>)\n",
      "PyTorch's f'(x): tensor([-2.])\n"
     ]
    }
   ],
   "source": [
    "def f(x):\n",
    "    return (x-2)**2\n",
    "\n",
    "def fp(x):\n",
    "    return 2*(x-2)\n",
    "\n",
    "x = torch.tensor([1.0], requires_grad=True)\n",
    "\n",
    "y = f(x)\n",
    "y.backward()  # call backward() get tensor.grad\n",
    "\n",
    "print('Analytical f\\'(x):', fp(x))\n",
    "print('PyTorch\\'s f\\'(x):', x.grad)\n"
   ]
  },
  {
   "cell_type": "markdown",
   "id": "adcf230a-a9f5-4381-a54e-8ad7c3ea0054",
   "metadata": {},
   "source": [
    "It can also find gradients of functions.\n",
    "\n",
    "Let $w = [w_1, w_2]^T$\n",
    "\n",
    "Consider $g(w) = 2w_1w_2 + w_2\\cos(w_1)$\n",
    "\n",
    "Q: Compute $\\nabla_w g(w)$ and verify $\\nabla_w g([\\pi,1]) = [2, \\pi - 1]^T$"
   ]
  },
  {
   "cell_type": "code",
   "execution_count": 8,
   "id": "08e0fdc0-76e8-4e67-8953-521a9bc3051a",
   "metadata": {},
   "outputs": [
    {
     "name": "stdout",
     "output_type": "stream",
     "text": [
      "Analytical grad g(w) tensor([2.0000, 5.2832])\n",
      "PyTorch's grad g(w) tensor([2.0000, 5.2832])\n"
     ]
    }
   ],
   "source": [
    "def g(w):\n",
    "    return 2*w[0]*w[1] + w[1]*torch.cos(w[0])\n",
    "\n",
    "def grad_g(w):\n",
    "    return torch.tensor([2*w[1] - w[1]*torch.sin(w[0]), 2*w[0] + torch.cos(w[0])])\n",
    "\n",
    "w = torch.tensor([np.pi, 1], requires_grad=True)\n",
    "\n",
    "z = g(w)\n",
    "z.backward()\n",
    "\n",
    "print('Analytical grad g(w)', grad_g(w))\n",
    "print('PyTorch\\'s grad g(w)', w.grad)\n"
   ]
  },
  {
   "cell_type": "markdown",
   "id": "18537cd6-c7c2-4594-9aae-91e61b51efd1",
   "metadata": {},
   "source": [
    "## Using the gradients\n",
    "Now that we have gradients, we can use our favorite optimization algorithm: gradient descent!\n",
    "\n",
    "Let $f$ the same function we defined above.\n",
    "\n",
    "Q: What is the value of $x$ that minimizes $f$?"
   ]
  },
  {
   "cell_type": "code",
   "execution_count": 9,
   "id": "4707e334-a745-4f71-9a9f-f4253efd8353",
   "metadata": {},
   "outputs": [
    {
     "name": "stdout",
     "output_type": "stream",
     "text": [
      "iter,\tx,\tf(x),\tf'(x),\tf'(x) pytorch\n",
      "0,\t5.000,\t9.000,\t6.000,\t6.000\n",
      "1,\t3.500,\t2.250,\t3.000,\t3.000\n",
      "2,\t2.750,\t0.562,\t1.500,\t1.500\n",
      "3,\t2.375,\t0.141,\t0.750,\t0.750\n",
      "4,\t2.188,\t0.035,\t0.375,\t0.375\n",
      "5,\t2.094,\t0.009,\t0.188,\t0.188\n",
      "6,\t2.047,\t0.002,\t0.094,\t0.094\n",
      "7,\t2.023,\t0.001,\t0.047,\t0.047\n",
      "8,\t2.012,\t0.000,\t0.023,\t0.023\n",
      "9,\t2.006,\t0.000,\t0.012,\t0.012\n",
      "10,\t2.003,\t0.000,\t0.006,\t0.006\n",
      "11,\t2.001,\t0.000,\t0.003,\t0.003\n",
      "12,\t2.001,\t0.000,\t0.001,\t0.001\n",
      "13,\t2.000,\t0.000,\t0.001,\t0.001\n",
      "14,\t2.000,\t0.000,\t0.000,\t0.000\n"
     ]
    }
   ],
   "source": [
    "x = torch.tensor([5.0], requires_grad=True)\n",
    "step_size = 0.25\n",
    "\n",
    "print('iter,\\tx,\\tf(x),\\tf\\'(x),\\tf\\'(x) pytorch')\n",
    "for i in range(15):\n",
    "    y = f(x)\n",
    "    y.backward() # compute the gradient\n",
    "    \n",
    "    print('{},\\t{:.3f},\\t{:.3f},\\t{:.3f},\\t{:.3f}'.format(i, x.item(), f(x).item(), fp(x).item(), x.grad.item()))\n",
    "    \n",
    "    x.data = x.data - step_size * x.grad # perform a GD update step\n",
    "    \n",
    "    # We need to zero the grad variable since the backward()\n",
    "    # call accumulates the gradients in .grad instead of overwriting.\n",
    "    # The detach_() is for efficiency. You do not need to worry too much about it.\n",
    "    x.grad.detach_() #将计算图中节点转为叶子节点，将节点.grad_fn = None\n",
    "    x.grad.zero_() # 清X的梯度值"
   ]
  },
  {
   "cell_type": "markdown",
   "id": "5af09c8b-56c2-47b5-9424-0341ec7f7c7f",
   "metadata": {},
   "source": [
    "# Linear Regression\n",
    "\n",
    "Now, instead of minimizing a made-up function, lets minimize a loss function on some made-up data.\n",
    "\n",
    "We will implement Gradient Descent in order to solve the task of linear regression."
   ]
  },
  {
   "cell_type": "code",
   "execution_count": 10,
   "id": "171671e4-393b-4e24-9b9e-5802c4a8d693",
   "metadata": {},
   "outputs": [
    {
     "name": "stdout",
     "output_type": "stream",
     "text": [
      "true_w torch.Size([2, 1])\n",
      "X shape torch.Size([50, 2])\n",
      "y shape torch.Size([50, 1])\n",
      "w shape torch.Size([2, 1])\n"
     ]
    }
   ],
   "source": [
    "# make a simple linear dataset with some noise\n",
    "\n",
    "d = 2\n",
    "n = 50\n",
    "X = torch.randn(n,d)\n",
    "true_w = torch.tensor([[-1.0], [2.0]])\n",
    "print('true_w', true_w.shape)\n",
    "\n",
    "y = X @ true_w + torch.randn(n,1) * 0.1\n",
    "# y = torch.matmul( X , true_w) + torch.randn(n,1) * 0.1\n",
    "print('X shape', X.shape)\n",
    "print('y shape', y.shape)\n",
    "print('w shape', true_w.shape)\n"
   ]
  },
  {
   "cell_type": "markdown",
   "id": "d6e53121-5a01-4c52-9bb6-f79c57c9813a",
   "metadata": {},
   "source": [
    "### Note: dimensions\n",
    "PyTorch does a lot of operations on batches of data. The convention is to have your data be of size $(N, d)$ where $N$ is the size of the batch of data."
   ]
  },
  {
   "cell_type": "markdown",
   "id": "a423c01b-3f08-4359-bf65-716e5db0c48c",
   "metadata": {},
   "source": [
    "### Sanity check\n",
    "To verify PyTorch is computing the gradients correctly, let's recall the gradient for the RSS objective:\n",
    "\n",
    "$$\\nabla_w \\mathcal{L}_{RSS}(w; X) = \\nabla_w\\frac{1}{n} ||y - Xw||_2^2 = -\\frac{2}{n}X^T(y-Xw)$$"
   ]
  },
  {
   "cell_type": "code",
   "execution_count": 11,
   "id": "42ed73d3-785d-4d0a-af6b-4e9428ad6881",
   "metadata": {},
   "outputs": [
    {
     "name": "stdout",
     "output_type": "stream",
     "text": [
      "Analytical gradient [ 4.342543  -3.5023162]\n",
      "PyTorch's gradient [ 4.342543 -3.502316]\n"
     ]
    }
   ],
   "source": [
    "# define a linear model with no bias\n",
    "def model(X, w):\n",
    "    return X @ w\n",
    "\n",
    "# the residual sum of squares loss function\n",
    "def rss(y, y_hat):\n",
    "    return torch.norm(y - y_hat)**2 / n\n",
    "\n",
    "# analytical expression for the gradient\n",
    "def grad_rss(X, y, w):\n",
    "    return -2*X.t() @ (y - X @ w) / n\n",
    "\n",
    "w = torch.tensor([[1.], [0]], requires_grad=True)\n",
    "y_hat = model(X, w)\n",
    "\n",
    "loss = rss(y, y_hat)\n",
    "loss.backward()\n",
    "\n",
    "print('Analytical gradient', grad_rss(X, y, w).detach().view(2).numpy())\n",
    "print('PyTorch\\'s gradient', w.grad.view(2).numpy())\n"
   ]
  },
  {
   "cell_type": "markdown",
   "id": "0436c690-b191-4b33-a68d-80a8c2cb9fcf",
   "metadata": {},
   "source": [
    "Now that we've seen PyTorch is doing the right think, let's use the gradients!\n",
    "\n",
    "## Linear regression using GD with automatically computed derivatives\n",
    "\n",
    "We will now use the gradients to run the gradient descent algorithm.\n",
    "\n",
    "Note: This example is an illustration to connect ideas we have seen before to PyTorch's way of doing things. We will see how to do this in the \"PyTorchic\" way in the next example."
   ]
  },
  {
   "cell_type": "code",
   "execution_count": 12,
   "id": "8d240bf6-8edb-4a44-b77b-9e69918d3976",
   "metadata": {},
   "outputs": [
    {
     "name": "stdout",
     "output_type": "stream",
     "text": [
      "iter,\tloss,\tw\n",
      "0,\t7.82,\t[0.13149136 0.70046324]\n",
      "1,\t2.84,\t[-0.11822014  0.9229876 ]\n",
      "2,\t1.84,\t[-0.31444427  1.1054724 ]\n",
      "3,\t1.19,\t[-0.4684834  1.2552956]\n",
      "4,\t0.77,\t[-0.58927345  1.3784461 ]\n",
      "5,\t0.50,\t[-0.68387645  1.4797904 ]\n",
      "6,\t0.33,\t[-0.75787055  1.563287  ]\n",
      "7,\t0.22,\t[-0.8156596  1.632159 ]\n",
      "8,\t0.15,\t[-0.86071837  1.6890337 ]\n",
      "9,\t0.10,\t[-0.89578694  1.736055  ]\n",
      "10,\t0.07,\t[-0.9230244  1.7749742]\n",
      "11,\t0.05,\t[-0.94413096  1.8072236 ]\n",
      "12,\t0.03,\t[-0.9604442  1.8339758]\n",
      "13,\t0.02,\t[-0.9730157  1.8561921]\n",
      "14,\t0.02,\t[-0.9826713  1.8746614]\n",
      "15,\t0.01,\t[-0.99005884  1.8900318 ]\n",
      "16,\t0.01,\t[-0.99568594  1.9028363 ]\n",
      "17,\t0.01,\t[-0.99994993  1.913514  ]\n",
      "18,\t0.01,\t[-1.0031612  1.9224268]\n",
      "19,\t0.01,\t[-1.0055621  1.9298735]\n",
      "\n",
      "true w\t\t [-1.  2.]\n",
      "estimated w\t [-1.0055621  1.9298735]\n"
     ]
    }
   ],
   "source": [
    "step_size = 0.1\n",
    "\n",
    "print('iter,\\tloss,\\tw')\n",
    "for i in range(20):\n",
    "    y_hat = model(X, w)\n",
    "    loss = rss(y, y_hat)\n",
    "    \n",
    "    loss.backward() # compute the gradient of the loss\n",
    "    \n",
    "    w.data = w.data - step_size * w.grad # do a gradient descent step\n",
    "    \n",
    "    print('{},\\t{:.2f},\\t{}'.format(i, loss.item(), w.view(2).detach().numpy()))\n",
    "    \n",
    "    # We need to zero the grad variable since the backward()\n",
    "    # call accumulates the gradients in .grad instead of overwriting.\n",
    "    # The detach_() is for efficiency. You do not need to worry too much about it.\n",
    "    w.grad.detach()\n",
    "    w.grad.zero_()\n",
    "\n",
    "print('\\ntrue w\\t\\t', true_w.view(2).numpy())\n",
    "print('estimated w\\t', w.view(2).detach().numpy())"
   ]
  },
  {
   "cell_type": "markdown",
   "id": "ec3f9bd8-e8e1-4ed3-8f2d-90d564d781b5",
   "metadata": {},
   "source": [
    "## torch.nn.Module\n",
    "\n",
    "`Module` is PyTorch's way of performing operations on tensors. Modules are implemented as subclasses of the `torch.nn.Module` class. All modules are callable and can be composed together to create complex functions.\n",
    "\n",
    "[`torch.nn` docs](https://pytorch.org/docs/stable/nn.html)\n",
    "\n",
    "Note: most of the functionality implemented for modules can be accessed in a functional form via `torch.nn.functional`, but these require you to create and manage the weight tensors yourself.\n",
    "\n",
    "[`torch.nn.functional` docs](https://pytorch.org/docs/stable/nn.html#torch-nn-functional)."
   ]
  },
  {
   "cell_type": "markdown",
   "id": "650336c3-e460-45e5-a748-88d40194e13a",
   "metadata": {},
   "source": [
    "### Linear Module\n",
    "The bread and butter of modules is the Linear module which does a linear transformation with a bias. It takes the input and output dimensions as parameters, and creates the weights in the object.\n",
    "\n",
    "Unlike how we initialized our $w$ manually, the Linear module automatically initializes the weights randomly. For minimizing non convex loss functions (e.g. training neural networks), initialization is important and can affect results. If training isn't working as well as expected, one thing to try is manually initializing the weights to something different from the default. PyTorch implements some common initializations in `torch.nn.init`.\n",
    "\n",
    "[`torch.nn.init` docs](https://pytorch.org/docs/stable/nn.html#torch-nn-init)"
   ]
  },
  {
   "cell_type": "code",
   "execution_count": 13,
   "id": "42eb67d4-63d8-49cc-84b7-fa6654cdeafc",
   "metadata": {},
   "outputs": [
    {
     "name": "stdout",
     "output_type": "stream",
     "text": [
      "example_tensor torch.Size([2, 3])\n",
      "transormed torch.Size([2, 4])\n",
      "\n",
      "We can see that the weights exist in the background\n",
      "\n",
      "W: Parameter containing:\n",
      "tensor([[ 0.5260,  0.4925, -0.0887],\n",
      "        [ 0.3944,  0.4080,  0.2182],\n",
      "        [-0.1409,  0.0518,  0.3034],\n",
      "        [ 0.0913,  0.2452, -0.2616]], requires_grad=True)\n",
      "b: Parameter containing:\n",
      "tensor([0.5021, 0.0118, 0.1383, 0.4757], requires_grad=True)\n"
     ]
    }
   ],
   "source": [
    "d_in = 3\n",
    "d_out = 4\n",
    "linear_module = nn.Linear(d_in, d_out)\n",
    "\n",
    "example_tensor = torch.tensor([[1.,2,3], [4,5,6]])\n",
    "# applys a linear transformation to the data\n",
    "transformed = linear_module(example_tensor)\n",
    "print('example_tensor', example_tensor.shape)\n",
    "print('transormed', transformed.shape)\n",
    "print()\n",
    "print('We can see that the weights exist in the background\\n')\n",
    "print('W:', linear_module.weight)\n",
    "print('b:', linear_module.bias)"
   ]
  },
  {
   "cell_type": "markdown",
   "id": "82de44ca-5f60-4203-8dbd-fabdb871b55f",
   "metadata": {},
   "source": [
    "### Activation functions\n",
    "PyTorch implements a number of activation functions including but not limited to `ReLU`, `Tanh`, and `Sigmoid`. Since they are modules, they need to be instantiated."
   ]
  },
  {
   "cell_type": "code",
   "execution_count": 14,
   "id": "31b1b3f2-9eef-49f3-ae37-bc22dda6834b",
   "metadata": {},
   "outputs": [
    {
     "name": "stdout",
     "output_type": "stream",
     "text": [
      "example_tensor tensor([-1.,  1.,  0.])\n",
      "activated tensor([0., 1., 0.])\n"
     ]
    }
   ],
   "source": [
    "activation_fn = nn.ReLU() # we instantiate an instance of the ReLU module\n",
    "example_tensor = torch.tensor([-1.0, 1.0, 0.0])\n",
    "activated = activation_fn(example_tensor)\n",
    "print('example_tensor', example_tensor)\n",
    "print('activated', activated)"
   ]
  },
  {
   "cell_type": "markdown",
   "id": "1e452f35-12f4-418b-9450-f99238f49e28",
   "metadata": {},
   "source": [
    "### Sequential\n",
    "\n",
    "Many times, we want to compose Modules together. `torch.nn.Sequential` provides a good interface for composing simple modules."
   ]
  },
  {
   "cell_type": "code",
   "execution_count": 15,
   "id": "b16fd0ea-f835-4391-9196-e6c7c7c2f456",
   "metadata": {},
   "outputs": [
    {
     "name": "stdout",
     "output_type": "stream",
     "text": [
      "transformed torch.Size([2, 1])\n"
     ]
    }
   ],
   "source": [
    "d_in = 3\n",
    "d_hidden = 4\n",
    "d_out = 1\n",
    "model = torch.nn.Sequential(\n",
    "                            nn.Linear(d_in, d_hidden),\n",
    "                            nn.Tanh(),\n",
    "                            nn.Linear(d_hidden, d_out),\n",
    "                            nn.Sigmoid()\n",
    "                           )\n",
    "\n",
    "example_tensor = torch.tensor([[1.,2,3],[4,5,6]])\n",
    "transformed = model(example_tensor)\n",
    "print('transformed', transformed.shape)"
   ]
  },
  {
   "cell_type": "code",
   "execution_count": 16,
   "id": "59330bb9-2164-4e5f-9e58-56c3dd796e3a",
   "metadata": {},
   "outputs": [
    {
     "data": {
      "text/plain": [
       "Sequential(\n",
       "  (0): Linear(in_features=3, out_features=4, bias=True)\n",
       "  (1): Tanh()\n",
       "  (2): Linear(in_features=4, out_features=1, bias=True)\n",
       "  (3): Sigmoid()\n",
       ")"
      ]
     },
     "execution_count": 16,
     "metadata": {},
     "output_type": "execute_result"
    }
   ],
   "source": [
    "model"
   ]
  },
  {
   "cell_type": "markdown",
   "id": "ffd0aa8c-7dee-4216-a4ea-f9fd5bea2418",
   "metadata": {},
   "source": [
    "Note: we can access *all* of the parameters (of any `nn.Module`) with the `parameters()` method. "
   ]
  },
  {
   "cell_type": "code",
   "execution_count": 17,
   "id": "3d2547c9-779a-4799-9d1f-27bf684c5be5",
   "metadata": {},
   "outputs": [
    {
     "name": "stdout",
     "output_type": "stream",
     "text": [
      "Layer0\n",
      "Parameter containing:\n",
      "tensor([[-0.3128,  0.2707, -0.3952],\n",
      "        [ 0.1285,  0.1777, -0.4675],\n",
      "        [ 0.0452, -0.5630, -0.1999],\n",
      "        [ 0.5431,  0.0524,  0.1126]], requires_grad=True)\n",
      "Layer1\n",
      "Parameter containing:\n",
      "tensor([ 0.2683, -0.2361,  0.2769, -0.1380], requires_grad=True)\n",
      "Layer2\n",
      "Parameter containing:\n",
      "tensor([[ 0.4902, -0.0928, -0.2907,  0.0734]], requires_grad=True)\n",
      "Layer3\n",
      "Parameter containing:\n",
      "tensor([-0.0394], requires_grad=True)\n"
     ]
    }
   ],
   "source": [
    "params = model.parameters()\n",
    "\n",
    "for idx, param in enumerate(params):\n",
    "    print(\"Layer{}\".format(idx))\n",
    "    print(param)"
   ]
  },
  {
   "cell_type": "markdown",
   "id": "7f0ef278-3cb8-4425-9c1e-9fa731aeff74",
   "metadata": {},
   "source": [
    "### Loss functions\n",
    "PyTorch implements many common loss functions including `MSELoss` and `CrossEntropyLoss`."
   ]
  },
  {
   "cell_type": "code",
   "execution_count": 18,
   "id": "d4d470d4-385e-491a-9f58-fb26ca47337c",
   "metadata": {},
   "outputs": [
    {
     "name": "stdout",
     "output_type": "stream",
     "text": [
      "tensor(0.6667)\n"
     ]
    }
   ],
   "source": [
    "mse_loss_fn = nn.MSELoss()\n",
    "\n",
    "input = torch.tensor([[0., 0, 0]])\n",
    "target = torch.tensor([[1., 0, -1]])\n",
    "\n",
    "loss = mse_loss_fn(input, target)\n",
    "\n",
    "print(loss)"
   ]
  },
  {
   "cell_type": "markdown",
   "id": "db1cc229-8414-4af4-bafc-14aa5dc62862",
   "metadata": {},
   "source": [
    "## torch.optim\n",
    "PyTorch implements a number of gradient-based optimization methods in `torch.optim`, including Gradient Descent. At the minimum, it takes in the model parameters and a learning rate.\n",
    "\n",
    "Optimizers do not compute the gradients for you, so you must call `backward()` yourself. You also must call the `optim.zero_grad()` function before calling `backward()` since by default PyTorch does and inplace add to the `.grad` member variable rather than overwriting it.\n",
    "\n",
    "This does both the `detach_()` and `zero_()` calls on all tensor's `grad` variables.\n",
    "\n",
    "[`torch.optim` docs](https://pytorch.org/docs/stable/optim.html)"
   ]
  },
  {
   "cell_type": "code",
   "execution_count": 19,
   "id": "edce92f1-0d2b-4689-89ad-d3ea80905c1c",
   "metadata": {},
   "outputs": [
    {
     "name": "stdout",
     "output_type": "stream",
     "text": [
      "model params before: Parameter containing:\n",
      "tensor([[-0.4950]], requires_grad=True)\n",
      "model params after: Parameter containing:\n",
      "tensor([[-0.4427]], requires_grad=True)\n"
     ]
    }
   ],
   "source": [
    "# create a simple model\n",
    "model = nn.Linear(1, 1)\n",
    "\n",
    "# create a simple dataset\n",
    "X_simple = torch.tensor([[1.]])\n",
    "y_simple = torch.tensor([[2.]])\n",
    "\n",
    "# create our optimizer\n",
    "optim = torch.optim.SGD(model.parameters(), lr=1e-2)\n",
    "mse_loss_fn = nn.MSELoss()\n",
    "\n",
    "y_hat = model(X_simple)\n",
    "print('model params before:', model.weight)\n",
    "loss = mse_loss_fn(y_hat, y_simple)\n",
    "optim.zero_grad() # step1: optimizer grad set to 0\n",
    "loss.backward()   # step2: loss backward\n",
    "optim.step()      # step3: use optimizer to do gradient & update parameters\n",
    "print('model params after:', model.weight)\n"
   ]
  },
  {
   "cell_type": "markdown",
   "id": "d365b324-f2da-4270-b48b-14708d1f4b17",
   "metadata": {},
   "source": [
    "As we can see, the parameter was updated in the correct direction"
   ]
  },
  {
   "cell_type": "markdown",
   "id": "db91e749-893e-4a4e-ae4d-18dcfdfc52bd",
   "metadata": {},
   "source": [
    "## Linear regression using GD with automatically computed derivatives and PyTorch's Modules\n",
    "\n",
    "Now let's combine what we've learned to solve linear regression in a \"PyTorchic\" way."
   ]
  },
  {
   "cell_type": "code",
   "execution_count": 20,
   "id": "28548437-ecb5-4eb1-bb3c-e4994c9d14f2",
   "metadata": {},
   "outputs": [
    {
     "name": "stdout",
     "output_type": "stream",
     "text": [
      "iter,\tloss,\tw\n",
      "0,\t2.99,\t[-0.5453574   0.51412684]\n",
      "1,\t2.02,\t[-0.666086    0.75222915]\n",
      "2,\t1.37,\t[-0.75831056  0.9504565 ]\n",
      "3,\t0.94,\t[-0.82842976  1.1156546 ]\n",
      "4,\t0.64,\t[-0.8814486  1.2534634]\n",
      "5,\t0.44,\t[-0.92127615  1.3685349 ]\n",
      "6,\t0.31,\t[-0.9509604  1.4647106]\n",
      "7,\t0.22,\t[-0.9728737  1.5451664]\n",
      "8,\t0.15,\t[-0.98885876  1.6125307 ]\n",
      "9,\t0.11,\t[-1.0003437  1.6689818]\n",
      "10,\t0.08,\t[-1.0084321  1.7163262]\n",
      "11,\t0.06,\t[-1.0139749  1.7560644]\n",
      "12,\t0.04,\t[-1.0176253  1.7894436]\n",
      "13,\t0.03,\t[-1.0198835  1.8175017]\n",
      "14,\t0.02,\t[-1.0211303  1.8411033]\n",
      "15,\t0.02,\t[-1.0216544  1.8609697]\n",
      "16,\t0.02,\t[-1.0216731  1.8777025]\n",
      "17,\t0.01,\t[-1.0213491  1.8918046]\n",
      "18,\t0.01,\t[-1.020803   1.9036964]\n",
      "19,\t0.01,\t[-1.020123   1.9137299]\n",
      "\n",
      "true w\t\t [-1.  2.]\n",
      "estimated w\t [-1.020123   1.9137299]\n"
     ]
    }
   ],
   "source": [
    "step_size = 0.1\n",
    "\n",
    "linear_module = nn.Linear(d, 1, bias=False)\n",
    "\n",
    "loss_func = nn.MSELoss()\n",
    "\n",
    "optim = torch.optim.SGD(linear_module.parameters(), lr=step_size)\n",
    "\n",
    "print('iter,\\tloss,\\tw')\n",
    "\n",
    "for i in range(20):\n",
    "    y_hat = linear_module(X)\n",
    "    loss = loss_func(y_hat, y)\n",
    "    optim.zero_grad()\n",
    "    loss.backward()\n",
    "    optim.step()\n",
    "    \n",
    "    print('{},\\t{:.2f},\\t{}'.format(i, loss.item(), linear_module.weight.view(2).detach().numpy()))\n",
    "\n",
    "print('\\ntrue w\\t\\t', true_w.view(2).numpy())\n",
    "print('estimated w\\t', linear_module.weight.view(2).detach().numpy())"
   ]
  },
  {
   "cell_type": "markdown",
   "id": "7f347655-4abe-42e0-b9b1-f70038ec45a6",
   "metadata": {},
   "source": [
    "## Linear regression using SGD \n",
    "In the previous examples, we computed the average gradient over the entire dataset (Gradient Descent). We can implement Stochastic Gradient Descent with a simple modification."
   ]
  },
  {
   "cell_type": "code",
   "execution_count": 21,
   "id": "8bda9a34-e6ab-4038-861c-5e8ebb61a266",
   "metadata": {},
   "outputs": [
    {
     "name": "stdout",
     "output_type": "stream",
     "text": [
      "iter,\tloss,\tw\n",
      "0,\t2.34,\t[-0.20083943  0.64366853]\n",
      "20,\t1.32,\t[-0.5122697   0.81999886]\n",
      "40,\t1.10,\t[-0.66508836  1.1122411 ]\n",
      "60,\t0.07,\t[-0.73203564  1.3254309 ]\n",
      "80,\t0.01,\t[-0.87850773  1.431931  ]\n",
      "100,\t0.01,\t[-0.9367782  1.6041138]\n",
      "120,\t0.22,\t[-0.9558103  1.7049236]\n",
      "140,\t0.00,\t[-0.95406926  1.7622719 ]\n",
      "160,\t0.26,\t[-0.9875456  1.8169838]\n",
      "180,\t0.02,\t[-1.0094216  1.8713712]\n",
      "\n",
      "true w\t\t [-1.  2.]\n",
      "estimated w\t [-1.0041627  1.890227 ]\n"
     ]
    }
   ],
   "source": [
    "step_size = 0.01\n",
    "\n",
    "linear_module = nn.Linear(d, 1)\n",
    "loss_func = nn.MSELoss()\n",
    "optim = torch.optim.SGD(linear_module.parameters(), lr=step_size)\n",
    "print('iter,\\tloss,\\tw')\n",
    "for i in range(200):\n",
    "    rand_idx = np.random.choice(n) # take a random point from the dataset\n",
    "    x = X[rand_idx] \n",
    "    y_hat = linear_module(x)\n",
    "    loss = loss_func(y_hat, y[rand_idx]) # only compute the loss on the single point\n",
    "    optim.zero_grad()\n",
    "    loss.backward()\n",
    "    optim.step()\n",
    "    \n",
    "    if i % 20 == 0:\n",
    "        print('{},\\t{:.2f},\\t{}'.format(i, loss.item(), linear_module.weight.view(2).detach().numpy()))\n",
    "\n",
    "print('\\ntrue w\\t\\t', true_w.view(2).numpy())\n",
    "print('estimated w\\t', linear_module.weight.view(2).detach().numpy())"
   ]
  },
  {
   "cell_type": "markdown",
   "id": "d40598a7-30e1-446c-96ee-a26bc0aae808",
   "metadata": {},
   "source": [
    "# Neural Network Basics in PyTorch\n",
    "We will try and fit a simple neural network to the data."
   ]
  },
  {
   "cell_type": "code",
   "execution_count": 22,
   "id": "20779009-2dab-4284-9055-1630bf8206f3",
   "metadata": {},
   "outputs": [
    {
     "data": {
      "image/png": "[encoded data removed]",
      "text/plain": [
       "<Figure size 432x288 with 1 Axes>"
      ]
     },
     "metadata": {
      "needs_background": "light"
     },
     "output_type": "display_data"
    }
   ],
   "source": [
    "%matplotlib inline\n",
    "\n",
    "d = 1\n",
    "n = 200\n",
    "X = torch.rand(n,d)\n",
    "y = 4 * torch.sin(np.pi * X) * torch.cos(6*np.pi*X**2)\n",
    "\n",
    "plt.scatter(X.numpy(), y.numpy())\n",
    "plt.title('plot of $f(x)$')\n",
    "plt.xlabel('$x$')\n",
    "plt.ylabel('$y$')\n",
    "\n",
    "plt.show()"
   ]
  },
  {
   "cell_type": "markdown",
   "id": "3f9e289b-a473-4eb1-8a03-820033825102",
   "metadata": {},
   "source": [
    "Here we define a simple two hidden layer neural network with Tanh activations. There are a few hyper parameters to play with to get a feel for how they change the results."
   ]
  },
  {
   "cell_type": "code",
   "execution_count": 23,
   "id": "fd0558bb-6138-421b-80ba-ebd3d4b83bcd",
   "metadata": {},
   "outputs": [
    {
     "name": "stdout",
     "output_type": "stream",
     "text": [
      "iter,\tloss\n",
      "0,\t3.99\n",
      "600,\t3.70\n",
      "1200,\t2.45\n",
      "1800,\t1.13\n",
      "2400,\t0.93\n",
      "3000,\t0.70\n",
      "3600,\t0.29\n",
      "4200,\t0.09\n",
      "4800,\t0.08\n",
      "5400,\t0.07\n"
     ]
    }
   ],
   "source": [
    "# feel free to play with these parameters\n",
    "\n",
    "step_size = 0.05\n",
    "n_epochs = 6000\n",
    "n_hidden_1 = 32\n",
    "n_hidden_2 = 32\n",
    "d_out = 1\n",
    "\n",
    "neural_network = nn.Sequential(\n",
    "                            nn.Linear(d, n_hidden_1), \n",
    "                            nn.Tanh(),\n",
    "                            nn.Linear(n_hidden_1, n_hidden_2),\n",
    "                            nn.Tanh(),\n",
    "                            nn.Linear(n_hidden_2, d_out)\n",
    "                            )\n",
    "\n",
    "loss_func = nn.MSELoss()\n",
    "\n",
    "optim = torch.optim.SGD(neural_network.parameters(), lr=step_size)\n",
    "print('iter,\\tloss')\n",
    "for i in range(n_epochs):\n",
    "    y_hat = neural_network(X)\n",
    "    loss = loss_func(y_hat, y)\n",
    "    optim.zero_grad()\n",
    "    loss.backward()\n",
    "    optim.step()\n",
    "    \n",
    "    if i % (n_epochs // 10) == 0:\n",
    "        print('{},\\t{:.2f}'.format(i, loss.item()))\n",
    "\n"
   ]
  },
  {
   "cell_type": "code",
   "execution_count": 24,
   "id": "0a11a676-d5e8-48de-afef-b7643ddcebd7",
   "metadata": {},
   "outputs": [
    {
     "data": {
      "image/png": "[encoded data removed]",
      "text/plain": [
       "<Figure size 432x288 with 1 Axes>"
      ]
     },
     "metadata": {
      "needs_background": "light"
     },
     "output_type": "display_data"
    }
   ],
   "source": [
    "X_grid = torch.from_numpy(np.linspace(0,1,50)).float().view(-1, d)\n",
    "y_hat = neural_network(X_grid)\n",
    "plt.scatter(X.numpy(), y.numpy())\n",
    "plt.plot(X_grid.detach().numpy(), y_hat.detach().numpy(), 'r')\n",
    "plt.title('plot of $f(x)$ and $\\hat{f}(x)$')\n",
    "plt.xlabel('$x$')\n",
    "plt.ylabel('$y$')\n",
    "plt.show()"
   ]
  },
  {
   "cell_type": "markdown",
   "id": "5e956d80-69ce-4730-b788-e41dcc508cad",
   "metadata": {},
   "source": [
    "# Things that might help on the homework\n",
    "\n",
    "## Brief Sidenote: Momentum\n",
    "\n",
    "There are other optimization algorithms besides stochastic gradient descent. One is a modification of SGD called momentum. We won't get into it here, but if you would like to read more [here](https://distill.pub/2017/momentum/) is a good place to start.\n",
    "\n",
    "We only change the step size and add the momentum keyword argument to the optimizer. Notice how it reduces the training loss in fewer iterations."
   ]
  },
  {
   "cell_type": "code",
   "execution_count": 25,
   "id": "dc076ac0-37c3-4904-a19c-dc3c1820b360",
   "metadata": {},
   "outputs": [
    {
     "name": "stdout",
     "output_type": "stream",
     "text": [
      "iter,\tloss\n",
      "0,\t3.98\n",
      "150,\t2.77\n",
      "300,\t0.84\n",
      "450,\t0.26\n",
      "600,\t0.06\n",
      "750,\t0.06\n",
      "900,\t0.01\n",
      "1050,\t0.00\n",
      "1200,\t0.00\n",
      "1350,\t0.00\n"
     ]
    }
   ],
   "source": [
    "# feel free to play with these parameters\n",
    "\n",
    "step_size = 0.05\n",
    "momentum = 0.9\n",
    "n_epochs = 1500\n",
    "n_hidden_1 = 32\n",
    "n_hidden_2 = 32\n",
    "d_out = 1\n",
    "\n",
    "neural_network = nn.Sequential(\n",
    "                            nn.Linear(d, n_hidden_1), \n",
    "                            nn.Tanh(),\n",
    "                            nn.Linear(n_hidden_1, n_hidden_2),\n",
    "                            nn.Tanh(),\n",
    "                            nn.Linear(n_hidden_2, d_out)\n",
    "                            )\n",
    "\n",
    "loss_func = nn.MSELoss()\n",
    "\n",
    "optim = torch.optim.SGD(neural_network.parameters(), lr=step_size, momentum=momentum)\n",
    "print('iter,\\tloss')\n",
    "for i in range(n_epochs):\n",
    "    y_hat = neural_network(X)\n",
    "    loss = loss_func(y_hat, y)\n",
    "    optim.zero_grad()\n",
    "    loss.backward()\n",
    "    optim.step()\n",
    "    \n",
    "    if i % (n_epochs // 10) == 0:\n",
    "        print('{},\\t{:.2f}'.format(i, loss.item()))\n",
    "\n"
   ]
  },
  {
   "cell_type": "code",
   "execution_count": 26,
   "id": "d4a8dba1-2f0e-40e0-b91a-a857716a99c0",
   "metadata": {},
   "outputs": [
    {
     "data": {
      "image/png": "[encoded data removed]",
      "text/plain": [
       "<Figure size 432x288 with 1 Axes>"
      ]
     },
     "metadata": {
      "needs_background": "light"
     },
     "output_type": "display_data"
    }
   ],
   "source": [
    "X_grid = torch.from_numpy(np.linspace(0,1,50)).float().view(-1, d)\n",
    "y_hat = neural_network(X_grid)\n",
    "plt.scatter(X.numpy(), y.numpy())\n",
    "plt.plot(X_grid.detach().numpy(), y_hat.detach().numpy(), 'r')\n",
    "plt.title('plot of $f(x)$ and $\\hat{f}(x)$')\n",
    "plt.xlabel('$x$')\n",
    "plt.ylabel('$y$')\n",
    "plt.show()"
   ]
  },
  {
   "cell_type": "markdown",
   "id": "28fc8e2e-14c1-47e4-a9c1-e0639538c4cc",
   "metadata": {},
   "source": [
    "## Learning rate schedulers\n",
    "step_size = 0.1\n",
    "\n",
    "Often we do not want to use a fixed learning rate throughout all training. PyTorch offers learning rate schedulers to change the learning rate over time. Common strategies include multiplying the lr by a constant every epoch (e.g. 0.9) and halving the learning rate when the training loss flattens out.\n",
    "\n",
    "See the [learning rate scheduler docs](https://pytorch.org/docs/stable/optim.html#how-to-adjust-learning-rate) for usage and examples"
   ]
  },
  {
   "cell_type": "code",
   "execution_count": 27,
   "id": "873e6720-9031-4c9a-9c53-9ae3bc3c048a",
   "metadata": {},
   "outputs": [
    {
     "name": "stdout",
     "output_type": "stream",
     "text": [
      "iter,\tloss\n",
      "0,\t3.88\n",
      "150,\t3.04\n",
      "300,\t0.79\n",
      "450,\t0.17\n",
      "600,\t0.05\n",
      "750,\t0.04\n",
      "900,\t0.08\n",
      "1050,\t0.00\n",
      "1200,\t0.00\n",
      "1350,\t0.00\n"
     ]
    }
   ],
   "source": [
    "# feel free to play with these parameters\n",
    "from torch.optim.lr_scheduler import *\n",
    "step_size = 0.05\n",
    "momentum = 0.9\n",
    "n_epochs = 1500\n",
    "n_hidden_1 = 32\n",
    "n_hidden_2 = 32\n",
    "d_out = 1\n",
    "\n",
    "neural_network = nn.Sequential(\n",
    "                            nn.Linear(d, n_hidden_1), \n",
    "                            nn.Tanh(),\n",
    "                            nn.Linear(n_hidden_1, n_hidden_2),\n",
    "                            nn.Tanh(),\n",
    "                            nn.Linear(n_hidden_2, d_out)\n",
    "                            )\n",
    "\n",
    "loss_func = nn.MSELoss()\n",
    "\n",
    "optim = torch.optim.SGD(neural_network.parameters(), lr=step_size, momentum=momentum)\n",
    "scheduler = StepLR(optim, step_size=step_size, gamma=0.1)\n",
    "# scheduler = MultiStepLR(optim, milestones=[n_epochs/3*2 , n_epochs], gamma=0.1)\n",
    "# scheduler = ReduceLROnPlateau(optim, 'min')  # => scheduler.step(metrics)\n",
    "\n",
    "print('iter,\\tloss')\n",
    "for i in range(n_epochs):\n",
    "    y_hat = neural_network(X)\n",
    "    loss = loss_func(y_hat, y)\n",
    "    optim.zero_grad()\n",
    "    loss.backward()\n",
    "    optim.step()\n",
    "    scheduler.step() # step4: use scheduler adjust the learning rate based on the number of epochs    \n",
    "    \n",
    "    if i % (n_epochs // 10) == 0:\n",
    "        print('{},\\t{:.2f}'.format(i, loss.item()))\n",
    "\n"
   ]
  },
  {
   "cell_type": "code",
   "execution_count": 28,
   "id": "b7c3e927-c166-42fa-97ed-90b96f051c5b",
   "metadata": {},
   "outputs": [
    {
     "data": {
      "image/png": "[encoded data removed]",
      "text/plain": [
       "<Figure size 432x288 with 1 Axes>"
      ]
     },
     "metadata": {
      "needs_background": "light"
     },
     "output_type": "display_data"
    }
   ],
   "source": [
    "X_grid = torch.from_numpy(np.linspace(0,1,50)).float().view(-1, d)\n",
    "y_hat = neural_network(X_grid)\n",
    "plt.scatter(X.numpy(), y.numpy())\n",
    "plt.plot(X_grid.detach().numpy(), y_hat.detach().numpy(), 'r')\n",
    "plt.title('plot of $f(x)$ and $\\hat{f}(x)$')\n",
    "plt.xlabel('$x$')\n",
    "plt.ylabel('$y$')\n",
    "plt.show()"
   ]
  },
  {
   "cell_type": "markdown",
   "id": "c56fa9ac-e6cb-4d5f-9512-a5112ef25860",
   "metadata": {},
   "source": [
    "## CrossEntropyLoss\n",
    "So far, we have been considering regression tasks and have used the [MSELoss](https://pytorch.org/docs/stable/nn.html#torch.nn.MSELoss) module. For the homework, we will be performing a classification task and will use the cross entropy loss.\n",
    "\n",
    "PyTorch implements a version of the cross entropy loss in one module called [CrossEntropyLoss](https://pytorch.org/docs/stable/nn.html#torch.nn.CrossEntropyLoss). Its usage is slightly different than MSE, so we will break it down here. \n",
    "\n",
    "- input: The first parameter to CrossEntropyLoss is the output of our network. It expects a *real valued* tensor of dimensions $(N,C)$ where $N$ is the minibatch size and $C$ is the number of classes. In our case $N=3$ and $C=2$. The values along the second dimension correspond to raw unnormalized scores for each class. The CrossEntropyLoss module does the softmax calculation for us, so we do not need to apply our own softmax to the output of our neural network.\n",
    "- output: The second parameter to CrossEntropyLoss is the true label. It expects an *integer valued* tensor of dimension $(N)$. The integer at each element corresponds to the correct class. In our case, the \"correct\" class labels are class 0, class 1, and class 1.\n",
    "\n",
    "Try out the loss function on three toy predictions. The true class labels are $y=[1,1,0]$. The first two examples correspond to predictions that are \"correct\" in that they have higher raw scores for the correct class. The second example is \"more confident\" in the prediction, leading to a smaller loss. The last two examples are incorrect predictions with lower and higher confidence respectively."
   ]
  },
  {
   "cell_type": "code",
   "execution_count": 29,
   "id": "31719855-d950-452e-adf2-9a0f3fbb440b",
   "metadata": {},
   "outputs": [
    {
     "name": "stdout",
     "output_type": "stream",
     "text": [
      "tensor(0.1269)\n"
     ]
    }
   ],
   "source": [
    "loss = nn.CrossEntropyLoss()\n",
    "\n",
    "input = torch.tensor([[-1., 1],[-1, 1],[1, -1]]) # raw scores correspond to the correct class\n",
    "# input = torch.tensor([[-3., 3],[-3, 3],[3, -3]]) # raw scores correspond to the correct class with higher confidence\n",
    "# input = torch.tensor([[1., -1],[1, -1],[-1, 1]]) # raw scores correspond to the incorrect class\n",
    "# input = torch.tensor([[3., -3],[3, -3],[-3, 3]]) # raw scores correspond to the incorrect class with incorrectly placed confidence\n",
    "\n",
    "target = torch.tensor([1, 1, 0])\n",
    "output = loss(input, target)\n",
    "print(output)\n"
   ]
  },
  {
   "cell_type": "markdown",
   "id": "90ef5e16-f614-4729-beca-ca45ff1ca5f9",
   "metadata": {},
   "source": [
    "## Convolutions\n",
    "When working with images, we often want to use convolutions to extract features using convolutions. PyTorch implments this for us in the `torch.nn.Conv2d` module. It expects the input to have a specific dimension $(N, C_{in}, H_{in}, W_{in})$ where $N$ is batch size, $C_{in}$ is the number of channels the image has, and $H_{in}, W_{in}$ are the image height and width respectively.\n",
    "\n",
    "We can modify the convolution to have different properties with the parameters:\n",
    "- kernel_size\n",
    "- stride\n",
    "- padding\n",
    "\n",
    "They can change the output dimension so be careful.\n",
    "\n",
    "See the [`torch.nn.Conv2d` docs](https://pytorch.org/docs/stable/nn.html#torch.nn.Conv2d) for more information."
   ]
  },
  {
   "cell_type": "code",
   "execution_count": 30,
   "id": "404fa9af-08f4-4642-bf22-ae37fd1b010a",
   "metadata": {},
   "outputs": [],
   "source": [
    "# an entire mnist digit\n",
    "image = np.array([0., 0., 0., 0., 0.,0., 0., 0., 0., 0.,0., 0., 0., 0., 0.,0., 0., 0., 0., 0.,0., 0., 0., 0., 0.,0., 0., 0., 0., 0.,0., 0., 0., 0., 0.,0., 0., 0., 0., 0.,0., 0., 0., 0., 0.,0., 0., 0., 0., 0.,0., 0., 0., 0., 0.,0., 0., 0., 0., 0.,0., 0., 0., 0., 0.,0., 0., 0., 0., 0.,0., 0., 0., 0., 0.,0., 0., 0., 0., 0.,0., 0., 0., 0., 0.,0., 0., 0., 0., 0.,0., 0., 0., 0., 0.,0., 0., 0., 0., 0.,0., 0., 0., 0., 0.,0., 0., 0., 0., 0.,0., 0., 0., 0., 0.,0., 0., 0., 0., 0.,0., 0., 0., 0., 0.,0., 0., 0., 0., 0.,0., 0., 0., 0., 0.,0., 0., 0., 0., 0.,0., 0., 0., 0., 0.,0., 0., 0., 0., 0.,0., 0., 0., 0., 0.,0., 0., 0., 0., 0.,0., 0., 0., 0., 0.,0., 0., 0., 0., 0.,0., 0., 0., 0., 0.,0., 0., 0., 0., 0.,0., 0., 0., 0., 0.,0., 0., 0., 0., 0.,0., 0., 0., 0., 0.,0., 0., 0., 0., 0.,0., 0., 0., 0., 0.,0., 0., 0.3803922 , 0.37647063, 0.3019608 ,0.46274513, 0.2392157 , 0., 0., 0.,0., 0., 0., 0., 0.,0., 0., 0., 0., 0.,0., 0., 0.3529412 , 0.5411765 , 0.9215687 ,0.9215687 , 0.9215687 , 0.9215687 , 0.9215687 , 0.9215687 ,0.9843138 , 0.9843138 , 0.9725491 , 0.9960785 , 0.9607844 ,0.9215687 , 0.74509805, 0.08235294, 0., 0.,0., 0., 0., 0., 0.,0., 0., 0., 0., 0.54901963,0.9843138 , 0.9960785 , 0.9960785 , 0.9960785 , 0.9960785 ,0.9960785 , 0.9960785 , 0.9960785 , 0.9960785 , 0.9960785 ,0.9960785 , 0.9960785 , 0.9960785 , 0.9960785 , 0.9960785 ,0.7411765 , 0.09019608, 0., 0., 0.,0., 0., 0., 0., 0.,0., 0., 0.8862746 , 0.9960785 , 0.81568635,0.7803922 , 0.7803922 , 0.7803922 , 0.7803922 , 0.54509807,0.2392157 , 0.2392157 , 0.2392157 , 0.2392157 , 0.2392157 ,0.5019608 , 0.8705883 , 0.9960785 , 0.9960785 , 0.7411765 ,0.08235294, 0., 0., 0., 0.,0., 0., 0., 0., 0.,0.14901961, 0.32156864, 0.0509804 , 0., 0.,0., 0., 0., 0., 0.,0., 0., 0., 0., 0.13333334,0.8352942 , 0.9960785 , 0.9960785 , 0.45098042, 0.,0., 0., 0., 0., 0.,0., 0., 0., 0., 0.,0., 0., 0., 0., 0.,0., 0., 0., 0., 0.,0., 0., 0., 0.32941177, 0.9960785 ,0.9960785 , 0.9176471 , 0., 0., 0.,0., 0., 0., 0., 0.,0., 0., 0., 0., 0.,0., 0., 0., 0., 0.,0., 0., 0., 0., 0.,0., 0.32941177, 0.9960785 , 0.9960785 , 0.9176471 ,0., 0., 0., 0., 0.,0., 0., 0., 0., 0.,0., 0., 0., 0., 0.,0., 0., 0., 0., 0.,0., 0., 0., 0.4156863 , 0.6156863 ,0.9960785 , 0.9960785 , 0.95294124, 0.20000002, 0.,0., 0., 0., 0., 0.,0., 0., 0., 0., 0.,0., 0., 0., 0., 0.,0., 0.09803922, 0.45882356, 0.8941177 , 0.8941177 ,0.8941177 , 0.9921569 , 0.9960785 , 0.9960785 , 0.9960785 ,0.9960785 , 0.94117653, 0., 0., 0.,0., 0., 0., 0., 0.,0., 0., 0., 0., 0.,0., 0., 0.26666668, 0.4666667 , 0.86274517,0.9960785 , 0.9960785 , 0.9960785 , 0.9960785 , 0.9960785 ,0.9960785 , 0.9960785 , 0.9960785 , 0.9960785 , 0.5568628 ,0., 0., 0., 0., 0.,0., 0., 0., 0., 0.,0., 0., 0., 0.14509805, 0.73333335,0.9921569 , 0.9960785 , 0.9960785 , 0.9960785 , 0.8745099 ,0.8078432 , 0.8078432 , 0.29411766, 0.26666668, 0.8431373 ,0.9960785 , 0.9960785 , 0.45882356, 0., 0.,0., 0., 0., 0., 0.,0., 0., 0., 0., 0.,0.4431373 , 0.8588236 , 0.9960785 , 0.9490197 , 0.89019614,0.45098042, 0.34901962, 0.12156864, 0., 0.,0., 0., 0.7843138 , 0.9960785 , 0.9450981 ,0.16078432, 0., 0., 0., 0.,0., 0., 0., 0., 0.,0., 0., 0., 0.6627451 , 0.9960785 ,0.6901961 , 0.24313727, 0., 0., 0.,0., 0., 0., 0., 0.18823531,0.9058824 , 0.9960785 , 0.9176471 , 0., 0.,0., 0., 0., 0., 0.,0., 0., 0., 0., 0.,0., 0.07058824, 0.48627454, 0., 0.,0., 0., 0., 0., 0.,0., 0., 0.32941177, 0.9960785 , 0.9960785 ,0.6509804 , 0., 0., 0., 0.,0., 0., 0., 0., 0.,0., 0., 0., 0., 0.,0., 0., 0., 0., 0.,0., 0., 0., 0., 0.,0.54509807, 0.9960785 , 0.9333334 , 0.22352943, 0.,0., 0., 0., 0., 0.,0., 0., 0., 0., 0.,0., 0., 0., 0., 0.,0., 0., 0., 0., 0.,0., 0., 0.8235295 , 0.9803922 , 0.9960785 ,0.65882355, 0., 0., 0., 0.,0., 0., 0., 0., 0.,0., 0., 0., 0., 0.,0., 0., 0., 0., 0.,0., 0., 0., 0., 0.,0.9490197 , 0.9960785 , 0.93725497, 0.22352943, 0.,0., 0., 0., 0., 0.,0., 0., 0., 0., 0.,0., 0., 0., 0., 0.,0., 0., 0., 0., 0.,0., 0., 0.34901962, 0.9843138 , 0.9450981 ,0.3372549 , 0., 0., 0., 0.,0., 0., 0., 0., 0.,0., 0., 0., 0., 0.,0., 0., 0., 0., 0.,0., 0., 0., 0., 0.01960784,0.8078432 , 0.96470594, 0.6156863 , 0., 0.,0., 0., 0., 0., 0.,0., 0., 0., 0., 0.,0., 0., 0., 0., 0.,0., 0., 0., 0., 0.,0., 0., 0.01568628, 0.45882356, 0.27058825,0., 0., 0., 0., 0.,0., 0., 0., 0., 0.,0., 0., 0., 0., 0.,0., 0., 0., 0., 0.,0., 0., 0., 0., 0.,0., 0., 0., 0., 0.,0., 0., 0., 0., 0.,0., 0., 0., 0.], dtype=np.float32)\n",
    "image_torch = torch.from_numpy(image).view(1, 1, 28, 28)"
   ]
  },
  {
   "cell_type": "code",
   "execution_count": 31,
   "id": "a1b88b53-e5a2-4242-af89-16b04d1699b7",
   "metadata": {},
   "outputs": [],
   "source": [
    "# a gaussian blur kernel\n",
    "gaussian_kernel = torch.tensor([[1., 2, 1],[2, 4, 2],[1, 2, 1]]) / 16.0"
   ]
  },
  {
   "cell_type": "code",
   "execution_count": 32,
   "id": "6246a596-81ac-4fb9-9e45-491f926c41c9",
   "metadata": {},
   "outputs": [
    {
     "data": {
      "image/png": "[encoded data removed]",
      "text/plain": [
       "<Figure size 432x288 with 1 Axes>"
      ]
     },
     "metadata": {
      "needs_background": "light"
     },
     "output_type": "display_data"
    },
    {
     "data": {
      "image/png": "[encoded data removed]",
      "text/plain": [
       "<Figure size 432x288 with 1 Axes>"
      ]
     },
     "metadata": {
      "needs_background": "light"
     },
     "output_type": "display_data"
    }
   ],
   "source": [
    "conv = nn.Conv2d(1, 1, 3)\n",
    "# manually set the conv weight\n",
    "conv.weight.data[:] = gaussian_kernel\n",
    "\n",
    "convolved = conv(image_torch)\n",
    "\n",
    "plt.title('original image')\n",
    "plt.imshow(image_torch.view(28,28).detach().numpy())\n",
    "plt.show()\n",
    "\n",
    "plt.title('blurred image')\n",
    "plt.imshow(convolved.view(26,26).detach().numpy())\n",
    "plt.show()"
   ]
  },
  {
   "cell_type": "markdown",
   "id": "7fdcfafb-8e13-4b39-ba97-c54b8cd0ff84",
   "metadata": {},
   "source": [
    "As we can see, the image is blurred as expected. \n",
    "\n",
    "In practice, we learn many kernels at a time. In this example, we take in an RGB image (3 channels) and output a 16 channel image. After an activation function, that could be used as input to another `Conv2d` module."
   ]
  },
  {
   "cell_type": "code",
   "execution_count": 33,
   "id": "ed6d5278-5521-4883-9e77-e6b2ffccecb0",
   "metadata": {},
   "outputs": [
    {
     "name": "stdout",
     "output_type": "stream",
     "text": [
      "im shape torch.Size([4, 3, 32, 32])\n",
      "Conv2d(3, 16, kernel_size=(3, 3), stride=(1, 1))\n",
      "convolved im shape torch.Size([4, 16, 30, 30])\n"
     ]
    }
   ],
   "source": [
    "im_channels = 3 # if we are working with RGB images, there are 3 input channels, with black and white, 1\n",
    "out_channels = 16 # this is a hyperparameter we can tune\n",
    "kernel_size = 3 # this is another hyperparameter we can tune\n",
    "batch_size = 4\n",
    "image_width = 32\n",
    "image_height = 32\n",
    "\n",
    "im = torch.randn(batch_size, im_channels, image_width, image_height)\n",
    "\n",
    "m = nn.Conv2d(im_channels, out_channels, kernel_size)\n",
    "convolved = m(im) # it is a module so we can call it\n",
    "\n",
    "print('im shape', im.shape)\n",
    "print(m)                                       # n + 2p -f +1 /s = (32 + 2 * 0 - 3 + 1) / 1 = 30 \n",
    "print('convolved im shape', convolved.shape)"
   ]
  },
  {
   "cell_type": "markdown",
   "id": "13547bf8-ef6f-4290-9bd3-722bde1539dd",
   "metadata": {},
   "source": [
    "## Useful links:\n",
    "- [60 minute PyTorch Tutorial](https://pytorch.org/tutorials/beginner/deep_learning_60min_blitz.html)\n",
    "- [PyTorch Docs](https://pytorch.org/docs/stable/index.html)\n",
    "- [Lecture notes on Auto-Diff](https://courses.cs.washington.edu/courses/cse446/19wi/notes/auto-diff.pdf)"
   ]
  },
  {
   "cell_type": "markdown",
   "id": "e2921342-ac33-4ca4-896a-eee2d487af25",
   "metadata": {},
   "source": [
    "\n",
    "Custom Datasets, DataLoaders\n",
    "===================================================\n",
    "This is modified from pytorch official tutorial.\n",
    "**Author**: `Sasank Chilamkurthy <https://chsasank.github.io>`_\n",
    "\n",
    "A lot of effort in solving any machine learning problem goes in to\n",
    "preparing the data. PyTorch provides many tools to make data loading\n",
    "easy and hopefully, to make your code more readable. In this tutorial,\n",
    "we will see how to load and preprocess/augment data from a non trivial\n",
    "dataset.\n",
    "\n"
   ]
  },
  {
   "cell_type": "markdown",
   "id": "e93814cf-a6e3-452b-be79-feef10687827",
   "metadata": {},
   "source": [
    "Dataset class\n",
    "-------------\n",
    "\n",
    "``torch.utils.data.Dataset`` is an abstract class representing a\n",
    "dataset.\n",
    "Your custom dataset should inherit ``Dataset`` and override the following\n",
    "methods:\n",
    "\n",
    "-  ``__len__`` so that ``len(dataset)`` returns the size of the dataset.\n",
    "-  ``__getitem__`` to support the indexing such that ``dataset[i]`` can\n",
    "   be used to get $i$\\ th sample\n",
    "\n",
    "Let's create a dataset class for our face landmarks dataset. We will\n",
    "read the csv in ``__init__`` but leave the reading of images to\n",
    "``__getitem__``. This is memory efficient because all the images are not\n",
    "stored in the memory at once but read as required.\n",
    "\n",
    "Sample of our dataset will be a dict\n",
    "``{'image': image, 'landmarks': landmarks}``. Our dataset will take an\n",
    "optional argument ``transform`` so that any required processing can be\n",
    "applied on the sample. We will see the usefulness of ``transform`` in the\n",
    "next section."
   ]
  },
  {
   "cell_type": "code",
   "execution_count": 34,
   "id": "cda25450-d6a6-46fa-8d13-11bbe1683b49",
   "metadata": {},
   "outputs": [],
   "source": [
    "from torch.utils.data import Dataset, DataLoader\n",
    "\n",
    "\n",
    "class FakeDataset(Dataset):\n",
    "\n",
    "    def __init__(self, x, y):\n",
    "        self.x = x\n",
    "        self.y = y\n",
    "\n",
    "    def __len__(self):\n",
    "        return len(self.x)\n",
    "\n",
    "    def __getitem__(self, idx):\n",
    "        # preprocessing\n",
    "        return self.x[idx], self.y[idx]"
   ]
  },
  {
   "cell_type": "markdown",
   "id": "10c8a80d-f325-4f3f-9645-4f39c50a788b",
   "metadata": {},
   "source": [
    "However, we are losing a lot of features by using a simple ``for`` loop to\n",
    "iterate over the data. In particular, we are missing out on:\n",
    "\n",
    "-  Batching the data\n",
    "-  Shuffling the data\n",
    "-  Load the data in parallel using ``multiprocessing`` workers.\n",
    "\n",
    "``torch.utils.data.DataLoader`` is an iterator which provides all these\n",
    "features. Parameters used below should be clear. One parameter of\n",
    "interest is ``collate_fn``. You can specify how exactly the samples need\n",
    "to be batched using ``collate_fn``. However, default collate should work\n",
    "fine for most use cases."
   ]
  },
  {
   "cell_type": "code",
   "execution_count": 35,
   "id": "e7d08865-b6dc-463f-92c2-794baaa409d6",
   "metadata": {},
   "outputs": [
    {
     "name": "stdout",
     "output_type": "stream",
     "text": [
      "0 [tensor([[0.4121, 0.6400, 0.4562, 0.7167, 0.2593, 0.3541, 0.6356, 0.2945, 0.5948,\n",
      "         0.1645],\n",
      "        [0.7267, 0.5730, 0.9610, 0.8486, 0.9782, 0.7357, 0.8519, 0.7064, 0.4918,\n",
      "         0.2652],\n",
      "        [0.0025, 0.2250, 0.0400, 0.6530, 0.0318, 0.9821, 0.9767, 0.0125, 0.5588,\n",
      "         0.5375],\n",
      "        [0.4564, 0.9618, 0.8243, 0.1598, 0.7774, 0.9541, 0.2908, 0.5126, 0.0225,\n",
      "         0.0921]], dtype=torch.float64), tensor([0.4261, 0.0130, 0.4419, 0.9958], dtype=torch.float64)]\n",
      "1 [tensor([[0.0705, 0.0157, 0.7512, 0.3397, 0.4951, 0.7023, 0.4475, 0.3260, 0.3975,\n",
      "         0.2843],\n",
      "        [0.3436, 0.2157, 0.8098, 0.6209, 0.7744, 0.8207, 0.3272, 0.2851, 0.2890,\n",
      "         0.4713],\n",
      "        [0.2234, 0.2743, 0.3949, 0.3141, 0.9276, 0.5118, 0.2595, 0.4587, 0.5350,\n",
      "         0.4912],\n",
      "        [0.5895, 0.3379, 0.0406, 0.2653, 0.6761, 0.1148, 0.6854, 0.8452, 0.5993,\n",
      "         0.6847]], dtype=torch.float64), tensor([0.3190, 0.7664, 0.6073, 0.3538], dtype=torch.float64)]\n",
      "2 [tensor([[0.4307, 0.5100, 0.8758, 0.9868, 0.4522, 0.1759, 0.3650, 0.3743, 0.7003,\n",
      "         0.0845],\n",
      "        [0.0837, 0.9952, 0.5301, 0.9864, 0.3297, 0.6472, 0.6276, 0.8033, 0.1245,\n",
      "         0.6729],\n",
      "        [0.8856, 0.2439, 0.7211, 0.7874, 0.7327, 0.7436, 0.2096, 0.3163, 0.1534,\n",
      "         0.7137],\n",
      "        [0.2099, 0.2965, 0.0053, 0.0019, 0.9278, 0.1687, 0.0257, 0.2160, 0.3352,\n",
      "         0.6042]], dtype=torch.float64), tensor([0.9640, 0.3084, 0.2871, 0.4506], dtype=torch.float64)]\n",
      "3 [tensor([[0.7556, 0.7323, 0.1504, 0.0066, 0.5234, 0.9872, 0.1053, 0.1258, 0.4135,\n",
      "         0.1324],\n",
      "        [0.9047, 0.7115, 0.9872, 0.0086, 0.8771, 0.1074, 0.3633, 0.5017, 0.9695,\n",
      "         0.8008],\n",
      "        [0.0049, 0.3416, 0.1687, 0.7649, 0.2721, 0.7691, 0.6538, 0.5568, 0.9753,\n",
      "         0.0665],\n",
      "        [0.9721, 0.3604, 0.0246, 0.5151, 0.3468, 0.4185, 0.8817, 0.3634, 0.6455,\n",
      "         0.1979]], dtype=torch.float64), tensor([0.2201, 0.5780, 0.9158, 0.7502], dtype=torch.float64)]\n",
      "4 [tensor([[0.9080, 0.3264, 0.9079, 0.8910, 0.9290, 0.3931, 0.8390, 0.1697, 0.5564,\n",
      "         0.4092],\n",
      "        [0.5778, 0.5157, 0.6915, 0.5769, 0.9748, 0.8741, 0.6416, 0.1188, 0.8249,\n",
      "         0.4222],\n",
      "        [0.6208, 0.7142, 0.0865, 0.7536, 0.0736, 0.8480, 0.8138, 0.7360, 0.7596,\n",
      "         0.2178],\n",
      "        [0.6868, 0.1037, 0.4678, 0.3007, 0.0775, 0.2222, 0.1830, 0.5671, 0.0279,\n",
      "         0.0325]], dtype=torch.float64), tensor([0.7519, 0.5783, 0.4193, 0.3705], dtype=torch.float64)]\n",
      "5 [tensor([[0.4310, 0.9586, 0.5780, 0.6590, 0.7352, 0.0692, 0.8341, 0.3773, 0.6219,\n",
      "         0.8349],\n",
      "        [0.4747, 0.9996, 0.4210, 0.1887, 0.5259, 0.4523, 0.8553, 0.2121, 0.2852,\n",
      "         0.7617],\n",
      "        [0.4351, 0.6558, 0.4984, 0.6059, 0.4535, 0.5129, 0.5553, 0.1835, 0.9783,\n",
      "         0.0255],\n",
      "        [0.2156, 0.5643, 0.3986, 0.4543, 0.2632, 0.4164, 0.0434, 0.6590, 0.9807,\n",
      "         0.6376]], dtype=torch.float64), tensor([0.3351, 0.3003, 0.0876, 0.5568], dtype=torch.float64)]\n",
      "6 [tensor([[0.2284, 0.4941, 0.6758, 0.7662, 0.8921, 0.5717, 0.4752, 0.4090, 0.2591,\n",
      "         0.9430],\n",
      "        [0.9854, 0.4520, 0.0799, 0.9426, 0.3528, 0.7047, 0.6922, 0.3738, 0.0293,\n",
      "         0.6895],\n",
      "        [0.0550, 0.7116, 0.8255, 0.7704, 0.4575, 0.7580, 0.3083, 0.9072, 0.9872,\n",
      "         0.8800],\n",
      "        [0.9124, 0.9726, 0.2848, 0.9749, 0.8612, 0.1594, 0.4862, 0.0992, 0.7188,\n",
      "         0.5356]], dtype=torch.float64), tensor([0.5655, 0.0617, 0.3141, 0.4566], dtype=torch.float64)]\n",
      "7 [tensor([[0.0634, 0.0512, 0.4883, 0.2951, 0.5939, 0.4601, 0.6710, 0.6328, 0.1810,\n",
      "         0.4290],\n",
      "        [0.2275, 0.2051, 0.4018, 0.0617, 0.5109, 0.4575, 0.5437, 0.0401, 0.7740,\n",
      "         0.4134],\n",
      "        [0.9820, 0.3062, 0.5077, 0.3159, 0.2258, 0.6990, 0.3654, 0.7139, 0.0762,\n",
      "         0.6413],\n",
      "        [0.7321, 0.5909, 0.9724, 0.9039, 0.1389, 0.6084, 0.7398, 0.2662, 0.1729,\n",
      "         0.8476]], dtype=torch.float64), tensor([0.6369, 0.9053, 0.9960, 0.8148], dtype=torch.float64)]\n",
      "8 [tensor([[0.1296, 0.3640, 0.3005, 0.5791, 0.6167, 0.3895, 0.0994, 0.9650, 0.7095,\n",
      "         0.6029],\n",
      "        [0.4153, 0.6323, 0.7625, 0.7944, 0.7559, 0.4297, 0.4085, 0.2723, 0.4809,\n",
      "         0.3990],\n",
      "        [0.0370, 0.3604, 0.5711, 0.1542, 0.3182, 0.5407, 0.0174, 0.7656, 0.8739,\n",
      "         0.1261],\n",
      "        [0.9744, 0.5128, 0.3104, 0.8367, 0.7280, 0.9393, 0.0084, 0.5093, 0.6442,\n",
      "         0.7700]], dtype=torch.float64), tensor([0.1666, 0.9126, 0.6087, 0.9060], dtype=torch.float64)]\n",
      "9 [tensor([[0.7180, 0.0952, 0.7256, 0.5108, 0.9342, 0.5674, 0.2882, 0.1553, 0.5894,\n",
      "         0.5284],\n",
      "        [0.6865, 0.1752, 0.6386, 0.8009, 0.7599, 0.7743, 0.9630, 0.1297, 0.8727,\n",
      "         0.4999],\n",
      "        [0.4563, 0.3318, 0.1740, 0.7415, 0.4884, 0.2253, 0.9455, 0.2048, 0.7991,\n",
      "         0.7157],\n",
      "        [0.0795, 0.9193, 0.1307, 0.4419, 0.3886, 0.7560, 0.0712, 0.3305, 0.5791,\n",
      "         0.7543]], dtype=torch.float64), tensor([0.8376, 0.1065, 0.7365, 0.8144], dtype=torch.float64)]\n",
      "10 [tensor([[4.6122e-01, 2.0009e-01, 9.8020e-02, 2.6781e-02, 4.5798e-01, 8.8291e-01,\n",
      "         7.7176e-01, 1.2308e-01, 3.0919e-01, 7.0422e-01],\n",
      "        [8.4248e-01, 5.4498e-01, 2.6557e-01, 8.7399e-01, 6.7488e-01, 5.7878e-01,\n",
      "         7.2452e-01, 8.1075e-01, 1.1634e-01, 1.9546e-04],\n",
      "        [9.3281e-01, 6.2224e-01, 6.0190e-01, 7.1402e-01, 3.6035e-01, 8.1414e-01,\n",
      "         8.4055e-01, 7.0508e-01, 5.1257e-01, 4.8979e-01],\n",
      "        [2.1633e-01, 5.4249e-01, 6.9186e-01, 2.2967e-01, 9.5963e-01, 5.3558e-01,\n",
      "         1.2697e-01, 8.4199e-01, 8.0890e-01, 1.1508e-01]], dtype=torch.float64), tensor([0.9715, 0.6790, 0.5153, 0.5850], dtype=torch.float64)]\n",
      "11 [tensor([[0.4749, 0.6998, 0.1870, 0.2501, 0.9440, 0.0151, 0.9609, 0.7667, 0.4847,\n",
      "         0.4408],\n",
      "        [0.0939, 0.9692, 0.2528, 0.1247, 0.6572, 0.3039, 0.9640, 0.1776, 0.1866,\n",
      "         0.6309],\n",
      "        [0.3714, 0.0053, 0.9093, 0.7656, 0.5768, 0.8022, 0.1143, 0.2911, 0.8340,\n",
      "         0.3477],\n",
      "        [0.4849, 0.5857, 0.9144, 0.9875, 0.7064, 0.2173, 0.9764, 0.7882, 0.3631,\n",
      "         0.8996]], dtype=torch.float64), tensor([0.9314, 0.8499, 0.1749, 0.8369], dtype=torch.float64)]\n",
      "12 [tensor([[0.8962, 0.1271, 0.6562, 0.1382, 0.8472, 0.1644, 0.6518, 0.9164, 0.2672,\n",
      "         0.0425],\n",
      "        [0.2610, 0.0679, 0.6299, 0.0158, 0.7496, 0.4420, 0.2464, 0.4955, 0.3194,\n",
      "         0.5199],\n",
      "        [0.3660, 0.6897, 0.5615, 0.2063, 0.4862, 0.2762, 0.6445, 0.7543, 0.6124,\n",
      "         0.6033],\n",
      "        [0.1759, 0.6932, 0.1667, 0.1163, 0.6815, 0.2728, 0.0140, 0.3991, 0.7333,\n",
      "         0.5327]], dtype=torch.float64), tensor([0.3402, 0.6774, 0.5742, 0.4573], dtype=torch.float64)]\n",
      "13 [tensor([[0.7857, 0.6752, 0.1392, 0.7370, 0.6064, 0.0213, 0.5781, 0.3310, 0.7189,\n",
      "         0.9809],\n",
      "        [0.0525, 0.5101, 0.2846, 0.2154, 0.3315, 0.9293, 0.0684, 0.3361, 0.6772,\n",
      "         0.7809],\n",
      "        [0.7913, 0.6984, 0.4106, 0.3548, 0.5456, 0.3553, 0.3315, 0.7642, 0.6752,\n",
      "         0.5510],\n",
      "        [0.8190, 0.4046, 0.4968, 0.7750, 0.7515, 0.1396, 0.5780, 0.0675, 0.0814,\n",
      "         0.8277]], dtype=torch.float64), tensor([0.0720, 0.2481, 0.7577, 0.9573], dtype=torch.float64)]\n",
      "14 [tensor([[0.0064, 0.6530, 0.7500, 0.2245, 0.1160, 0.4132, 0.0245, 0.8493, 0.9501,\n",
      "         0.8927],\n",
      "        [0.2824, 0.6800, 0.8914, 0.9686, 0.8080, 0.0582, 0.3806, 0.5750, 0.8870,\n",
      "         0.8521],\n",
      "        [0.3529, 0.1069, 0.3157, 0.5995, 0.8593, 0.7452, 0.4775, 0.0398, 0.7376,\n",
      "         0.2282],\n",
      "        [0.2110, 0.5614, 0.4985, 0.1482, 0.9473, 0.6777, 0.0074, 0.1759, 0.3130,\n",
      "         0.3452]], dtype=torch.float64), tensor([0.9839, 0.5006, 0.3178, 0.3796], dtype=torch.float64)]\n",
      "15 [tensor([[0.8767, 0.6882, 0.0764, 0.5870, 0.9223, 0.7894, 0.9298, 0.8381, 0.9265,\n",
      "         0.4528],\n",
      "        [0.2176, 0.8524, 0.4934, 0.1489, 0.2466, 0.1242, 0.2949, 0.4949, 0.0609,\n",
      "         0.5579],\n",
      "        [0.7592, 0.5287, 0.7923, 0.0928, 0.0277, 0.5774, 0.6446, 0.1841, 0.2966,\n",
      "         0.6645],\n",
      "        [0.8598, 0.8801, 0.6972, 0.2447, 0.3803, 0.1487, 0.4824, 0.0513, 0.4239,\n",
      "         0.3737]], dtype=torch.float64), tensor([0.6352, 0.2311, 0.0509, 0.4866], dtype=torch.float64)]\n",
      "16 [tensor([[0.0274, 0.3864, 0.9905, 0.9209, 0.0095, 0.5720, 0.1195, 0.9210, 0.0794,\n",
      "         0.2387],\n",
      "        [0.3382, 0.2967, 0.2317, 0.1067, 0.3005, 0.1683, 0.4031, 0.3973, 0.5274,\n",
      "         0.5064],\n",
      "        [0.3071, 0.5949, 0.2775, 0.3671, 0.6332, 0.7772, 0.7587, 0.2481, 0.7644,\n",
      "         0.2926],\n",
      "        [0.0955, 0.1311, 0.6698, 0.9489, 0.5872, 0.0734, 0.5536, 0.3085, 0.5591,\n",
      "         0.2095]], dtype=torch.float64), tensor([0.9154, 0.4985, 0.5033, 0.5609], dtype=torch.float64)]\n",
      "17 [tensor([[0.8951, 0.5568, 0.1964, 0.5066, 0.8046, 0.6771, 0.7076, 0.4276, 0.6819,\n",
      "         0.0767],\n",
      "        [0.0523, 0.5071, 0.8322, 0.9549, 0.2013, 0.6783, 0.7331, 0.8425, 0.0745,\n",
      "         0.2535],\n",
      "        [0.4298, 0.7278, 0.1530, 0.2880, 0.5663, 0.4746, 0.6101, 0.6394, 0.8449,\n",
      "         0.4968],\n",
      "        [0.7216, 0.2377, 0.1287, 0.5741, 0.1984, 0.9272, 0.0317, 0.6792, 0.2374,\n",
      "         0.5321]], dtype=torch.float64), tensor([0.8826, 0.1164, 0.4228, 0.5635], dtype=torch.float64)]\n",
      "18 [tensor([[0.1998, 0.5184, 0.9994, 0.8017, 0.9532, 0.6203, 0.7466, 0.5870, 0.9274,\n",
      "         0.8493],\n",
      "        [0.0272, 0.2202, 0.3070, 0.3600, 0.2188, 0.6209, 0.3401, 0.3800, 0.7455,\n",
      "         0.4819],\n",
      "        [0.9874, 0.2992, 0.3093, 0.2443, 0.6819, 0.2325, 0.3717, 0.8280, 0.1210,\n",
      "         0.3385],\n",
      "        [0.5979, 0.5034, 0.3895, 0.5924, 0.4127, 0.8601, 0.5230, 0.5751, 0.8185,\n",
      "         0.8418]], dtype=torch.float64), tensor([0.9023, 0.1935, 0.0684, 0.5292], dtype=torch.float64)]\n",
      "19 [tensor([[0.9876, 0.5253, 0.9386, 0.5403, 0.2717, 0.4518, 0.5433, 0.9810, 0.8424,\n",
      "         0.7093],\n",
      "        [0.8480, 0.4988, 0.1082, 0.4791, 0.1597, 0.6176, 0.4088, 0.4997, 0.1059,\n",
      "         0.3922],\n",
      "        [0.1733, 0.6227, 0.7682, 0.0182, 0.2049, 0.2561, 0.1811, 0.2665, 0.2696,\n",
      "         0.1783],\n",
      "        [0.1004, 0.9283, 0.9521, 0.1226, 0.5469, 0.6763, 0.8689, 0.6981, 0.6481,\n",
      "         0.4669]], dtype=torch.float64), tensor([0.1378, 0.5626, 0.0516, 0.5440], dtype=torch.float64)]\n",
      "20 [tensor([[0.2762, 0.3643, 0.2917, 0.1970, 0.5239, 0.3675, 0.2838, 0.7498, 0.2202,\n",
      "         0.6007],\n",
      "        [0.4821, 0.0869, 0.5725, 0.5617, 0.2881, 0.5605, 0.6089, 0.6341, 0.7616,\n",
      "         0.3442],\n",
      "        [0.0838, 0.8589, 0.9725, 0.9628, 0.2494, 0.0172, 0.4783, 0.0952, 0.8252,\n",
      "         0.9475],\n",
      "        [0.0780, 0.7400, 0.2018, 0.1638, 0.8007, 0.5854, 0.8610, 0.8225, 0.2016,\n",
      "         0.8049]], dtype=torch.float64), tensor([0.7069, 0.3651, 0.0285, 0.8046], dtype=torch.float64)]\n",
      "21 [tensor([[0.5923, 0.2345, 0.7182, 0.5295, 0.5817, 0.5333, 0.3270, 0.3096, 0.2045,\n",
      "         0.6922],\n",
      "        [0.3583, 0.4886, 0.3911, 0.3233, 0.9378, 0.3276, 0.8870, 0.9343, 0.6870,\n",
      "         0.0991],\n",
      "        [0.2236, 0.6488, 0.9575, 0.8636, 0.0728, 0.9842, 0.8415, 0.4740, 0.0393,\n",
      "         0.3530],\n",
      "        [0.2345, 0.8874, 0.5338, 0.2310, 0.1941, 0.6248, 0.0533, 0.8613, 0.2210,\n",
      "         0.4293]], dtype=torch.float64), tensor([0.5341, 0.4769, 0.3408, 0.8604], dtype=torch.float64)]\n",
      "22 [tensor([[0.0862, 0.9472, 0.2988, 0.2473, 0.6736, 0.9161, 0.1011, 0.0962, 0.8671,\n",
      "         0.7547],\n",
      "        [0.1042, 0.5756, 0.0083, 0.1460, 0.0734, 0.6153, 0.2864, 0.2303, 0.6188,\n",
      "         0.7768],\n",
      "        [0.0931, 0.1437, 0.7782, 0.7803, 0.6609, 0.5142, 0.3031, 0.2400, 0.7928,\n",
      "         0.4312],\n",
      "        [0.1214, 0.9649, 0.3400, 0.2024, 0.3061, 0.8842, 0.9160, 0.9203, 0.4108,\n",
      "         0.7157]], dtype=torch.float64), tensor([0.5530, 0.3922, 0.4992, 0.3138], dtype=torch.float64)]\n",
      "23 [tensor([[0.8881, 0.6753, 0.8752, 0.8816, 0.8332, 0.3293, 0.0551, 0.4699, 0.0903,\n",
      "         0.6777],\n",
      "        [0.3419, 0.3633, 0.6492, 0.7860, 0.4051, 0.6260, 0.6397, 0.6626, 0.7793,\n",
      "         0.5064],\n",
      "        [0.4885, 0.1555, 0.5392, 0.8907, 0.5690, 0.3780, 0.3779, 0.3518, 0.1109,\n",
      "         0.7168],\n",
      "        [0.4637, 0.4055, 0.5926, 0.1591, 0.8287, 0.9410, 0.6407, 0.7782, 0.9651,\n",
      "         0.2574]], dtype=torch.float64), tensor([0.0891, 0.1062, 0.3459, 0.1232], dtype=torch.float64)]\n",
      "24 [tensor([[0.2597, 0.9226, 0.5025, 0.6520, 0.3515, 0.6618, 0.5981, 0.3680, 0.4798,\n",
      "         0.3550],\n",
      "        [0.6075, 0.2420, 0.4637, 0.2365, 0.8700, 0.0441, 0.4776, 0.0263, 0.7416,\n",
      "         0.0728],\n",
      "        [0.8346, 0.0837, 0.0470, 0.2749, 0.3667, 0.0798, 0.8753, 0.4002, 0.3018,\n",
      "         0.5739],\n",
      "        [0.8654, 0.1501, 0.3970, 0.2469, 0.7139, 0.2529, 0.9113, 0.0488, 0.3007,\n",
      "         0.1704]], dtype=torch.float64), tensor([0.9370, 0.8315, 0.2732, 0.2641], dtype=torch.float64)]\n"
     ]
    }
   ],
   "source": [
    "x = np.random.rand(100, 10)\n",
    "y = np.random.rand(100)\n",
    "\n",
    "dataset = FakeDataset(x, y)\n",
    "dataloader = DataLoader(dataset, batch_size=4,\n",
    "                        shuffle=True, num_workers=4)\n",
    "\n",
    "for i_batch, sample_batched in enumerate(dataloader):\n",
    "    print(i_batch, sample_batched)"
   ]
  },
  {
   "cell_type": "markdown",
   "id": "1126dc3c-9c4e-4b0b-b97d-62ac746bbe8f",
   "metadata": {},
   "source": [
    "Mixed Presision Training\n",
    "===================================================\n",
    "**Author**: `Chi-Liang Liu <https://liangtaiwan.github.io>`\n",
    "**Ref**: https://github.com/NVIDIA/apex\n",
    "Using mixed precision to train your networks can be:\n",
    "- 2-4x faster\n",
    "- memory-efficient\n",
    "in only 3 lines of Python."
   ]
  },
  {
   "cell_type": "markdown",
   "id": "7631d874-3def-4163-9803-3c315abcd2a7",
   "metadata": {},
   "source": [
    "# Apex \n",
    "\n",
    "NVIDIA-maintained utilities to streamline mixed precision and distributed training in Pytorch. Some of the code here will be included in upstream Pytorch eventually. The intention of Apex is to make up-to-date utilities available to users as quickly as possible."
   ]
  },
  {
   "cell_type": "markdown",
   "id": "b88f47e0-b518-4ec7-b48f-b5bee596fa5e",
   "metadata": {},
   "source": [
    "## apex.amp\n",
    "\n",
    "Amp allows users to easily experiment with different pure and mixed precision modes.\n",
    "Commonly-used default modes are chosen by\n",
    "selecting an \"optimization level\" or ``opt_level``; each ``opt_level`` establishes a set of\n",
    "properties that govern Amp's implementation of pure or mixed precision training.\n",
    "Finer-grained control of how a given ``opt_level`` behaves can be achieved by passing values for\n",
    "particular properties directly to ``amp.initialize``.  These manually specified values\n",
    "override the defaults established by the ``opt_level``."
   ]
  },
  {
   "cell_type": "code",
   "execution_count": null,
   "id": "bf6f8238-f862-4528-b815-61b27cc21079",
   "metadata": {},
   "outputs": [],
   "source": [
    "from apex import amp\n",
    "\n",
    "# Declare model and optimizer as usual, with default (FP32) precision\n",
    "model = torch.nn.Linear(10, 100).cuda()\n",
    "optimizer = torch.optim.SGD(model.parameters(), lr=1e-3)\n",
    "\n",
    "# Allow Amp to perform casts as required by the opt_level\n",
    "model, optimizer = amp.initialize(model, optimizer, opt_level=\"O1\")\n",
    "...\n",
    "# loss.backward() becomes:\n",
    "with amp.scale_loss(loss, optimizer) as scaled_loss:\n",
    "    scaled_loss.backward()\n",
    "..."
   ]
  }
 ],
 "metadata": {
  "kernelspec": {
   "display_name": "Python 3",
   "language": "python",
   "name": "python3"
  },
  "language_info": {
   "codemirror_mode": {
    "name": "ipython",
    "version": 3
   },
   "file_extension": ".py",
   "mimetype": "text/x-python",
   "name": "python",
   "nbconvert_exporter": "python",
   "pygments_lexer": "ipython3",
   "version": "3.6.9"
  }
 },
 "nbformat": 4,
 "nbformat_minor": 5
}
